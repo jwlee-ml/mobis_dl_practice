{
  "nbformat": 4,
  "nbformat_minor": 0,
  "metadata": {
    "kernelspec": {
      "name": "python3",
      "display_name": "Python 3"
    },
    "language_info": {
      "codemirror_mode": {
        "name": "ipython",
        "version": 3
      },
      "file_extension": ".py",
      "mimetype": "text/x-python",
      "name": "python",
      "nbconvert_exporter": "python",
      "pygments_lexer": "ipython3",
      "version": "3.7.3"
    },
    "colab": {
      "name": "10_6.imdb_text_classification.ipynb",
      "provenance": [],
      "collapsed_sections": []
    },
    "accelerator": "GPU"
  },
  "cells": [
    {
      "cell_type": "markdown",
      "metadata": {
        "id": "oDLTackecasD",
        "colab_type": "text"
      },
      "source": [
        "# IMDB dataset을 이용한 text classification\n",
        "\n",
        "- forked from https://github.com/tensorflow/docs/blob/master/site/ko/tutorials/keras/text_classification.ipynb   \n",
        "\n",
        "\n",
        "이번 실습에서는 IMDB(Internet Movie DataBase) dataset을 이용하여,   \n",
        "영화평에 대한 긍정/부정의 sentimental anaylsis classification을 학습해봅니다."
      ]
    },
    {
      "cell_type": "markdown",
      "metadata": {
        "id": "4I6ISV0ncasE",
        "colab_type": "text"
      },
      "source": [
        "이 노트북은 영화 리뷰(review) 텍스트를 긍정(positive) 또는 부정(negative)으로 분류합니다. 이 예제는 이진(binary)-또는 클래스(class)가 두 개인- 분류 문제입니다. 이진 분류는 머신러닝에서 중요하고 널리 사용됩니다.\n",
        "\n",
        "여기에서는 인터넷 영화 데이터베이스(Internet Movie Database)에서 수집한 50,000개의 영화 리뷰 텍스트를 담은 IMDB 데이터셋을 사용하겠습니다. 25,000개 리뷰는 훈련용으로, 25,000개는 테스트용으로 나뉘어져 있습니다. 훈련 세트와 테스트 세트의 클래스는 균형이 잡혀 있습니다. 즉 긍정적인 리뷰와 부정적인 리뷰의 개수가 동일합니다."
      ]
    },
    {
      "cell_type": "code",
      "metadata": {
        "id": "MabFw2aCgVv_",
        "colab_type": "code",
        "outputId": "42fba808-97a5-49a8-9208-dbd2f14e4e5b",
        "colab": {
          "base_uri": "https://localhost:8080/",
          "height": 36
        }
      },
      "source": [
        "try:\n",
        "  # %tensorflow_version only exists in Colab.\n",
        "  %tensorflow_version 2.x\n",
        "except Exception:\n",
        "  pass"
      ],
      "execution_count": 0,
      "outputs": [
        {
          "output_type": "stream",
          "text": [
            "TensorFlow 2.x selected.\n"
          ],
          "name": "stdout"
        }
      ]
    },
    {
      "cell_type": "code",
      "metadata": {
        "id": "MaAxfbUycasF",
        "colab_type": "code",
        "outputId": "38171753-445c-4ca5-ec6e-aa1330df44ac",
        "colab": {
          "base_uri": "https://localhost:8080/",
          "height": 55
        }
      },
      "source": [
        "## library import\n",
        "import tensorflow as tf\n",
        "from tensorflow import keras\n",
        "from tensorflow.keras import layers\n",
        "from tensorflow.keras.utils import to_categorical\n",
        "import numpy as np\n",
        "import matplotlib.pyplot as plt\n",
        "\n",
        "print(tf.__version__)\n",
        "print(keras.__version__)"
      ],
      "execution_count": 0,
      "outputs": [
        {
          "output_type": "stream",
          "text": [
            "2.1.0-rc1\n",
            "2.2.4-tf\n"
          ],
          "name": "stdout"
        }
      ]
    },
    {
      "cell_type": "markdown",
      "metadata": {
        "id": "qR-RhjemcasI",
        "colab_type": "text"
      },
      "source": [
        "## Preparing Data"
      ]
    },
    {
      "cell_type": "code",
      "metadata": {
        "id": "_gxBs85DcasJ",
        "colab_type": "code",
        "colab": {}
      },
      "source": [
        "'''\n",
        "imdb data를 loading합니다\n",
        "num_words=vocab_size는 imdb data에서 가장 많이 등장하는 10000개의 단어만 선택하고,\n",
        "나머지는 unknown 처리하게 합니다\n",
        "'''\n",
        "\n",
        "vocab_size = 10000\n",
        "imdb = keras.datasets.imdb\n",
        "(train_data, train_labels), (test_data, test_labels) = imdb.load_data(num_words=vocab_size)"
      ],
      "execution_count": 0,
      "outputs": []
    },
    {
      "cell_type": "code",
      "metadata": {
        "id": "f2l-C1-7casK",
        "colab_type": "code",
        "outputId": "5ae539e4-8f89-4181-aae5-7942d06e1d91",
        "colab": {
          "base_uri": "https://localhost:8080/",
          "height": 36
        }
      },
      "source": [
        "print(\"훈련 샘플: {}, 레이블: {}\".format(len(train_data), len(train_labels)))"
      ],
      "execution_count": 0,
      "outputs": [
        {
          "output_type": "stream",
          "text": [
            "훈련 샘플: 25000, 레이블: 25000\n"
          ],
          "name": "stdout"
        }
      ]
    },
    {
      "cell_type": "code",
      "metadata": {
        "id": "wDHm4kBqcasM",
        "colab_type": "code",
        "outputId": "1ddb1740-1252-49e9-8f1a-add1b6828851",
        "colab": {
          "base_uri": "https://localhost:8080/",
          "height": 56
        }
      },
      "source": [
        "## 첫번째 data가 어떻게 구성되어 있는지 확인\n",
        "print(train_data[0])"
      ],
      "execution_count": 0,
      "outputs": [
        {
          "output_type": "stream",
          "text": [
            "[1, 14, 22, 16, 43, 530, 973, 1622, 1385, 65, 458, 4468, 66, 3941, 4, 173, 36, 256, 5, 25, 100, 43, 838, 112, 50, 670, 2, 9, 35, 480, 284, 5, 150, 4, 172, 112, 167, 2, 336, 385, 39, 4, 172, 4536, 1111, 17, 546, 38, 13, 447, 4, 192, 50, 16, 6, 147, 2025, 19, 14, 22, 4, 1920, 4613, 469, 4, 22, 71, 87, 12, 16, 43, 530, 38, 76, 15, 13, 1247, 4, 22, 17, 515, 17, 12, 16, 626, 18, 2, 5, 62, 386, 12, 8, 316, 8, 106, 5, 4, 2223, 5244, 16, 480, 66, 3785, 33, 4, 130, 12, 16, 38, 619, 5, 25, 124, 51, 36, 135, 48, 25, 1415, 33, 6, 22, 12, 215, 28, 77, 52, 5, 14, 407, 16, 82, 2, 8, 4, 107, 117, 5952, 15, 256, 4, 2, 7, 3766, 5, 723, 36, 71, 43, 530, 476, 26, 400, 317, 46, 7, 4, 2, 1029, 13, 104, 88, 4, 381, 15, 297, 98, 32, 2071, 56, 26, 141, 6, 194, 7486, 18, 4, 226, 22, 21, 134, 476, 26, 480, 5, 144, 30, 5535, 18, 51, 36, 28, 224, 92, 25, 104, 4, 226, 65, 16, 38, 1334, 88, 12, 16, 283, 5, 16, 4472, 113, 103, 32, 15, 16, 5345, 19, 178, 32]\n"
          ],
          "name": "stdout"
        }
      ]
    },
    {
      "cell_type": "code",
      "metadata": {
        "id": "lQoD_5YVcasO",
        "colab_type": "code",
        "outputId": "26b8a8a3-7f5a-41f8-a91b-29a327cb64fa",
        "colab": {
          "base_uri": "https://localhost:8080/",
          "height": 36
        }
      },
      "source": [
        "## 첫번째, 두번째 data의 단어 수 확인 - 각 data마다 단어 수가 다른 것을 알 수 있습니다\n",
        "len(train_data[0]), len(train_data[1])"
      ],
      "execution_count": 0,
      "outputs": [
        {
          "output_type": "execute_result",
          "data": {
            "text/plain": [
              "(218, 189)"
            ]
          },
          "metadata": {
            "tags": []
          },
          "execution_count": 6
        }
      ]
    },
    {
      "cell_type": "code",
      "metadata": {
        "id": "rUMvqKAzcasP",
        "colab_type": "code",
        "outputId": "6a0701e9-dcd3-4adf-8f18-10be7575a0ea",
        "colab": {
          "base_uri": "https://localhost:8080/",
          "height": 55
        }
      },
      "source": [
        "## 단어와 정수 인덱스를 매핑한 딕셔너리\n",
        "word_index = imdb.get_word_index()\n",
        "\n",
        "## 처음 몇 개 인덱스는 사전에 정의되어 있습니다\n",
        "word_index = {k:(v+3) for k,v in word_index.items()}\n",
        "word_index[\"<PAD>\"] = 0\n",
        "word_index[\"<START>\"] = 1\n",
        "word_index[\"<UNK>\"] = 2  # unknown\n",
        "word_index[\"<UNUSED>\"] = 3\n",
        "\n",
        "reverse_word_index = dict([(value, key) for (key, value) in word_index.items()])\n",
        "\n",
        "## 정수를 입력받아서 text를 출력해주는 함수\n",
        "def decode_review(text):\n",
        "    return ' '.join([reverse_word_index.get(i, '?') for i in text])"
      ],
      "execution_count": 0,
      "outputs": [
        {
          "output_type": "stream",
          "text": [
            "Downloading data from https://storage.googleapis.com/tensorflow/tf-keras-datasets/imdb_word_index.json\n",
            "1646592/1641221 [==============================] - 0s 0us/step\n"
          ],
          "name": "stdout"
        }
      ]
    },
    {
      "cell_type": "code",
      "metadata": {
        "id": "TZ6PTB20casR",
        "colab_type": "code",
        "outputId": "dd850ee4-af4c-4f79-914a-1372980fc45f",
        "colab": {
          "base_uri": "https://localhost:8080/",
          "height": 56
        }
      },
      "source": [
        "## 첫번째 data를 text로 바꾸어 출력\n",
        "decode_review(train_data[0])"
      ],
      "execution_count": 0,
      "outputs": [
        {
          "output_type": "execute_result",
          "data": {
            "text/plain": [
              "\"<START> this film was just brilliant casting location scenery story direction everyone's really suited the part they played and you could just imagine being there robert <UNK> is an amazing actor and now the same being director <UNK> father came from the same scottish island as myself so i loved the fact there was a real connection with this film the witty remarks throughout the film were great it was just brilliant so much that i bought the film as soon as it was released for <UNK> and would recommend it to everyone to watch and the fly fishing was amazing really cried at the end it was so sad and you know what they say if you cry at a film it must have been good and this definitely was also <UNK> to the two little boy's that played the <UNK> of norman and paul they were just brilliant children are often left out of the <UNK> list i think because the stars that play them all grown up are such a big profile for the whole film but these children are amazing and should be praised for what they have done don't you think the whole story was so lovely because it was true and was someone's life after all that was shared with us all\""
            ]
          },
          "metadata": {
            "tags": []
          },
          "execution_count": 8
        }
      ]
    },
    {
      "cell_type": "code",
      "metadata": {
        "id": "eNEpIoVAeTZ-",
        "colab_type": "code",
        "outputId": "8f9fef80-cae8-4de9-c448-fd5002e243c0",
        "colab": {
          "base_uri": "https://localhost:8080/",
          "height": 36
        }
      },
      "source": [
        "train_labels[0]"
      ],
      "execution_count": 0,
      "outputs": [
        {
          "output_type": "execute_result",
          "data": {
            "text/plain": [
              "1"
            ]
          },
          "metadata": {
            "tags": []
          },
          "execution_count": 9
        }
      ]
    },
    {
      "cell_type": "code",
      "metadata": {
        "id": "ohQDPST5casS",
        "colab_type": "code",
        "colab": {}
      },
      "source": [
        "## 문장의 최대 단어수 지정\n",
        "maxlen = 500\n",
        "\n",
        "## RNN에 넣기 위하여 모든 문장을 최대 단어수로 맞춰줍니다\n",
        "## 이 때 pad_sequence를 사용하여 문장의 뒷부분에 0(<PAD>)을 채우는 방식으로 padding을 해줍니다\n",
        "train_data = keras.preprocessing.sequence.pad_sequences(train_data,\n",
        "                                                        value=word_index[\"<PAD>\"],\n",
        "                                                        padding='post',\n",
        "                                                        maxlen=maxlen)\n",
        "\n",
        "test_data = keras.preprocessing.sequence.pad_sequences(test_data,\n",
        "                                                       value=word_index[\"<PAD>\"],\n",
        "                                                       padding='post',\n",
        "                                                       maxlen=maxlen)"
      ],
      "execution_count": 0,
      "outputs": []
    },
    {
      "cell_type": "code",
      "metadata": {
        "id": "Gvoqsz8LcasT",
        "colab_type": "code",
        "outputId": "91112db8-56c0-4505-bffc-5088ab10505a",
        "colab": {
          "base_uri": "https://localhost:8080/",
          "height": 701
        }
      },
      "source": [
        "## padding이 잘 되었는지 확인\n",
        "print(train_data[0])"
      ],
      "execution_count": 0,
      "outputs": [
        {
          "output_type": "stream",
          "text": [
            "[   1   14   22   16   43  530  973 1622 1385   65  458 4468   66 3941\n",
            "    4  173   36  256    5   25  100   43  838  112   50  670    2    9\n",
            "   35  480  284    5  150    4  172  112  167    2  336  385   39    4\n",
            "  172 4536 1111   17  546   38   13  447    4  192   50   16    6  147\n",
            " 2025   19   14   22    4 1920 4613  469    4   22   71   87   12   16\n",
            "   43  530   38   76   15   13 1247    4   22   17  515   17   12   16\n",
            "  626   18    2    5   62  386   12    8  316    8  106    5    4 2223\n",
            " 5244   16  480   66 3785   33    4  130   12   16   38  619    5   25\n",
            "  124   51   36  135   48   25 1415   33    6   22   12  215   28   77\n",
            "   52    5   14  407   16   82    2    8    4  107  117 5952   15  256\n",
            "    4    2    7 3766    5  723   36   71   43  530  476   26  400  317\n",
            "   46    7    4    2 1029   13  104   88    4  381   15  297   98   32\n",
            " 2071   56   26  141    6  194 7486   18    4  226   22   21  134  476\n",
            "   26  480    5  144   30 5535   18   51   36   28  224   92   25  104\n",
            "    4  226   65   16   38 1334   88   12   16  283    5   16 4472  113\n",
            "  103   32   15   16 5345   19  178   32    0    0    0    0    0    0\n",
            "    0    0    0    0    0    0    0    0    0    0    0    0    0    0\n",
            "    0    0    0    0    0    0    0    0    0    0    0    0    0    0\n",
            "    0    0    0    0    0    0    0    0    0    0    0    0    0    0\n",
            "    0    0    0    0    0    0    0    0    0    0    0    0    0    0\n",
            "    0    0    0    0    0    0    0    0    0    0    0    0    0    0\n",
            "    0    0    0    0    0    0    0    0    0    0    0    0    0    0\n",
            "    0    0    0    0    0    0    0    0    0    0    0    0    0    0\n",
            "    0    0    0    0    0    0    0    0    0    0    0    0    0    0\n",
            "    0    0    0    0    0    0    0    0    0    0    0    0    0    0\n",
            "    0    0    0    0    0    0    0    0    0    0    0    0    0    0\n",
            "    0    0    0    0    0    0    0    0    0    0    0    0    0    0\n",
            "    0    0    0    0    0    0    0    0    0    0    0    0    0    0\n",
            "    0    0    0    0    0    0    0    0    0    0    0    0    0    0\n",
            "    0    0    0    0    0    0    0    0    0    0    0    0    0    0\n",
            "    0    0    0    0    0    0    0    0    0    0    0    0    0    0\n",
            "    0    0    0    0    0    0    0    0    0    0    0    0    0    0\n",
            "    0    0    0    0    0    0    0    0    0    0    0    0    0    0\n",
            "    0    0    0    0    0    0    0    0    0    0    0    0    0    0\n",
            "    0    0    0    0    0    0    0    0    0    0    0    0    0    0\n",
            "    0    0    0    0    0    0    0    0    0    0]\n"
          ],
          "name": "stdout"
        }
      ]
    },
    {
      "cell_type": "markdown",
      "metadata": {
        "id": "L1Y2n6B5casV",
        "colab_type": "text"
      },
      "source": [
        "## Model"
      ]
    },
    {
      "cell_type": "code",
      "metadata": {
        "id": "GHtXpkAScasW",
        "colab_type": "code",
        "outputId": "e86404ef-abc6-42a4-f5c3-0dca0930cf65",
        "colab": {
          "base_uri": "https://localhost:8080/",
          "height": 321
        }
      },
      "source": [
        "## word embedding에서 사용할 word vector의 크기를 지정\n",
        "embedding_dim=16\n",
        "\n",
        "## Model 만들기\n",
        "## 여기서 CNN의 channel역할을 하는 것이 위에서 설정한 word vector의 크기입니다\n",
        "## 즉 golbal average pooling을 하면 batch_size, channel의 2차원의 output이 나옵니다\n",
        "model = keras.Sequential([\n",
        "  layers.Embedding(vocab_size, embedding_dim, input_length=maxlen),\n",
        "  layers.GlobalAveragePooling1D(),\n",
        "  layers.Dense(16, activation='relu'),\n",
        "  layers.Dense(1, activation='sigmoid')\n",
        "])\n",
        "\n",
        "model.summary()"
      ],
      "execution_count": 0,
      "outputs": [
        {
          "output_type": "stream",
          "text": [
            "Model: \"sequential\"\n",
            "_________________________________________________________________\n",
            "Layer (type)                 Output Shape              Param #   \n",
            "=================================================================\n",
            "embedding (Embedding)        (None, 500, 16)           160000    \n",
            "_________________________________________________________________\n",
            "global_average_pooling1d (Gl (None, 16)                0         \n",
            "_________________________________________________________________\n",
            "dense (Dense)                (None, 16)                272       \n",
            "_________________________________________________________________\n",
            "dense_1 (Dense)              (None, 1)                 17        \n",
            "=================================================================\n",
            "Total params: 160,289\n",
            "Trainable params: 160,289\n",
            "Non-trainable params: 0\n",
            "_________________________________________________________________\n"
          ],
          "name": "stdout"
        }
      ]
    },
    {
      "cell_type": "markdown",
      "metadata": {
        "id": "Oa40lfsTcasX",
        "colab_type": "text"
      },
      "source": [
        "## Model Compile"
      ]
    },
    {
      "cell_type": "code",
      "metadata": {
        "id": "vzsTvpAGcasX",
        "colab_type": "code",
        "colab": {}
      },
      "source": [
        "model.compile(optimizer='adam',\n",
        "              loss='binary_crossentropy',\n",
        "              metrics=['accuracy'])"
      ],
      "execution_count": 0,
      "outputs": []
    },
    {
      "cell_type": "markdown",
      "metadata": {
        "id": "jVIuiV60casZ",
        "colab_type": "text"
      },
      "source": [
        "## Splitting Train/Validation data"
      ]
    },
    {
      "cell_type": "code",
      "metadata": {
        "id": "Qstsid0jcasZ",
        "colab_type": "code",
        "colab": {}
      },
      "source": [
        "x_val = train_data[:10000]\n",
        "partial_x_train = train_data[10000:]\n",
        "\n",
        "y_val = train_labels[:10000]\n",
        "partial_y_train = train_labels[10000:]"
      ],
      "execution_count": 0,
      "outputs": []
    },
    {
      "cell_type": "markdown",
      "metadata": {
        "id": "-lsVR-gWcasa",
        "colab_type": "text"
      },
      "source": [
        "## Training"
      ]
    },
    {
      "cell_type": "code",
      "metadata": {
        "scrolled": false,
        "id": "yI8gxU9wcasb",
        "colab_type": "code",
        "outputId": "b4a79a3b-1ca7-49e1-ac17-fc6edc0dfccc",
        "colab": {
          "base_uri": "https://localhost:8080/",
          "height": 1000
        }
      },
      "source": [
        "history = model.fit(partial_x_train,\n",
        "                    partial_y_train,\n",
        "                    epochs=40,\n",
        "                    batch_size=512,\n",
        "                    validation_data=(x_val, y_val),\n",
        "                    verbose=1)"
      ],
      "execution_count": 0,
      "outputs": [
        {
          "output_type": "stream",
          "text": [
            "Train on 15000 samples, validate on 10000 samples\n",
            "Epoch 1/40\n",
            "15000/15000 [==============================] - 3s 202us/sample - loss: 0.6924 - accuracy: 0.5237 - val_loss: 0.6915 - val_accuracy: 0.5433\n",
            "Epoch 2/40\n",
            "15000/15000 [==============================] - 1s 49us/sample - loss: 0.6895 - accuracy: 0.5929 - val_loss: 0.6875 - val_accuracy: 0.5748\n",
            "Epoch 3/40\n",
            "15000/15000 [==============================] - 1s 48us/sample - loss: 0.6828 - accuracy: 0.6211 - val_loss: 0.6784 - val_accuracy: 0.7150\n",
            "Epoch 4/40\n",
            "15000/15000 [==============================] - 1s 47us/sample - loss: 0.6700 - accuracy: 0.7407 - val_loss: 0.6627 - val_accuracy: 0.7619\n",
            "Epoch 5/40\n",
            "15000/15000 [==============================] - 1s 46us/sample - loss: 0.6488 - accuracy: 0.7660 - val_loss: 0.6391 - val_accuracy: 0.7729\n",
            "Epoch 6/40\n",
            "15000/15000 [==============================] - 1s 47us/sample - loss: 0.6197 - accuracy: 0.7870 - val_loss: 0.6090 - val_accuracy: 0.7853\n",
            "Epoch 7/40\n",
            "15000/15000 [==============================] - 1s 46us/sample - loss: 0.5848 - accuracy: 0.8021 - val_loss: 0.5752 - val_accuracy: 0.7991\n",
            "Epoch 8/40\n",
            "15000/15000 [==============================] - 1s 46us/sample - loss: 0.5457 - accuracy: 0.8213 - val_loss: 0.5380 - val_accuracy: 0.8121\n",
            "Epoch 9/40\n",
            "15000/15000 [==============================] - 1s 46us/sample - loss: 0.5050 - accuracy: 0.8363 - val_loss: 0.5017 - val_accuracy: 0.8256\n",
            "Epoch 10/40\n",
            "15000/15000 [==============================] - 1s 47us/sample - loss: 0.4641 - accuracy: 0.8540 - val_loss: 0.4664 - val_accuracy: 0.8380\n",
            "Epoch 11/40\n",
            "15000/15000 [==============================] - 1s 46us/sample - loss: 0.4275 - accuracy: 0.8637 - val_loss: 0.4364 - val_accuracy: 0.8462\n",
            "Epoch 12/40\n",
            "15000/15000 [==============================] - 1s 48us/sample - loss: 0.3949 - accuracy: 0.8736 - val_loss: 0.4089 - val_accuracy: 0.8536\n",
            "Epoch 13/40\n",
            "15000/15000 [==============================] - 1s 48us/sample - loss: 0.3664 - accuracy: 0.8828 - val_loss: 0.3877 - val_accuracy: 0.8572\n",
            "Epoch 14/40\n",
            "15000/15000 [==============================] - 1s 46us/sample - loss: 0.3419 - accuracy: 0.8902 - val_loss: 0.3693 - val_accuracy: 0.8649\n",
            "Epoch 15/40\n",
            "15000/15000 [==============================] - 1s 46us/sample - loss: 0.3213 - accuracy: 0.8959 - val_loss: 0.3543 - val_accuracy: 0.8698\n",
            "Epoch 16/40\n",
            "15000/15000 [==============================] - 1s 47us/sample - loss: 0.3034 - accuracy: 0.8998 - val_loss: 0.3421 - val_accuracy: 0.8709\n",
            "Epoch 17/40\n",
            "15000/15000 [==============================] - 1s 48us/sample - loss: 0.2876 - accuracy: 0.9038 - val_loss: 0.3316 - val_accuracy: 0.8748\n",
            "Epoch 18/40\n",
            "15000/15000 [==============================] - 1s 46us/sample - loss: 0.2727 - accuracy: 0.9091 - val_loss: 0.3227 - val_accuracy: 0.8784\n",
            "Epoch 19/40\n",
            "15000/15000 [==============================] - 1s 46us/sample - loss: 0.2599 - accuracy: 0.9135 - val_loss: 0.3159 - val_accuracy: 0.8777\n",
            "Epoch 20/40\n",
            "15000/15000 [==============================] - 1s 47us/sample - loss: 0.2486 - accuracy: 0.9151 - val_loss: 0.3094 - val_accuracy: 0.8813\n",
            "Epoch 21/40\n",
            "15000/15000 [==============================] - 1s 46us/sample - loss: 0.2376 - accuracy: 0.9205 - val_loss: 0.3042 - val_accuracy: 0.8824\n",
            "Epoch 22/40\n",
            "15000/15000 [==============================] - 1s 47us/sample - loss: 0.2294 - accuracy: 0.9213 - val_loss: 0.3034 - val_accuracy: 0.8802\n",
            "Epoch 23/40\n",
            "15000/15000 [==============================] - 1s 47us/sample - loss: 0.2192 - accuracy: 0.9264 - val_loss: 0.2960 - val_accuracy: 0.8875\n",
            "Epoch 24/40\n",
            "15000/15000 [==============================] - 1s 46us/sample - loss: 0.2107 - accuracy: 0.9289 - val_loss: 0.2931 - val_accuracy: 0.8869\n",
            "Epoch 25/40\n",
            "15000/15000 [==============================] - 1s 49us/sample - loss: 0.2022 - accuracy: 0.9322 - val_loss: 0.2903 - val_accuracy: 0.8881\n",
            "Epoch 26/40\n",
            "15000/15000 [==============================] - 1s 48us/sample - loss: 0.1953 - accuracy: 0.9352 - val_loss: 0.2894 - val_accuracy: 0.8867\n",
            "Epoch 27/40\n",
            "15000/15000 [==============================] - 1s 47us/sample - loss: 0.1881 - accuracy: 0.9384 - val_loss: 0.2864 - val_accuracy: 0.8884\n",
            "Epoch 28/40\n",
            "15000/15000 [==============================] - 1s 46us/sample - loss: 0.1812 - accuracy: 0.9410 - val_loss: 0.2851 - val_accuracy: 0.8899\n",
            "Epoch 29/40\n",
            "15000/15000 [==============================] - 1s 46us/sample - loss: 0.1754 - accuracy: 0.9432 - val_loss: 0.2851 - val_accuracy: 0.8886\n",
            "Epoch 30/40\n",
            "15000/15000 [==============================] - 1s 46us/sample - loss: 0.1689 - accuracy: 0.9454 - val_loss: 0.2842 - val_accuracy: 0.8899\n",
            "Epoch 31/40\n",
            "15000/15000 [==============================] - 1s 46us/sample - loss: 0.1631 - accuracy: 0.9477 - val_loss: 0.2853 - val_accuracy: 0.8877\n",
            "Epoch 32/40\n",
            "15000/15000 [==============================] - 1s 48us/sample - loss: 0.1579 - accuracy: 0.9499 - val_loss: 0.2835 - val_accuracy: 0.8907\n",
            "Epoch 33/40\n",
            "15000/15000 [==============================] - 1s 46us/sample - loss: 0.1530 - accuracy: 0.9512 - val_loss: 0.2835 - val_accuracy: 0.8908\n",
            "Epoch 34/40\n",
            "15000/15000 [==============================] - 1s 45us/sample - loss: 0.1478 - accuracy: 0.9531 - val_loss: 0.2837 - val_accuracy: 0.8909\n",
            "Epoch 35/40\n",
            "15000/15000 [==============================] - 1s 46us/sample - loss: 0.1434 - accuracy: 0.9557 - val_loss: 0.2840 - val_accuracy: 0.8907\n",
            "Epoch 36/40\n",
            "15000/15000 [==============================] - 1s 48us/sample - loss: 0.1388 - accuracy: 0.9567 - val_loss: 0.2868 - val_accuracy: 0.8890\n",
            "Epoch 37/40\n",
            "15000/15000 [==============================] - 1s 46us/sample - loss: 0.1340 - accuracy: 0.9581 - val_loss: 0.2871 - val_accuracy: 0.8898\n",
            "Epoch 38/40\n",
            "15000/15000 [==============================] - 1s 47us/sample - loss: 0.1311 - accuracy: 0.9593 - val_loss: 0.2869 - val_accuracy: 0.8908\n",
            "Epoch 39/40\n",
            "15000/15000 [==============================] - 1s 48us/sample - loss: 0.1271 - accuracy: 0.9607 - val_loss: 0.2884 - val_accuracy: 0.8896\n",
            "Epoch 40/40\n",
            "15000/15000 [==============================] - 1s 47us/sample - loss: 0.1224 - accuracy: 0.9627 - val_loss: 0.2903 - val_accuracy: 0.8906\n"
          ],
          "name": "stdout"
        }
      ]
    },
    {
      "cell_type": "markdown",
      "metadata": {
        "id": "Qs35z5opcasc",
        "colab_type": "text"
      },
      "source": [
        "## Checking the Test Result"
      ]
    },
    {
      "cell_type": "code",
      "metadata": {
        "id": "YMpfQI1tcasc",
        "colab_type": "code",
        "outputId": "3e5847f3-1d8c-4f63-8af7-1b1201d137fc",
        "colab": {
          "base_uri": "https://localhost:8080/",
          "height": 55
        }
      },
      "source": [
        "results = model.evaluate(test_data, test_labels)\n",
        "\n",
        "print(results)"
      ],
      "execution_count": 0,
      "outputs": [
        {
          "output_type": "stream",
          "text": [
            "25000/25000 [==============================] - 2s 78us/sample - loss: 0.3128 - accuracy: 0.8788\n",
            "[0.3127590613889694, 0.87884]\n"
          ],
          "name": "stdout"
        }
      ]
    },
    {
      "cell_type": "markdown",
      "metadata": {
        "id": "Kqax9CLGcase",
        "colab_type": "text"
      },
      "source": [
        "## Plotting Training Curves"
      ]
    },
    {
      "cell_type": "code",
      "metadata": {
        "id": "i_GVd1bEcasf",
        "colab_type": "code",
        "outputId": "0fc3d833-f6a2-409c-dccb-573b79969b53",
        "colab": {
          "base_uri": "https://localhost:8080/",
          "height": 36
        }
      },
      "source": [
        "history_dict = history.history\n",
        "history_dict.keys()"
      ],
      "execution_count": 0,
      "outputs": [
        {
          "output_type": "execute_result",
          "data": {
            "text/plain": [
              "dict_keys(['loss', 'accuracy', 'val_loss', 'val_accuracy'])"
            ]
          },
          "metadata": {
            "tags": []
          },
          "execution_count": 17
        }
      ]
    },
    {
      "cell_type": "code",
      "metadata": {
        "id": "Pi924p1acash",
        "colab_type": "code",
        "outputId": "fb4f5a73-a0c2-43aa-fcc9-bbf83dc63652",
        "colab": {
          "base_uri": "https://localhost:8080/",
          "height": 1000
        }
      },
      "source": [
        "history_dict = history.history\n",
        "\n",
        "acc = history_dict['accuracy']\n",
        "val_acc = history_dict['val_accuracy']\n",
        "loss = history_dict['loss']\n",
        "val_loss = history_dict['val_loss']\n",
        "\n",
        "epochs = range(1, len(acc) + 1)\n",
        "\n",
        "plt.figure(figsize=(12,9))\n",
        "plt.plot(epochs, loss, 'bo', label='Training loss')\n",
        "plt.plot(epochs, val_loss, 'b', label='Validation loss')\n",
        "plt.title('Training and validation loss')\n",
        "plt.xlabel('Epochs')\n",
        "plt.ylabel('Loss')\n",
        "plt.legend()\n",
        "plt.show()\n",
        "\n",
        "plt.figure(figsize=(12,9))\n",
        "plt.plot(epochs, acc, 'bo', label='Training acc')\n",
        "plt.plot(epochs, val_acc, 'b', label='Validation acc')\n",
        "plt.title('Training and validation accuracy')\n",
        "plt.xlabel('Epochs')\n",
        "plt.ylabel('Accuracy')\n",
        "plt.legend(loc='lower right')\n",
        "plt.ylim((0.5,1))\n",
        "plt.show()"
      ],
      "execution_count": 0,
      "outputs": [
        {
          "output_type": "display_data",
          "data": {
            "image/png": "[encoded data removed]",
            "text/plain": [
              "<Figure size 864x648 with 1 Axes>"
            ]
          },
          "metadata": {
            "tags": []
          }
        },
        {
          "output_type": "display_data",
          "data": {
            "image/png": "[encoded data removed]",
            "text/plain": [
              "<Figure size 864x648 with 1 Axes>"
            ]
          },
          "metadata": {
            "tags": []
          }
        }
      ]
    },
    {
      "cell_type": "code",
      "metadata": {
        "id": "C8g1aFqgcasq",
        "colab_type": "code",
        "colab": {}
      },
      "source": [
        ""
      ],
      "execution_count": 0,
      "outputs": []
    }
  ]
}