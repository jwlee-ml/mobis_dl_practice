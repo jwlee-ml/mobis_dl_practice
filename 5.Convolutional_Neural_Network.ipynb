{
  "nbformat": 4,
  "nbformat_minor": 0,
  "metadata": {
    "kernelspec": {
      "name": "python3",
      "display_name": "Python 3"
    },
    "language_info": {
      "codemirror_mode": {
        "name": "ipython",
        "version": 3
      },
      "file_extension": ".py",
      "mimetype": "text/x-python",
      "name": "python",
      "nbconvert_exporter": "python",
      "pygments_lexer": "ipython3",
      "version": "3.5.6"
    },
    "colab": {
      "name": "5.Convolutional_Neural_Network.ipynb",
      "provenance": [],
      "collapsed_sections": []
    },
    "accelerator": "GPU"
  },
  "cells": [
    {
      "cell_type": "markdown",
      "metadata": {
        "id": "bxswZvjmmTS7",
        "colab_type": "text"
      },
      "source": [
        "## TensorFlow 2.0 선택\n",
        "\n",
        "[런타임] -> [런타임 유형변경]에서 하드웨어 가속기를 꼭 GPU로 설정!"
      ]
    },
    {
      "cell_type": "code",
      "metadata": {
        "id": "-I1udRK4mSwv",
        "colab_type": "code",
        "outputId": "1fe60d0a-07aa-4989-a104-c0aef2101db7",
        "colab": {
          "base_uri": "https://localhost:8080/",
          "height": 36
        }
      },
      "source": [
        "try:\n",
        "  # %tensorflow_version only exists in Colab.\n",
        "  %tensorflow_version 2.x\n",
        "except Exception:\n",
        "  pass"
      ],
      "execution_count": 1,
      "outputs": [
        {
          "output_type": "stream",
          "text": [
            "TensorFlow 2.x selected.\n"
          ],
          "name": "stdout"
        }
      ]
    },
    {
      "cell_type": "markdown",
      "metadata": {
        "id": "vAS5X_x_M0lC",
        "colab_type": "text"
      },
      "source": [
        "## Importing Libraries"
      ]
    },
    {
      "cell_type": "code",
      "metadata": {
        "id": "mmgW6mtfM0lD",
        "colab_type": "code",
        "outputId": "875ceac6-d4b0-4205-9c94-26dc9372fd72",
        "colab": {
          "base_uri": "https://localhost:8080/",
          "height": 55
        }
      },
      "source": [
        "import tensorflow as tf\n",
        "from tensorflow import keras\n",
        "from tensorflow.keras.utils import to_categorical\n",
        "import numpy as np\n",
        "import matplotlib.pyplot as plt\n",
        "import os\n",
        "\n",
        "print(tf.__version__)\n",
        "print(keras.__version__)"
      ],
      "execution_count": 2,
      "outputs": [
        {
          "output_type": "stream",
          "text": [
            "2.1.0-rc1\n",
            "2.2.4-tf\n"
          ],
          "name": "stdout"
        }
      ]
    },
    {
      "cell_type": "markdown",
      "metadata": {
        "id": "lSj1Ip7WM0lI",
        "colab_type": "text"
      },
      "source": [
        "## Hyper Parameters"
      ]
    },
    {
      "cell_type": "code",
      "metadata": {
        "id": "sO1kyZZ5M0lJ",
        "colab_type": "code",
        "colab": {}
      },
      "source": [
        "learning_rate = 0.001\n",
        "training_epochs = 15\n",
        "batch_size = 100\n",
        "n_class = 10"
      ],
      "execution_count": 0,
      "outputs": []
    },
    {
      "cell_type": "markdown",
      "metadata": {
        "id": "cyKV8TGXM0lL",
        "colab_type": "text"
      },
      "source": [
        "## MNIST/Fashion MNIST Data"
      ]
    },
    {
      "cell_type": "code",
      "metadata": {
        "id": "IPcxHM2eM0lM",
        "colab_type": "code",
        "colab": {}
      },
      "source": [
        "## MNIST Dataset #########################################################\n",
        "mnist = keras.datasets.mnist\n",
        "class_names = ['0', '1', '2', '3', '4', '5', '6', '7', '8', '9']\n",
        "##########################################################################\n",
        "\n",
        "## Fashion MNIST Dataset #################################################\n",
        "#mnist = keras.datasets.fashion_mnist\n",
        "#class_names = ['T-shirt/top', 'Trouser', 'Pullover', 'Dress', 'Coat', 'Sandal', 'Shirt', 'Sneaker', 'Bag', 'Ankle boot']\n",
        "##########################################################################"
      ],
      "execution_count": 0,
      "outputs": []
    },
    {
      "cell_type": "markdown",
      "metadata": {
        "id": "smohX_wMM0lO",
        "colab_type": "text"
      },
      "source": [
        "## Datasets"
      ]
    },
    {
      "cell_type": "code",
      "metadata": {
        "id": "HDH0GOhBM0lO",
        "colab_type": "code",
        "colab": {}
      },
      "source": [
        "(train_images, train_labels), (test_images, test_labels) = mnist.load_data()  "
      ],
      "execution_count": 0,
      "outputs": []
    },
    {
      "cell_type": "code",
      "metadata": {
        "id": "CzF7xuihM0lR",
        "colab_type": "code",
        "colab": {}
      },
      "source": [
        "N_TRAIN = train_images.shape[0]\n",
        "N_TEST = test_images.shape[0]"
      ],
      "execution_count": 0,
      "outputs": []
    },
    {
      "cell_type": "code",
      "metadata": {
        "id": "ybjaUXgq5AVv",
        "colab_type": "code",
        "outputId": "e2041678-a749-4405-af5c-9f64016e928f",
        "colab": {
          "base_uri": "https://localhost:8080/",
          "height": 36
        }
      },
      "source": [
        "train_images.shape"
      ],
      "execution_count": 7,
      "outputs": [
        {
          "output_type": "execute_result",
          "data": {
            "text/plain": [
              "(60000, 28, 28)"
            ]
          },
          "metadata": {
            "tags": []
          },
          "execution_count": 7
        }
      ]
    },
    {
      "cell_type": "code",
      "metadata": {
        "id": "QkavHxLOM0lT",
        "colab_type": "code",
        "colab": {}
      },
      "source": [
        "# pixel값을 0~1사이 범위로 조정\n",
        "train_images = train_images.astype(np.float32) / 255.\n",
        "test_images = test_images.astype(np.float32) / 255.\n",
        "# CNN에 입력으로 넣기 위해 3차원->4차원으로 변경(channel에 1을 추가)\n",
        "train_images = train_images[..., tf.newaxis]\n",
        "test_images = test_images[..., tf.newaxis]\n",
        "# label을 onehot-encoding\n",
        "train_labels = to_categorical(train_labels, 10)\n",
        "test_labels = to_categorical(test_labels, 10)"
      ],
      "execution_count": 0,
      "outputs": []
    },
    {
      "cell_type": "markdown",
      "metadata": {
        "id": "cz43qtD3_CHy",
        "colab_type": "text"
      },
      "source": [
        "# Sequential API"
      ]
    },
    {
      "cell_type": "markdown",
      "metadata": {
        "id": "agM3KTuCM0lV",
        "colab_type": "text"
      },
      "source": [
        "## Model Function"
      ]
    },
    {
      "cell_type": "code",
      "metadata": {
        "id": "__ksiE7ZM0lV",
        "colab_type": "code",
        "colab": {}
      },
      "source": [
        "# Sequential API를 사용하여 model 구성\n",
        "def create_model():\n",
        "    model = keras.Sequential()\n",
        "    model.add(keras.layers.Conv2D(filters=32, kernel_size=3, activation='relu', padding='SAME', \n",
        "                                  input_shape=(28, 28, 1)))\n",
        "    model.add(keras.layers.MaxPool2D(padding='SAME'))\n",
        "    model.add(keras.layers.Conv2D(filters=64, kernel_size=3, activation='relu', padding='SAME'))\n",
        "    model.add(keras.layers.MaxPool2D(padding='SAME'))\n",
        "    model.add(keras.layers.Conv2D(filters=128, kernel_size=3, activation='relu', padding='SAME'))\n",
        "    model.add(keras.layers.MaxPool2D(padding='SAME'))\n",
        "    model.add(keras.layers.Flatten())\n",
        "    model.add(keras.layers.Dense(256, activation='relu'))\n",
        "    model.add(keras.layers.Dropout(0.4))\n",
        "    model.add(keras.layers.Dense(10, activation='softmax'))\n",
        "    return model"
      ],
      "execution_count": 0,
      "outputs": []
    },
    {
      "cell_type": "code",
      "metadata": {
        "id": "18v6BlVZM0lX",
        "colab_type": "code",
        "outputId": "c78f4d21-1161-44b2-d10f-3eaa463e2836",
        "colab": {
          "base_uri": "https://localhost:8080/",
          "height": 554
        }
      },
      "source": [
        "model = create_model()\n",
        "model.summary()"
      ],
      "execution_count": 10,
      "outputs": [
        {
          "output_type": "stream",
          "text": [
            "Model: \"sequential\"\n",
            "_________________________________________________________________\n",
            "Layer (type)                 Output Shape              Param #   \n",
            "=================================================================\n",
            "conv2d (Conv2D)              (None, 28, 28, 32)        320       \n",
            "_________________________________________________________________\n",
            "max_pooling2d (MaxPooling2D) (None, 14, 14, 32)        0         \n",
            "_________________________________________________________________\n",
            "conv2d_1 (Conv2D)            (None, 14, 14, 64)        18496     \n",
            "_________________________________________________________________\n",
            "max_pooling2d_1 (MaxPooling2 (None, 7, 7, 64)          0         \n",
            "_________________________________________________________________\n",
            "conv2d_2 (Conv2D)            (None, 7, 7, 128)         73856     \n",
            "_________________________________________________________________\n",
            "max_pooling2d_2 (MaxPooling2 (None, 4, 4, 128)         0         \n",
            "_________________________________________________________________\n",
            "flatten (Flatten)            (None, 2048)              0         \n",
            "_________________________________________________________________\n",
            "dense (Dense)                (None, 256)               524544    \n",
            "_________________________________________________________________\n",
            "dropout (Dropout)            (None, 256)               0         \n",
            "_________________________________________________________________\n",
            "dense_1 (Dense)              (None, 10)                2570      \n",
            "=================================================================\n",
            "Total params: 619,786\n",
            "Trainable params: 619,786\n",
            "Non-trainable params: 0\n",
            "_________________________________________________________________\n"
          ],
          "name": "stdout"
        }
      ]
    },
    {
      "cell_type": "code",
      "metadata": {
        "id": "dVAvXVGOM0lZ",
        "colab_type": "code",
        "colab": {}
      },
      "source": [
        "## model compie\n",
        "model.compile(optimizer=keras.optimizers.Adam(learning_rate),\n",
        "              loss='categorical_crossentropy',\n",
        "              metrics=['accuracy'])"
      ],
      "execution_count": 0,
      "outputs": []
    },
    {
      "cell_type": "code",
      "metadata": {
        "id": "J4fdB9hLM0lb",
        "colab_type": "code",
        "outputId": "19549ef7-25b4-4f07-fb79-668729ce34b7",
        "colab": {
          "base_uri": "https://localhost:8080/",
          "height": 612
        }
      },
      "source": [
        "## training\n",
        "history = model.fit(train_images, train_labels,\n",
        "                   epochs=training_epochs, batch_size=batch_size,\n",
        "                   validation_data=(test_images, test_labels))"
      ],
      "execution_count": 12,
      "outputs": [
        {
          "output_type": "stream",
          "text": [
            "Train on 60000 samples, validate on 10000 samples\n",
            "Epoch 1/15\n",
            "60000/60000 [==============================] - 10s 162us/sample - loss: 0.2000 - accuracy: 0.9352 - val_loss: 0.0371 - val_accuracy: 0.9877\n",
            "Epoch 2/15\n",
            "60000/60000 [==============================] - 3s 51us/sample - loss: 0.0555 - accuracy: 0.9832 - val_loss: 0.0280 - val_accuracy: 0.9900\n",
            "Epoch 3/15\n",
            "60000/60000 [==============================] - 3s 51us/sample - loss: 0.0381 - accuracy: 0.9881 - val_loss: 0.0257 - val_accuracy: 0.9915\n",
            "Epoch 4/15\n",
            "60000/60000 [==============================] - 3s 50us/sample - loss: 0.0306 - accuracy: 0.9903 - val_loss: 0.0205 - val_accuracy: 0.9927\n",
            "Epoch 5/15\n",
            "60000/60000 [==============================] - 3s 51us/sample - loss: 0.0250 - accuracy: 0.9918 - val_loss: 0.0233 - val_accuracy: 0.9919\n",
            "Epoch 6/15\n",
            "60000/60000 [==============================] - 3s 50us/sample - loss: 0.0196 - accuracy: 0.9937 - val_loss: 0.0242 - val_accuracy: 0.9921\n",
            "Epoch 7/15\n",
            "60000/60000 [==============================] - 3s 50us/sample - loss: 0.0171 - accuracy: 0.9947 - val_loss: 0.0232 - val_accuracy: 0.9926\n",
            "Epoch 8/15\n",
            "60000/60000 [==============================] - 3s 50us/sample - loss: 0.0153 - accuracy: 0.9949 - val_loss: 0.0218 - val_accuracy: 0.9933\n",
            "Epoch 9/15\n",
            "60000/60000 [==============================] - 3s 50us/sample - loss: 0.0124 - accuracy: 0.9961 - val_loss: 0.0268 - val_accuracy: 0.9912\n",
            "Epoch 10/15\n",
            "60000/60000 [==============================] - 3s 51us/sample - loss: 0.0115 - accuracy: 0.9963 - val_loss: 0.0228 - val_accuracy: 0.9933\n",
            "Epoch 11/15\n",
            "60000/60000 [==============================] - 3s 50us/sample - loss: 0.0114 - accuracy: 0.9964 - val_loss: 0.0221 - val_accuracy: 0.9936\n",
            "Epoch 12/15\n",
            "60000/60000 [==============================] - 3s 50us/sample - loss: 0.0101 - accuracy: 0.9965 - val_loss: 0.0245 - val_accuracy: 0.9920\n",
            "Epoch 13/15\n",
            "60000/60000 [==============================] - 3s 50us/sample - loss: 0.0095 - accuracy: 0.9971 - val_loss: 0.0305 - val_accuracy: 0.9906\n",
            "Epoch 14/15\n",
            "60000/60000 [==============================] - 3s 50us/sample - loss: 0.0074 - accuracy: 0.9979 - val_loss: 0.0267 - val_accuracy: 0.9919\n",
            "Epoch 15/15\n",
            "60000/60000 [==============================] - 3s 50us/sample - loss: 0.0075 - accuracy: 0.9975 - val_loss: 0.0263 - val_accuracy: 0.9923\n"
          ],
          "name": "stdout"
        }
      ]
    },
    {
      "cell_type": "markdown",
      "metadata": {
        "id": "w8c9tNkxM0lf",
        "colab_type": "text"
      },
      "source": [
        "# With tf.data.Dataset"
      ]
    },
    {
      "cell_type": "code",
      "metadata": {
        "id": "fv4mUm3ZM0lg",
        "colab_type": "code",
        "colab": {}
      },
      "source": [
        "## dataset 만들기\n",
        "train_dataset = tf.data.Dataset.from_tensor_slices((train_images, train_labels)).shuffle(\n",
        "                buffer_size=100000).batch(batch_size).repeat()\n",
        "test_dataset = tf.data.Dataset.from_tensor_slices((test_images, test_labels)).batch(batch_size)"
      ],
      "execution_count": 0,
      "outputs": []
    },
    {
      "cell_type": "code",
      "metadata": {
        "id": "uhA-dOKtM0li",
        "colab_type": "code",
        "colab": {}
      },
      "source": [
        "## 새로운 model 생성\n",
        "model = create_model()"
      ],
      "execution_count": 0,
      "outputs": []
    },
    {
      "cell_type": "code",
      "metadata": {
        "id": "LB-E8oWRM0lk",
        "colab_type": "code",
        "colab": {}
      },
      "source": [
        "## model compile\n",
        "model.compile(optimizer=keras.optimizers.Adam(learning_rate),\n",
        "                 loss='categorical_crossentropy',\n",
        "                 metrics=['accuracy'])"
      ],
      "execution_count": 0,
      "outputs": []
    },
    {
      "cell_type": "code",
      "metadata": {
        "id": "0eL7KgZMM0lm",
        "colab_type": "code",
        "outputId": "66b8341a-fd45-4d97-a76a-4b23a604ff4f",
        "colab": {
          "base_uri": "https://localhost:8080/",
          "height": 55
        }
      },
      "source": [
        "## 학습 전에 결과 확인\n",
        "model.evaluate(test_images, test_labels)"
      ],
      "execution_count": 16,
      "outputs": [
        {
          "output_type": "stream",
          "text": [
            "10000/10000 [==============================] - 1s 92us/sample - loss: 2.3033 - accuracy: 0.0997\n"
          ],
          "name": "stdout"
        },
        {
          "output_type": "execute_result",
          "data": {
            "text/plain": [
              "[2.303289952087402, 0.0997]"
            ]
          },
          "metadata": {
            "tags": []
          },
          "execution_count": 16
        }
      ]
    },
    {
      "cell_type": "code",
      "metadata": {
        "id": "FXNZGbvUM0lo",
        "colab_type": "code",
        "outputId": "e1cd0a48-2f7a-402d-858a-dd865a3cdaf0",
        "colab": {
          "base_uri": "https://localhost:8080/",
          "height": 55
        }
      },
      "source": [
        "steps_per_epoch = N_TRAIN//batch_size\n",
        "validation_steps = N_TEST//batch_size\n",
        "print('number of steps per epoch: ', steps_per_epoch)\n",
        "print('number of steps per validation: ', validation_steps)"
      ],
      "execution_count": 71,
      "outputs": [
        {
          "output_type": "stream",
          "text": [
            "number of steps per epoch:  600\n",
            "number of steps per validation:  100\n"
          ],
          "name": "stdout"
        }
      ]
    },
    {
      "cell_type": "code",
      "metadata": {
        "id": "Hn9e4IYWM0lq",
        "colab_type": "code",
        "outputId": "4478d179-a720-474f-c5f4-1e898e02245e",
        "colab": {
          "base_uri": "https://localhost:8080/",
          "height": 612
        }
      },
      "source": [
        "## Training\n",
        "history = model.fit(train_dataset, epochs=training_epochs, steps_per_epoch=steps_per_epoch, \n",
        "                    validation_data=test_dataset, validation_steps=validation_steps)"
      ],
      "execution_count": 18,
      "outputs": [
        {
          "output_type": "stream",
          "text": [
            "Train for 600 steps, validate for 100 steps\n",
            "Epoch 1/15\n",
            "600/600 [==============================] - 4s 7ms/step - loss: 0.1987 - accuracy: 0.9369 - val_loss: 0.0469 - val_accuracy: 0.9842\n",
            "Epoch 2/15\n",
            "600/600 [==============================] - 3s 6ms/step - loss: 0.0570 - accuracy: 0.9824 - val_loss: 0.0314 - val_accuracy: 0.9889\n",
            "Epoch 3/15\n",
            "600/600 [==============================] - 3s 6ms/step - loss: 0.0382 - accuracy: 0.9883 - val_loss: 0.0229 - val_accuracy: 0.9918\n",
            "Epoch 4/15\n",
            "600/600 [==============================] - 3s 6ms/step - loss: 0.0304 - accuracy: 0.9904 - val_loss: 0.0248 - val_accuracy: 0.9919\n",
            "Epoch 5/15\n",
            "600/600 [==============================] - 3s 5ms/step - loss: 0.0249 - accuracy: 0.9925 - val_loss: 0.0240 - val_accuracy: 0.9916\n",
            "Epoch 6/15\n",
            "600/600 [==============================] - 3s 6ms/step - loss: 0.0207 - accuracy: 0.9934 - val_loss: 0.0270 - val_accuracy: 0.9913\n",
            "Epoch 7/15\n",
            "600/600 [==============================] - 3s 6ms/step - loss: 0.0175 - accuracy: 0.9942 - val_loss: 0.0229 - val_accuracy: 0.9933\n",
            "Epoch 8/15\n",
            "600/600 [==============================] - 3s 6ms/step - loss: 0.0151 - accuracy: 0.9950 - val_loss: 0.0240 - val_accuracy: 0.9922\n",
            "Epoch 9/15\n",
            "600/600 [==============================] - 3s 6ms/step - loss: 0.0143 - accuracy: 0.9953 - val_loss: 0.0246 - val_accuracy: 0.9935\n",
            "Epoch 10/15\n",
            "600/600 [==============================] - 3s 6ms/step - loss: 0.0113 - accuracy: 0.9961 - val_loss: 0.0244 - val_accuracy: 0.9925\n",
            "Epoch 11/15\n",
            "600/600 [==============================] - 3s 6ms/step - loss: 0.0121 - accuracy: 0.9961 - val_loss: 0.0244 - val_accuracy: 0.9929\n",
            "Epoch 12/15\n",
            "600/600 [==============================] - 3s 5ms/step - loss: 0.0087 - accuracy: 0.9970 - val_loss: 0.0295 - val_accuracy: 0.9923\n",
            "Epoch 13/15\n",
            "600/600 [==============================] - 3s 5ms/step - loss: 0.0104 - accuracy: 0.9968 - val_loss: 0.0232 - val_accuracy: 0.9937\n",
            "Epoch 14/15\n",
            "600/600 [==============================] - 3s 5ms/step - loss: 0.0088 - accuracy: 0.9971 - val_loss: 0.0257 - val_accuracy: 0.9917\n",
            "Epoch 15/15\n",
            "600/600 [==============================] - 3s 6ms/step - loss: 0.0095 - accuracy: 0.9968 - val_loss: 0.0290 - val_accuracy: 0.9928\n"
          ],
          "name": "stdout"
        }
      ]
    },
    {
      "cell_type": "code",
      "metadata": {
        "id": "NK2cBwbHM0lx",
        "colab_type": "code",
        "colab": {}
      },
      "source": [
        "## 결과 확인\n",
        "def plot_image(i, predictions_array, true_label, img):\n",
        "    predictions_array, true_label, img = predictions_array[i], true_label[i], img[i]\n",
        "    plt.grid(False)\n",
        "    plt.xticks([])\n",
        "    plt.yticks([])\n",
        "\n",
        "    plt.imshow(img[:,:,0],cmap=plt.cm.binary)\n",
        "\n",
        "    predicted_label = np.argmax(predictions_array)\n",
        "    if predicted_label == true_label:\n",
        "        color = 'blue'\n",
        "    else:\n",
        "        color = 'red'\n",
        "\n",
        "    plt.xlabel(\"{} {:2.0f}% ({})\".format(class_names[predicted_label],\n",
        "                                100*np.max(predictions_array),\n",
        "                                class_names[true_label]),\n",
        "                                color=color)\n",
        "\n",
        "def plot_value_array(i, predictions_array, true_label):\n",
        "    predictions_array, true_label = predictions_array[i], true_label[i]\n",
        "    plt.grid(False)\n",
        "    #plt.xticks([])\n",
        "    plt.xticks(range(n_class), class_names, rotation=90)\n",
        "    plt.yticks([])\n",
        "    thisplot = plt.bar(range(n_class), predictions_array, color=\"#777777\")\n",
        "    plt.ylim([0, 1]) \n",
        "    predicted_label = np.argmax(predictions_array)\n",
        " \n",
        "    thisplot[predicted_label].set_color('red')\n",
        "    thisplot[true_label].set_color('blue')"
      ],
      "execution_count": 0,
      "outputs": []
    },
    {
      "cell_type": "code",
      "metadata": {
        "id": "5NitixUYM0l0",
        "colab_type": "code",
        "outputId": "61d8ab62-f7cf-4c0d-c6fb-d530bb50a1df",
        "colab": {
          "base_uri": "https://localhost:8080/",
          "height": 1000
        }
      },
      "source": [
        "rnd_idx = np.random.randint(1, N_TEST//batch_size)\n",
        "img_cnt = 0\n",
        "for images, labels in test_dataset:\n",
        "    img_cnt += 1\n",
        "    if img_cnt != rnd_idx:\n",
        "        continue\n",
        "    predictions = model(images, training=False)\n",
        "    num_rows = 5\n",
        "    num_cols = 3\n",
        "    num_images = num_rows*num_cols\n",
        "    labels = tf.argmax(labels, axis=-1)\n",
        "    plt.figure(figsize=(3*2*num_cols, 4*num_rows))\n",
        "    plt.subplots_adjust(hspace=1.0)\n",
        "    for i in range(num_images):\n",
        "        plt.subplot(num_rows, 2*num_cols, 2*i+1)\n",
        "        plot_image(i, predictions.numpy(), labels.numpy(), images.numpy())\n",
        "        plt.subplot(num_rows, 2*num_cols, 2*i+2)\n",
        "        plot_value_array(i, predictions.numpy(), labels.numpy())        \n",
        "    break"
      ],
      "execution_count": 21,
      "outputs": [
        {
          "output_type": "display_data",
          "data": {
            "image/png": "[encoded data removed]",
            "text/plain": [
              "<Figure size 1296x1440 with 30 Axes>"
            ]
          },
          "metadata": {
            "tags": []
          }
        }
      ]
    },
    {
      "cell_type": "markdown",
      "metadata": {
        "id": "2BRAtyzyM0l2",
        "colab_type": "text"
      },
      "source": [
        "# Creating a Checkpoint Directory"
      ]
    },
    {
      "cell_type": "code",
      "metadata": {
        "id": "JA9pHC9zM0l2",
        "colab_type": "code",
        "colab": {}
      },
      "source": [
        "cur_dir = os.getcwd()\n",
        "ckpt_dir_name = 'checkpoints'\n",
        "model_dir_name = 'mnist_cnn_keras'\n",
        "ckpt_name = 'mnist_cnn_keras.ckpt'\n",
        "\n",
        "checkpoint_dir = os.path.join(cur_dir, ckpt_dir_name, model_dir_name)\n",
        "os.makedirs(checkpoint_dir, exist_ok=True)\n",
        "\n",
        "checkpoint_path = os.path.join(checkpoint_dir, ckpt_name)"
      ],
      "execution_count": 0,
      "outputs": []
    },
    {
      "cell_type": "markdown",
      "metadata": {
        "id": "KaAk5MQ3M0l4",
        "colab_type": "text"
      },
      "source": [
        "# Saving Weights"
      ]
    },
    {
      "cell_type": "code",
      "metadata": {
        "id": "XrmRcHdVM0l5",
        "colab_type": "code",
        "colab": {}
      },
      "source": [
        "model.save_weights(checkpoint_path)"
      ],
      "execution_count": 0,
      "outputs": []
    },
    {
      "cell_type": "code",
      "metadata": {
        "id": "UFwGVp841Blu",
        "colab_type": "code",
        "outputId": "b938c565-d7ff-48ff-f1ea-171814c47385",
        "colab": {
          "base_uri": "https://localhost:8080/",
          "height": 94
        }
      },
      "source": [
        "!ls 'checkpoints/mnist_cnn_keras'"
      ],
      "execution_count": 24,
      "outputs": [
        {
          "output_type": "stream",
          "text": [
            "checkpoint\n",
            "mnist_cnn_keras.ckpt.data-00000-of-00002\n",
            "mnist_cnn_keras.ckpt.data-00001-of-00002\n",
            "mnist_cnn_keras.ckpt.index\n"
          ],
          "name": "stdout"
        }
      ]
    },
    {
      "cell_type": "markdown",
      "metadata": {
        "id": "NVddMKZJM0l_",
        "colab_type": "text"
      },
      "source": [
        "# Creating a New Model"
      ]
    },
    {
      "cell_type": "code",
      "metadata": {
        "id": "vaJ8GX8uM0l_",
        "colab_type": "code",
        "outputId": "0ab15c7b-836b-4c3e-e866-6fabe6275a70",
        "colab": {
          "base_uri": "https://localhost:8080/",
          "height": 554
        }
      },
      "source": [
        "new_model1 = create_model()\n",
        "new_model1.compile(optimizer=keras.optimizers.Adam(learning_rate),\n",
        "                 loss='categorical_crossentropy',\n",
        "                 metrics=['accuracy'])\n",
        "new_model1.summary()"
      ],
      "execution_count": 25,
      "outputs": [
        {
          "output_type": "stream",
          "text": [
            "Model: \"sequential_2\"\n",
            "_________________________________________________________________\n",
            "Layer (type)                 Output Shape              Param #   \n",
            "=================================================================\n",
            "conv2d_6 (Conv2D)            (None, 28, 28, 32)        320       \n",
            "_________________________________________________________________\n",
            "max_pooling2d_6 (MaxPooling2 (None, 14, 14, 32)        0         \n",
            "_________________________________________________________________\n",
            "conv2d_7 (Conv2D)            (None, 14, 14, 64)        18496     \n",
            "_________________________________________________________________\n",
            "max_pooling2d_7 (MaxPooling2 (None, 7, 7, 64)          0         \n",
            "_________________________________________________________________\n",
            "conv2d_8 (Conv2D)            (None, 7, 7, 128)         73856     \n",
            "_________________________________________________________________\n",
            "max_pooling2d_8 (MaxPooling2 (None, 4, 4, 128)         0         \n",
            "_________________________________________________________________\n",
            "flatten_2 (Flatten)          (None, 2048)              0         \n",
            "_________________________________________________________________\n",
            "dense_4 (Dense)              (None, 256)               524544    \n",
            "_________________________________________________________________\n",
            "dropout_2 (Dropout)          (None, 256)               0         \n",
            "_________________________________________________________________\n",
            "dense_5 (Dense)              (None, 10)                2570      \n",
            "=================================================================\n",
            "Total params: 619,786\n",
            "Trainable params: 619,786\n",
            "Non-trainable params: 0\n",
            "_________________________________________________________________\n"
          ],
          "name": "stdout"
        }
      ]
    },
    {
      "cell_type": "markdown",
      "metadata": {
        "id": "XQ5kqboxM0mB",
        "colab_type": "text"
      },
      "source": [
        "# Test Accuracy before Restore"
      ]
    },
    {
      "cell_type": "code",
      "metadata": {
        "id": "OkI_da3XM0mB",
        "colab_type": "code",
        "outputId": "5ef19003-5af5-4a0e-cdb4-e16049394dbd",
        "colab": {
          "base_uri": "https://localhost:8080/",
          "height": 55
        }
      },
      "source": [
        "new_model1.evaluate(test_dataset)"
      ],
      "execution_count": 26,
      "outputs": [
        {
          "output_type": "stream",
          "text": [
            "100/100 [==============================] - 0s 4ms/step - loss: 2.3025 - accuracy: 0.0520\n"
          ],
          "name": "stdout"
        },
        {
          "output_type": "execute_result",
          "data": {
            "text/plain": [
              "[2.3025269412994387, 0.052]"
            ]
          },
          "metadata": {
            "tags": []
          },
          "execution_count": 26
        }
      ]
    },
    {
      "cell_type": "code",
      "metadata": {
        "id": "Ex5Ca8pYM0mD",
        "colab_type": "code",
        "outputId": "0c941c43-f578-456f-c1fc-c8d0f75f722c",
        "colab": {
          "base_uri": "https://localhost:8080/",
          "height": 1000
        }
      },
      "source": [
        "rnd_idx = np.random.randint(1, N_TEST//batch_size)\n",
        "img_cnt = 0\n",
        "for images, labels in test_dataset:\n",
        "    img_cnt += 1\n",
        "    if img_cnt != rnd_idx:\n",
        "        continue\n",
        "    predictions = new_model1(images, training=False)\n",
        "    num_rows = 5\n",
        "    num_cols = 3\n",
        "    num_images = num_rows*num_cols\n",
        "    labels = tf.argmax(labels, axis=-1)\n",
        "    plt.figure(figsize=(3*2*num_cols, 4*num_rows))\n",
        "    plt.subplots_adjust(hspace=1.0)\n",
        "    for i in range(num_images):\n",
        "        plt.subplot(num_rows, 2*num_cols, 2*i+1)\n",
        "        plot_image(i, predictions.numpy(), labels.numpy(), images.numpy())\n",
        "        plt.subplot(num_rows, 2*num_cols, 2*i+2)\n",
        "        plot_value_array(i, predictions.numpy(), labels.numpy())        \n",
        "    break"
      ],
      "execution_count": 27,
      "outputs": [
        {
          "output_type": "display_data",
          "data": {
            "image/png": "[encoded data removed]",
            "text/plain": [
              "<Figure size 1296x1440 with 30 Axes>"
            ]
          },
          "metadata": {
            "tags": []
          }
        }
      ]
    },
    {
      "cell_type": "markdown",
      "metadata": {
        "id": "zMzp95FoM0mF",
        "colab_type": "text"
      },
      "source": [
        "# Restore Weights"
      ]
    },
    {
      "cell_type": "code",
      "metadata": {
        "id": "0zX5-5R9M0mF",
        "colab_type": "code",
        "outputId": "b8daac16-b589-41fa-aa8a-066ceff5d0e1",
        "colab": {
          "base_uri": "https://localhost:8080/",
          "height": 36
        }
      },
      "source": [
        "new_model1.load_weights(checkpoint_path)"
      ],
      "execution_count": 28,
      "outputs": [
        {
          "output_type": "execute_result",
          "data": {
            "text/plain": [
              "<tensorflow.python.training.tracking.util.CheckpointLoadStatus at 0x7fb642127ba8>"
            ]
          },
          "metadata": {
            "tags": []
          },
          "execution_count": 28
        }
      ]
    },
    {
      "cell_type": "markdown",
      "metadata": {
        "id": "vGYoaUH4M0mH",
        "colab_type": "text"
      },
      "source": [
        "# Test Accuracy after Restore"
      ]
    },
    {
      "cell_type": "code",
      "metadata": {
        "id": "Gy5adn8wM0mH",
        "colab_type": "code",
        "outputId": "db66edbf-0726-47bd-e7d6-ca61a012fdcd",
        "colab": {
          "base_uri": "https://localhost:8080/",
          "height": 55
        }
      },
      "source": [
        "new_model1.evaluate(test_dataset)"
      ],
      "execution_count": 29,
      "outputs": [
        {
          "output_type": "stream",
          "text": [
            "100/100 [==============================] - 0s 3ms/step - loss: 0.0290 - accuracy: 0.9928\n"
          ],
          "name": "stdout"
        },
        {
          "output_type": "execute_result",
          "data": {
            "text/plain": [
              "[0.029031344454735545, 0.9928]"
            ]
          },
          "metadata": {
            "tags": []
          },
          "execution_count": 29
        }
      ]
    },
    {
      "cell_type": "code",
      "metadata": {
        "id": "u3CHGtS_M0mJ",
        "colab_type": "code",
        "outputId": "7d20ae2f-48b3-4c64-8757-b370c8c92c89",
        "colab": {
          "base_uri": "https://localhost:8080/",
          "height": 1000
        }
      },
      "source": [
        "rnd_idx = np.random.randint(1, N_TEST//batch_size)\n",
        "img_cnt = 0\n",
        "for images, labels in test_dataset:\n",
        "    img_cnt += 1\n",
        "    if img_cnt != rnd_idx:\n",
        "        continue\n",
        "    predictions = new_model1(images, training=False)\n",
        "    num_rows = 5\n",
        "    num_cols = 3\n",
        "    num_images = num_rows*num_cols\n",
        "    labels = tf.argmax(labels, axis=-1)\n",
        "    plt.figure(figsize=(3*2*num_cols, 4*num_rows))\n",
        "    plt.subplots_adjust(hspace=1.0)\n",
        "    for i in range(num_images):\n",
        "        plt.subplot(num_rows, 2*num_cols, 2*i+1)\n",
        "        plot_image(i, predictions.numpy(), labels.numpy(), images.numpy())\n",
        "        plt.subplot(num_rows, 2*num_cols, 2*i+2)\n",
        "        plot_value_array(i, predictions.numpy(), labels.numpy())        \n",
        "    break"
      ],
      "execution_count": 30,
      "outputs": [
        {
          "output_type": "display_data",
          "data": {
            "image/png": "[encoded data removed]",
            "text/plain": [
              "<Figure size 1296x1440 with 30 Axes>"
            ]
          },
          "metadata": {
            "tags": []
          }
        }
      ]
    },
    {
      "cell_type": "markdown",
      "metadata": {
        "id": "bqY7EAtjvDNZ",
        "colab_type": "text"
      },
      "source": [
        "## Callback 사용하여 저장하기"
      ]
    },
    {
      "cell_type": "code",
      "metadata": {
        "id": "22wRHZmWnk6U",
        "colab_type": "code",
        "outputId": "b5536dcc-50f4-497d-e135-88c747205670",
        "colab": {
          "base_uri": "https://localhost:8080/",
          "height": 554
        }
      },
      "source": [
        "## 새로운 model 생성\n",
        "model = create_model()\n",
        "\n",
        "## model compile\n",
        "model.compile(optimizer=keras.optimizers.Adam(learning_rate),\n",
        "                 loss='categorical_crossentropy',\n",
        "                 metrics=['accuracy'])\n",
        "model.summary()"
      ],
      "execution_count": 31,
      "outputs": [
        {
          "output_type": "stream",
          "text": [
            "Model: \"sequential_3\"\n",
            "_________________________________________________________________\n",
            "Layer (type)                 Output Shape              Param #   \n",
            "=================================================================\n",
            "conv2d_9 (Conv2D)            (None, 28, 28, 32)        320       \n",
            "_________________________________________________________________\n",
            "max_pooling2d_9 (MaxPooling2 (None, 14, 14, 32)        0         \n",
            "_________________________________________________________________\n",
            "conv2d_10 (Conv2D)           (None, 14, 14, 64)        18496     \n",
            "_________________________________________________________________\n",
            "max_pooling2d_10 (MaxPooling (None, 7, 7, 64)          0         \n",
            "_________________________________________________________________\n",
            "conv2d_11 (Conv2D)           (None, 7, 7, 128)         73856     \n",
            "_________________________________________________________________\n",
            "max_pooling2d_11 (MaxPooling (None, 4, 4, 128)         0         \n",
            "_________________________________________________________________\n",
            "flatten_3 (Flatten)          (None, 2048)              0         \n",
            "_________________________________________________________________\n",
            "dense_6 (Dense)              (None, 256)               524544    \n",
            "_________________________________________________________________\n",
            "dropout_3 (Dropout)          (None, 256)               0         \n",
            "_________________________________________________________________\n",
            "dense_7 (Dense)              (None, 10)                2570      \n",
            "=================================================================\n",
            "Total params: 619,786\n",
            "Trainable params: 619,786\n",
            "Non-trainable params: 0\n",
            "_________________________________________________________________\n"
          ],
          "name": "stdout"
        }
      ]
    },
    {
      "cell_type": "code",
      "metadata": {
        "id": "rs72SIqRnwtf",
        "colab_type": "code",
        "outputId": "782970bf-828a-4a24-b514-7d8e31d413b5",
        "colab": {
          "base_uri": "https://localhost:8080/",
          "height": 55
        }
      },
      "source": [
        "## 학습 전에 결과 확인\n",
        "model.evaluate(test_images, test_labels)"
      ],
      "execution_count": 32,
      "outputs": [
        {
          "output_type": "stream",
          "text": [
            "10000/10000 [==============================] - 1s 84us/sample - loss: 2.3062 - accuracy: 0.0837\n"
          ],
          "name": "stdout"
        },
        {
          "output_type": "execute_result",
          "data": {
            "text/plain": [
              "[2.306202812576294, 0.0837]"
            ]
          },
          "metadata": {
            "tags": []
          },
          "execution_count": 32
        }
      ]
    },
    {
      "cell_type": "code",
      "metadata": {
        "id": "gdcrQiZkkTwt",
        "colab_type": "code",
        "outputId": "09d88c4f-c71f-4c99-c1ba-feed0b663eef",
        "colab": {
          "base_uri": "https://localhost:8080/",
          "height": 612
        }
      },
      "source": [
        "ckpt_name = 'mnist_cnn_{epoch:04d}.ckpt'\n",
        "checkpoint_path = os.path.join(checkpoint_dir, ckpt_name)\n",
        "\n",
        "# callback 만들기\n",
        "cp_callback = keras.callbacks.ModelCheckpoint(filepath=checkpoint_path,\n",
        "                                              save_weights_only=True)\n",
        "\n",
        "## Training\n",
        "history = model.fit(train_dataset, epochs=training_epochs, steps_per_epoch=steps_per_epoch, \n",
        "                    validation_data=test_dataset, validation_steps=validation_steps,\n",
        "                    callbacks=[cp_callback])"
      ],
      "execution_count": 33,
      "outputs": [
        {
          "output_type": "stream",
          "text": [
            "Train for 600 steps, validate for 100 steps\n",
            "Epoch 1/15\n",
            "600/600 [==============================] - 4s 7ms/step - loss: 0.2011 - accuracy: 0.9367 - val_loss: 0.0379 - val_accuracy: 0.9870\n",
            "Epoch 2/15\n",
            "600/600 [==============================] - 3s 6ms/step - loss: 0.0549 - accuracy: 0.9829 - val_loss: 0.0299 - val_accuracy: 0.9901\n",
            "Epoch 3/15\n",
            "600/600 [==============================] - 3s 6ms/step - loss: 0.0386 - accuracy: 0.9880 - val_loss: 0.0283 - val_accuracy: 0.9908\n",
            "Epoch 4/15\n",
            "600/600 [==============================] - 3s 6ms/step - loss: 0.0293 - accuracy: 0.9911 - val_loss: 0.0284 - val_accuracy: 0.9902\n",
            "Epoch 5/15\n",
            "600/600 [==============================] - 3s 6ms/step - loss: 0.0246 - accuracy: 0.9924 - val_loss: 0.0207 - val_accuracy: 0.9932\n",
            "Epoch 6/15\n",
            "600/600 [==============================] - 3s 6ms/step - loss: 0.0216 - accuracy: 0.9931 - val_loss: 0.0212 - val_accuracy: 0.9930\n",
            "Epoch 7/15\n",
            "600/600 [==============================] - 3s 6ms/step - loss: 0.0171 - accuracy: 0.9944 - val_loss: 0.0239 - val_accuracy: 0.9928\n",
            "Epoch 8/15\n",
            "600/600 [==============================] - 3s 6ms/step - loss: 0.0146 - accuracy: 0.9954 - val_loss: 0.0294 - val_accuracy: 0.9916\n",
            "Epoch 9/15\n",
            "600/600 [==============================] - 3s 6ms/step - loss: 0.0131 - accuracy: 0.9958 - val_loss: 0.0246 - val_accuracy: 0.9928\n",
            "Epoch 10/15\n",
            "600/600 [==============================] - 3s 6ms/step - loss: 0.0117 - accuracy: 0.9965 - val_loss: 0.0233 - val_accuracy: 0.9933\n",
            "Epoch 11/15\n",
            "600/600 [==============================] - 3s 6ms/step - loss: 0.0103 - accuracy: 0.9965 - val_loss: 0.0218 - val_accuracy: 0.9933\n",
            "Epoch 12/15\n",
            "600/600 [==============================] - 4s 6ms/step - loss: 0.0096 - accuracy: 0.9969 - val_loss: 0.0262 - val_accuracy: 0.9920\n",
            "Epoch 13/15\n",
            "600/600 [==============================] - 3s 6ms/step - loss: 0.0080 - accuracy: 0.9975 - val_loss: 0.0279 - val_accuracy: 0.9930\n",
            "Epoch 14/15\n",
            "600/600 [==============================] - 3s 6ms/step - loss: 0.0086 - accuracy: 0.9973 - val_loss: 0.0231 - val_accuracy: 0.9941\n",
            "Epoch 15/15\n",
            "600/600 [==============================] - 3s 6ms/step - loss: 0.0081 - accuracy: 0.9974 - val_loss: 0.0296 - val_accuracy: 0.9931\n"
          ],
          "name": "stdout"
        }
      ]
    },
    {
      "cell_type": "code",
      "metadata": {
        "id": "ZdjFjhO1oNQ-",
        "colab_type": "code",
        "outputId": "7ee7ca24-891f-4f1b-a966-5893d449c727",
        "colab": {
          "base_uri": "https://localhost:8080/",
          "height": 958
        }
      },
      "source": [
        "!ls 'checkpoints/mnist_cnn_keras'"
      ],
      "execution_count": 34,
      "outputs": [
        {
          "output_type": "stream",
          "text": [
            "checkpoint\n",
            "mnist_cnn_0001.ckpt.data-00000-of-00002\n",
            "mnist_cnn_0001.ckpt.data-00001-of-00002\n",
            "mnist_cnn_0001.ckpt.index\n",
            "mnist_cnn_0002.ckpt.data-00000-of-00002\n",
            "mnist_cnn_0002.ckpt.data-00001-of-00002\n",
            "mnist_cnn_0002.ckpt.index\n",
            "mnist_cnn_0003.ckpt.data-00000-of-00002\n",
            "mnist_cnn_0003.ckpt.data-00001-of-00002\n",
            "mnist_cnn_0003.ckpt.index\n",
            "mnist_cnn_0004.ckpt.data-00000-of-00002\n",
            "mnist_cnn_0004.ckpt.data-00001-of-00002\n",
            "mnist_cnn_0004.ckpt.index\n",
            "mnist_cnn_0005.ckpt.data-00000-of-00002\n",
            "mnist_cnn_0005.ckpt.data-00001-of-00002\n",
            "mnist_cnn_0005.ckpt.index\n",
            "mnist_cnn_0006.ckpt.data-00000-of-00002\n",
            "mnist_cnn_0006.ckpt.data-00001-of-00002\n",
            "mnist_cnn_0006.ckpt.index\n",
            "mnist_cnn_0007.ckpt.data-00000-of-00002\n",
            "mnist_cnn_0007.ckpt.data-00001-of-00002\n",
            "mnist_cnn_0007.ckpt.index\n",
            "mnist_cnn_0008.ckpt.data-00000-of-00002\n",
            "mnist_cnn_0008.ckpt.data-00001-of-00002\n",
            "mnist_cnn_0008.ckpt.index\n",
            "mnist_cnn_0009.ckpt.data-00000-of-00002\n",
            "mnist_cnn_0009.ckpt.data-00001-of-00002\n",
            "mnist_cnn_0009.ckpt.index\n",
            "mnist_cnn_0010.ckpt.data-00000-of-00002\n",
            "mnist_cnn_0010.ckpt.data-00001-of-00002\n",
            "mnist_cnn_0010.ckpt.index\n",
            "mnist_cnn_0011.ckpt.data-00000-of-00002\n",
            "mnist_cnn_0011.ckpt.data-00001-of-00002\n",
            "mnist_cnn_0011.ckpt.index\n",
            "mnist_cnn_0012.ckpt.data-00000-of-00002\n",
            "mnist_cnn_0012.ckpt.data-00001-of-00002\n",
            "mnist_cnn_0012.ckpt.index\n",
            "mnist_cnn_0013.ckpt.data-00000-of-00002\n",
            "mnist_cnn_0013.ckpt.data-00001-of-00002\n",
            "mnist_cnn_0013.ckpt.index\n",
            "mnist_cnn_0014.ckpt.data-00000-of-00002\n",
            "mnist_cnn_0014.ckpt.data-00001-of-00002\n",
            "mnist_cnn_0014.ckpt.index\n",
            "mnist_cnn_0015.ckpt.data-00000-of-00002\n",
            "mnist_cnn_0015.ckpt.data-00001-of-00002\n",
            "mnist_cnn_0015.ckpt.index\n",
            "mnist_cnn_keras.ckpt.data-00000-of-00002\n",
            "mnist_cnn_keras.ckpt.data-00001-of-00002\n",
            "mnist_cnn_keras.ckpt.index\n"
          ],
          "name": "stdout"
        }
      ]
    },
    {
      "cell_type": "code",
      "metadata": {
        "id": "J3a9meIMpGMR",
        "colab_type": "code",
        "outputId": "2cff3ec4-79e4-45a3-b5c1-2d10530d5005",
        "colab": {
          "base_uri": "https://localhost:8080/",
          "height": 36
        }
      },
      "source": [
        "latest = tf.train.latest_checkpoint(checkpoint_dir)\n",
        "latest"
      ],
      "execution_count": 35,
      "outputs": [
        {
          "output_type": "execute_result",
          "data": {
            "text/plain": [
              "'/content/checkpoints/mnist_cnn_keras/mnist_cnn_0015.ckpt'"
            ]
          },
          "metadata": {
            "tags": []
          },
          "execution_count": 35
        }
      ]
    },
    {
      "cell_type": "code",
      "metadata": {
        "id": "6-hGMSfkppyr",
        "colab_type": "code",
        "outputId": "93a1265a-c230-4cfd-fc82-28cdd2afb0bc",
        "colab": {
          "base_uri": "https://localhost:8080/",
          "height": 74
        }
      },
      "source": [
        "# Create a new model instance\n",
        "new_model2 = create_model()\n",
        "new_model2.compile(optimizer=keras.optimizers.Adam(learning_rate),\n",
        "                 loss='categorical_crossentropy',\n",
        "                 metrics=['accuracy'])\n",
        "# Before loading weights\n",
        "new_model2.evaluate(test_dataset)\n",
        "\n",
        "# Load the previously saved weights\n",
        "new_model2.load_weights(latest)\n",
        "\n",
        "# Re-evaluate the model\n",
        "new_model2.evaluate(test_dataset)"
      ],
      "execution_count": 36,
      "outputs": [
        {
          "output_type": "stream",
          "text": [
            "100/100 [==============================] - 0s 4ms/step - loss: 2.3055 - accuracy: 0.1003\n",
            "100/100 [==============================] - 0s 3ms/step - loss: 0.0296 - accuracy: 0.9931\n"
          ],
          "name": "stdout"
        },
        {
          "output_type": "execute_result",
          "data": {
            "text/plain": [
              "[0.029595303640449336, 0.9931]"
            ]
          },
          "metadata": {
            "tags": []
          },
          "execution_count": 36
        }
      ]
    },
    {
      "cell_type": "markdown",
      "metadata": {
        "id": "ajhZ4J7o9wKg",
        "colab_type": "text"
      },
      "source": [
        "# Whole-model Saving"
      ]
    },
    {
      "cell_type": "markdown",
      "metadata": {
        "id": "erO0toL6-IMQ",
        "colab_type": "text"
      },
      "source": [
        "## HDF5 format으로 전체 model 저장하기"
      ]
    },
    {
      "cell_type": "code",
      "metadata": {
        "id": "ZcLYVfyKM0mK",
        "colab_type": "code",
        "outputId": "46d611ad-73cc-4307-9bc0-7b63e570cce2",
        "colab": {
          "base_uri": "https://localhost:8080/",
          "height": 36
        }
      },
      "source": [
        "save_dir_name = 'saved_models'\n",
        "os.makedirs(save_dir_name, exist_ok=True)\n",
        "hdf5_model_path = os.path.join(cur_dir, save_dir_name, 'my_model.h5')\n",
        "hdf5_model_path"
      ],
      "execution_count": 37,
      "outputs": [
        {
          "output_type": "execute_result",
          "data": {
            "text/plain": [
              "'/content/saved_models/my_model.h5'"
            ]
          },
          "metadata": {
            "tags": []
          },
          "execution_count": 37
        }
      ]
    },
    {
      "cell_type": "code",
      "metadata": {
        "id": "giKaVZ-m33jo",
        "colab_type": "code",
        "colab": {}
      },
      "source": [
        "model.save(hdf5_model_path)"
      ],
      "execution_count": 0,
      "outputs": []
    },
    {
      "cell_type": "code",
      "metadata": {
        "id": "WIG7cAy14bo5",
        "colab_type": "code",
        "outputId": "75389adc-f969-4f65-bc24-c7b571ed2250",
        "colab": {
          "base_uri": "https://localhost:8080/",
          "height": 36
        }
      },
      "source": [
        "!ls saved_models"
      ],
      "execution_count": 39,
      "outputs": [
        {
          "output_type": "stream",
          "text": [
            "my_model.h5\n"
          ],
          "name": "stdout"
        }
      ]
    },
    {
      "cell_type": "markdown",
      "metadata": {
        "id": "j6E4kmBw-S95",
        "colab_type": "text"
      },
      "source": [
        "## Recreate the same model"
      ]
    },
    {
      "cell_type": "code",
      "metadata": {
        "id": "DWYBFg2b38vp",
        "colab_type": "code",
        "colab": {}
      },
      "source": [
        "new_model3 = keras.models.load_model(hdf5_model_path)"
      ],
      "execution_count": 0,
      "outputs": []
    },
    {
      "cell_type": "code",
      "metadata": {
        "id": "6sxKI9dA4Fue",
        "colab_type": "code",
        "outputId": "049c35dc-d8d0-4991-cfb9-412a8e085a81",
        "colab": {
          "base_uri": "https://localhost:8080/",
          "height": 554
        }
      },
      "source": [
        "new_model3.summary()"
      ],
      "execution_count": 41,
      "outputs": [
        {
          "output_type": "stream",
          "text": [
            "Model: \"sequential_3\"\n",
            "_________________________________________________________________\n",
            "Layer (type)                 Output Shape              Param #   \n",
            "=================================================================\n",
            "conv2d_9 (Conv2D)            (None, 28, 28, 32)        320       \n",
            "_________________________________________________________________\n",
            "max_pooling2d_9 (MaxPooling2 (None, 14, 14, 32)        0         \n",
            "_________________________________________________________________\n",
            "conv2d_10 (Conv2D)           (None, 14, 14, 64)        18496     \n",
            "_________________________________________________________________\n",
            "max_pooling2d_10 (MaxPooling (None, 7, 7, 64)          0         \n",
            "_________________________________________________________________\n",
            "conv2d_11 (Conv2D)           (None, 7, 7, 128)         73856     \n",
            "_________________________________________________________________\n",
            "max_pooling2d_11 (MaxPooling (None, 4, 4, 128)         0         \n",
            "_________________________________________________________________\n",
            "flatten_3 (Flatten)          (None, 2048)              0         \n",
            "_________________________________________________________________\n",
            "dense_6 (Dense)              (None, 256)               524544    \n",
            "_________________________________________________________________\n",
            "dropout_3 (Dropout)          (None, 256)               0         \n",
            "_________________________________________________________________\n",
            "dense_7 (Dense)              (None, 10)                2570      \n",
            "=================================================================\n",
            "Total params: 619,786\n",
            "Trainable params: 619,786\n",
            "Non-trainable params: 0\n",
            "_________________________________________________________________\n"
          ],
          "name": "stdout"
        }
      ]
    },
    {
      "cell_type": "code",
      "metadata": {
        "id": "jW-5nYCQ4L6l",
        "colab_type": "code",
        "outputId": "6635e4d3-1599-4c21-d1a9-1d7845c5c7b4",
        "colab": {
          "base_uri": "https://localhost:8080/",
          "height": 55
        }
      },
      "source": [
        "new_model3.evaluate(test_dataset)"
      ],
      "execution_count": 42,
      "outputs": [
        {
          "output_type": "stream",
          "text": [
            "100/100 [==============================] - 0s 4ms/step - loss: 0.0296 - accuracy: 0.9931\n"
          ],
          "name": "stdout"
        },
        {
          "output_type": "execute_result",
          "data": {
            "text/plain": [
              "[0.029595303640449336, 0.9931]"
            ]
          },
          "metadata": {
            "tags": []
          },
          "execution_count": 42
        }
      ]
    },
    {
      "cell_type": "markdown",
      "metadata": {
        "id": "Sd78Up3M-nQK",
        "colab_type": "text"
      },
      "source": [
        "## saved_model format으로 저장하기(.pb)"
      ]
    },
    {
      "cell_type": "code",
      "metadata": {
        "id": "Yjs56y_g4PYR",
        "colab_type": "code",
        "colab": {}
      },
      "source": [
        "saved_model_path = os.path.join(cur_dir, save_dir_name, 'my_model')"
      ],
      "execution_count": 0,
      "outputs": []
    },
    {
      "cell_type": "code",
      "metadata": {
        "id": "4Jt0b2gp5E_l",
        "colab_type": "code",
        "outputId": "8be778d7-7405-4535-9a5c-16b2a8c9349d",
        "colab": {
          "base_uri": "https://localhost:8080/",
          "height": 114
        }
      },
      "source": [
        "model.save(saved_model_path)"
      ],
      "execution_count": 44,
      "outputs": [
        {
          "output_type": "stream",
          "text": [
            "WARNING:tensorflow:From /tensorflow-2.1.0/python3.6/tensorflow_core/python/ops/resource_variable_ops.py:1786: calling BaseResourceVariable.__init__ (from tensorflow.python.ops.resource_variable_ops) with constraint is deprecated and will be removed in a future version.\n",
            "Instructions for updating:\n",
            "If using Keras pass *_constraint arguments to layers.\n",
            "INFO:tensorflow:Assets written to: /content/saved_models/my_model/assets\n"
          ],
          "name": "stdout"
        }
      ]
    },
    {
      "cell_type": "code",
      "metadata": {
        "id": "OyRftLep5K31",
        "colab_type": "code",
        "outputId": "ebede614-b127-4da8-bd62-67d17a09e6d6",
        "colab": {
          "base_uri": "https://localhost:8080/",
          "height": 36
        }
      },
      "source": [
        "!ls saved_models/my_model"
      ],
      "execution_count": 72,
      "outputs": [
        {
          "output_type": "stream",
          "text": [
            "assets\tsaved_model.pb\tvariables\n"
          ],
          "name": "stdout"
        }
      ]
    },
    {
      "cell_type": "markdown",
      "metadata": {
        "id": "fKruXiO5-ugV",
        "colab_type": "text"
      },
      "source": [
        "## Recreate the same model"
      ]
    },
    {
      "cell_type": "code",
      "metadata": {
        "id": "9jh7jxEL5QUJ",
        "colab_type": "code",
        "colab": {}
      },
      "source": [
        "new_model4 = keras.models.load_model(saved_model_path)"
      ],
      "execution_count": 0,
      "outputs": []
    },
    {
      "cell_type": "code",
      "metadata": {
        "id": "0XAzg4h55aNq",
        "colab_type": "code",
        "outputId": "15e3535d-0c65-4377-b7cd-62a4d7e55d01",
        "colab": {
          "base_uri": "https://localhost:8080/",
          "height": 55
        }
      },
      "source": [
        "new_model4.evaluate(test_dataset)"
      ],
      "execution_count": 47,
      "outputs": [
        {
          "output_type": "stream",
          "text": [
            "100/100 [==============================] - 0s 4ms/step - loss: 0.0295 - accuracy: 0.9931\n"
          ],
          "name": "stdout"
        },
        {
          "output_type": "execute_result",
          "data": {
            "text/plain": [
              "[0.029505949789874107, 0.9931]"
            ]
          },
          "metadata": {
            "tags": []
          },
          "execution_count": 47
        }
      ]
    },
    {
      "cell_type": "markdown",
      "metadata": {
        "id": "DVbpBhgP-zSx",
        "colab_type": "text"
      },
      "source": [
        "# Fuctional API"
      ]
    },
    {
      "cell_type": "code",
      "metadata": {
        "id": "hxgRMWfe6ulT",
        "colab_type": "code",
        "colab": {}
      },
      "source": [
        "# Functional API를 사용하여 model 구성\n",
        "def create_model():\n",
        "    inputs = keras.Input(shape=(28, 28, 1))\n",
        "    conv1 = keras.layers.Conv2D(filters=32, kernel_size=[3, 3], padding='SAME', activation='relu')(inputs)\n",
        "    pool1 = keras.layers.MaxPool2D(padding='SAME')(conv1)\n",
        "    conv2 = keras.layers.Conv2D(filters=64, kernel_size=[3, 3], padding='SAME', activation='relu')(pool1)\n",
        "    pool2 = keras.layers.MaxPool2D(padding='SAME')(conv2)\n",
        "    conv3 = keras.layers.Conv2D(filters=128, kernel_size=[3, 3], padding='SAME', activation='relu')(pool2)\n",
        "    pool3 = keras.layers.MaxPool2D(padding='SAME')(conv3)\n",
        "    pool3_flat = keras.layers.Flatten()(pool3)\n",
        "    dense4 = keras.layers.Dense(units=256, activation='relu')(pool3_flat)\n",
        "    drop4 = keras.layers.Dropout(rate=0.4)(dense4)\n",
        "    logits = keras.layers.Dense(units=10, activation='softmax')(drop4)\n",
        "    return keras.Model(inputs=inputs, outputs=logits)"
      ],
      "execution_count": 0,
      "outputs": []
    },
    {
      "cell_type": "code",
      "metadata": {
        "id": "cRCMCwW67Qg9",
        "colab_type": "code",
        "colab": {}
      },
      "source": [
        "model = create_model()"
      ],
      "execution_count": 0,
      "outputs": []
    },
    {
      "cell_type": "code",
      "metadata": {
        "id": "1Dccmg2-7bKu",
        "colab_type": "code",
        "outputId": "4c27eeac-33ca-44ef-b7af-78807148eeb2",
        "colab": {
          "base_uri": "https://localhost:8080/",
          "height": 593
        }
      },
      "source": [
        "## model compile\n",
        "model.compile(optimizer=keras.optimizers.Adam(learning_rate),\n",
        "                 loss='categorical_crossentropy',\n",
        "                 metrics=['accuracy'])\n",
        "model.summary()"
      ],
      "execution_count": 50,
      "outputs": [
        {
          "output_type": "stream",
          "text": [
            "Model: \"model\"\n",
            "_________________________________________________________________\n",
            "Layer (type)                 Output Shape              Param #   \n",
            "=================================================================\n",
            "input_1 (InputLayer)         [(None, 28, 28, 1)]       0         \n",
            "_________________________________________________________________\n",
            "conv2d_15 (Conv2D)           (None, 28, 28, 32)        320       \n",
            "_________________________________________________________________\n",
            "max_pooling2d_15 (MaxPooling (None, 14, 14, 32)        0         \n",
            "_________________________________________________________________\n",
            "conv2d_16 (Conv2D)           (None, 14, 14, 64)        18496     \n",
            "_________________________________________________________________\n",
            "max_pooling2d_16 (MaxPooling (None, 7, 7, 64)          0         \n",
            "_________________________________________________________________\n",
            "conv2d_17 (Conv2D)           (None, 7, 7, 128)         73856     \n",
            "_________________________________________________________________\n",
            "max_pooling2d_17 (MaxPooling (None, 4, 4, 128)         0         \n",
            "_________________________________________________________________\n",
            "flatten_5 (Flatten)          (None, 2048)              0         \n",
            "_________________________________________________________________\n",
            "dense_10 (Dense)             (None, 256)               524544    \n",
            "_________________________________________________________________\n",
            "dropout_5 (Dropout)          (None, 256)               0         \n",
            "_________________________________________________________________\n",
            "dense_11 (Dense)             (None, 10)                2570      \n",
            "=================================================================\n",
            "Total params: 619,786\n",
            "Trainable params: 619,786\n",
            "Non-trainable params: 0\n",
            "_________________________________________________________________\n"
          ],
          "name": "stdout"
        }
      ]
    },
    {
      "cell_type": "code",
      "metadata": {
        "id": "7pmKBsqa7bke",
        "colab_type": "code",
        "outputId": "93807c4a-f286-4f3f-e86d-1f1db5a3382b",
        "colab": {
          "base_uri": "https://localhost:8080/",
          "height": 55
        }
      },
      "source": [
        "## 학습전 accuracy 확인\n",
        "model.evaluate(test_dataset)"
      ],
      "execution_count": 51,
      "outputs": [
        {
          "output_type": "stream",
          "text": [
            "100/100 [==============================] - 0s 4ms/step - loss: 2.3036 - accuracy: 0.1001\n"
          ],
          "name": "stdout"
        },
        {
          "output_type": "execute_result",
          "data": {
            "text/plain": [
              "[2.3036414694786074, 0.1001]"
            ]
          },
          "metadata": {
            "tags": []
          },
          "execution_count": 51
        }
      ]
    },
    {
      "cell_type": "code",
      "metadata": {
        "id": "CBhB76ZM7fAH",
        "colab_type": "code",
        "outputId": "66dd8773-3294-489b-9911-fa2609778a42",
        "colab": {
          "base_uri": "https://localhost:8080/",
          "height": 612
        }
      },
      "source": [
        "## Training\n",
        "history = model.fit(train_dataset, epochs=training_epochs, steps_per_epoch=steps_per_epoch, \n",
        "                    validation_data=test_dataset, validation_steps=validation_steps)"
      ],
      "execution_count": 52,
      "outputs": [
        {
          "output_type": "stream",
          "text": [
            "Train for 600 steps, validate for 100 steps\n",
            "Epoch 1/15\n",
            "600/600 [==============================] - 4s 7ms/step - loss: 0.1959 - accuracy: 0.9391 - val_loss: 0.0415 - val_accuracy: 0.9849\n",
            "Epoch 2/15\n",
            "600/600 [==============================] - 3s 6ms/step - loss: 0.0568 - accuracy: 0.9820 - val_loss: 0.0453 - val_accuracy: 0.9842\n",
            "Epoch 3/15\n",
            "600/600 [==============================] - 3s 6ms/step - loss: 0.0424 - accuracy: 0.9866 - val_loss: 0.0231 - val_accuracy: 0.9927\n",
            "Epoch 4/15\n",
            "600/600 [==============================] - 3s 6ms/step - loss: 0.0306 - accuracy: 0.9907 - val_loss: 0.0198 - val_accuracy: 0.9932\n",
            "Epoch 5/15\n",
            "600/600 [==============================] - 3s 6ms/step - loss: 0.0244 - accuracy: 0.9923 - val_loss: 0.0239 - val_accuracy: 0.9918\n",
            "Epoch 6/15\n",
            "600/600 [==============================] - 3s 6ms/step - loss: 0.0202 - accuracy: 0.9933 - val_loss: 0.0242 - val_accuracy: 0.9926\n",
            "Epoch 7/15\n",
            "600/600 [==============================] - 3s 6ms/step - loss: 0.0184 - accuracy: 0.9944 - val_loss: 0.0262 - val_accuracy: 0.9915\n",
            "Epoch 8/15\n",
            "600/600 [==============================] - 3s 6ms/step - loss: 0.0148 - accuracy: 0.9952 - val_loss: 0.0231 - val_accuracy: 0.9928\n",
            "Epoch 9/15\n",
            "600/600 [==============================] - 3s 6ms/step - loss: 0.0134 - accuracy: 0.9955 - val_loss: 0.0269 - val_accuracy: 0.9917\n",
            "Epoch 10/15\n",
            "600/600 [==============================] - 3s 6ms/step - loss: 0.0123 - accuracy: 0.9960 - val_loss: 0.0263 - val_accuracy: 0.9925\n",
            "Epoch 11/15\n",
            "600/600 [==============================] - 4s 6ms/step - loss: 0.0095 - accuracy: 0.9969 - val_loss: 0.0343 - val_accuracy: 0.9908\n",
            "Epoch 12/15\n",
            "600/600 [==============================] - 3s 6ms/step - loss: 0.0101 - accuracy: 0.9965 - val_loss: 0.0341 - val_accuracy: 0.9913\n",
            "Epoch 13/15\n",
            "600/600 [==============================] - 3s 6ms/step - loss: 0.0087 - accuracy: 0.9972 - val_loss: 0.0297 - val_accuracy: 0.9924\n",
            "Epoch 14/15\n",
            "600/600 [==============================] - 3s 5ms/step - loss: 0.0076 - accuracy: 0.9976 - val_loss: 0.0262 - val_accuracy: 0.9932\n",
            "Epoch 15/15\n",
            "600/600 [==============================] - 3s 6ms/step - loss: 0.0081 - accuracy: 0.9975 - val_loss: 0.0310 - val_accuracy: 0.9926\n"
          ],
          "name": "stdout"
        }
      ]
    },
    {
      "cell_type": "code",
      "metadata": {
        "id": "co0uCPUPB0m-",
        "colab_type": "code",
        "outputId": "be6e1295-2110-4429-e1c8-566e2aa6a1ec",
        "colab": {
          "base_uri": "https://localhost:8080/",
          "height": 1000
        }
      },
      "source": [
        "rnd_idx = np.random.randint(1, N_TEST//batch_size)\n",
        "img_cnt = 0\n",
        "for images, labels in test_dataset:\n",
        "    img_cnt += 1\n",
        "    if img_cnt != rnd_idx:\n",
        "        continue\n",
        "    predictions = model(images, training=False)\n",
        "    num_rows = 5\n",
        "    num_cols = 3\n",
        "    num_images = num_rows*num_cols\n",
        "    labels = tf.argmax(labels, axis=-1)\n",
        "    plt.figure(figsize=(3*2*num_cols, 4*num_rows))\n",
        "    plt.subplots_adjust(hspace=1.0)\n",
        "    for i in range(num_images):\n",
        "        plt.subplot(num_rows, 2*num_cols, 2*i+1)\n",
        "        plot_image(i, predictions.numpy(), labels.numpy(), images.numpy())\n",
        "        plt.subplot(num_rows, 2*num_cols, 2*i+2)\n",
        "        plot_value_array(i, predictions.numpy(), labels.numpy())"
      ],
      "execution_count": 54,
      "outputs": [
        {
          "output_type": "display_data",
          "data": {
            "image/png": "[encoded data removed]",
            "text/plain": [
              "<Figure size 1296x1440 with 30 Axes>"
            ]
          },
          "metadata": {
            "tags": []
          }
        }
      ]
    },
    {
      "cell_type": "code",
      "metadata": {
        "id": "lXxIJ-5p5N3S",
        "colab_type": "code",
        "colab": {}
      },
      "source": [
        "saved_model_path = os.path.join(cur_dir, save_dir_name, 'mnist_cnn_func.h5')"
      ],
      "execution_count": 0,
      "outputs": []
    },
    {
      "cell_type": "code",
      "metadata": {
        "id": "6yxQtQ0-5iHl",
        "colab_type": "code",
        "colab": {}
      },
      "source": [
        "model.save(saved_model_path)"
      ],
      "execution_count": 0,
      "outputs": []
    },
    {
      "cell_type": "code",
      "metadata": {
        "id": "MgZ15rSl5o30",
        "colab_type": "code",
        "outputId": "6215497c-5dae-4287-f6aa-0182bd4849a5",
        "colab": {
          "base_uri": "https://localhost:8080/",
          "height": 36
        }
      },
      "source": [
        "!ls saved_models"
      ],
      "execution_count": 57,
      "outputs": [
        {
          "output_type": "stream",
          "text": [
            "mnist_cnn_func.h5  my_model  my_model.h5\n"
          ],
          "name": "stdout"
        }
      ]
    },
    {
      "cell_type": "code",
      "metadata": {
        "id": "ujHI89KR8lYT",
        "colab_type": "code",
        "outputId": "ec05adda-3d52-4182-fec4-b8dccba0d695",
        "colab": {
          "base_uri": "https://localhost:8080/",
          "height": 55
        }
      },
      "source": [
        "new_model5 = keras.models.load_model(saved_model_path)\n",
        "new_model5.evaluate(test_dataset)"
      ],
      "execution_count": 58,
      "outputs": [
        {
          "output_type": "stream",
          "text": [
            "100/100 [==============================] - 0s 4ms/step - loss: 0.0310 - accuracy: 0.9926\n"
          ],
          "name": "stdout"
        },
        {
          "output_type": "execute_result",
          "data": {
            "text/plain": [
              "[0.03095961752982845, 0.9926]"
            ]
          },
          "metadata": {
            "tags": []
          },
          "execution_count": 58
        }
      ]
    },
    {
      "cell_type": "code",
      "metadata": {
        "id": "a-joCdszsLzW",
        "colab_type": "code",
        "outputId": "29e29cdc-6e41-4e00-fb9b-641de4569659",
        "colab": {
          "base_uri": "https://localhost:8080/",
          "height": 55
        }
      },
      "source": [
        "saved_model_path = os.path.join(cur_dir, save_dir_name, 'mnist_cnn_func_pb')\n",
        "model.save(saved_model_path)\n",
        "!ls -l saved_models/mnist_cnn_func_pb"
      ],
      "execution_count": 59,
      "outputs": [
        {
          "output_type": "stream",
          "text": [
            "INFO:tensorflow:Assets written to: /content/saved_models/mnist_cnn_func_pb/assets\n",
            "assets\tsaved_model.pb\tvariables\n"
          ],
          "name": "stdout"
        }
      ]
    },
    {
      "cell_type": "code",
      "metadata": {
        "id": "T0pMNv6tsgs0",
        "colab_type": "code",
        "outputId": "0673bcc1-bf80-4628-94fc-305481fecc0a",
        "colab": {
          "base_uri": "https://localhost:8080/",
          "height": 55
        }
      },
      "source": [
        "new_model6 = keras.models.load_model(saved_model_path)\n",
        "new_model6.evaluate(test_dataset)"
      ],
      "execution_count": 60,
      "outputs": [
        {
          "output_type": "stream",
          "text": [
            "100/100 [==============================] - 0s 4ms/step - loss: 0.0310 - accuracy: 0.9926\n"
          ],
          "name": "stdout"
        },
        {
          "output_type": "execute_result",
          "data": {
            "text/plain": [
              "[0.030959708072601302, 0.9926]"
            ]
          },
          "metadata": {
            "tags": []
          },
          "execution_count": 60
        }
      ]
    },
    {
      "cell_type": "code",
      "metadata": {
        "id": "mb93jWXQ5kJD",
        "colab_type": "code",
        "colab": {}
      },
      "source": [
        ""
      ],
      "execution_count": 0,
      "outputs": []
    }
  ]
}