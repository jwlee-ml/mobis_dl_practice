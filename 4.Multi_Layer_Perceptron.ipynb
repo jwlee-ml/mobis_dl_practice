{
  "nbformat": 4,
  "nbformat_minor": 0,
  "metadata": {
    "accelerator": "GPU",
    "colab": {
      "name": "2_2.Multi_Layer_Perceptron.ipynb",
      "provenance": [],
      "collapsed_sections": []
    },
    "kernelspec": {
      "name": "python3",
      "display_name": "Python 3"
    },
    "language_info": {
      "codemirror_mode": {
        "name": "ipython",
        "version": 3
      },
      "file_extension": ".py",
      "mimetype": "text/x-python",
      "name": "python",
      "nbconvert_exporter": "python",
      "pygments_lexer": "ipython3",
      "version": "3.7.3"
    }
  },
  "cells": [
    {
      "cell_type": "markdown",
      "metadata": {
        "colab_type": "text",
        "id": "1D2zND53dHZg"
      },
      "source": [
        "## TensorFlow 2.0 선택\n",
        "[런타임] -> [런타임 유형변경]에서 하드웨어 가속기를 꼭 GPU로 설정!"
      ]
    },
    {
      "cell_type": "code",
      "metadata": {
        "colab_type": "code",
        "id": "KDMDtusTdLOg",
        "outputId": "78b1e61f-7695-4902-c201-a7d132437800",
        "colab": {
          "base_uri": "https://localhost:8080/",
          "height": 36
        }
      },
      "source": [
        "try:\n",
        "  # %tensorflow_version only exists in Colab.\n",
        "  %tensorflow_version 2.x\n",
        "except Exception:\n",
        "  pass"
      ],
      "execution_count": 1,
      "outputs": [
        {
          "output_type": "stream",
          "text": [
            "TensorFlow 2.x selected.\n"
          ],
          "name": "stdout"
        }
      ]
    },
    {
      "cell_type": "markdown",
      "metadata": {
        "id": "MiCzk1QXDtXC",
        "colab_type": "text"
      },
      "source": [
        "## Coding Tips\n",
        "Neural Network coding 시에 아래와 같이 구분하여 만들자\n",
        "#### 1. Hyper Paramter 정하기\n",
        "#### 2. Data 준비(불러오기 or download 등)\n",
        "#### 3. Dataset 구성 (tf.data.Dataset 이용)\n",
        "#### 4. Modlel 만들기 (Neural Network model)\n",
        "#### 5. Loss function 정의, Optimizer 선택\n",
        "#### 6. Training (Train, Test function 만들기 포함)\n",
        "#### 7. Validation(or Test) 결과 확인"
      ]
    },
    {
      "cell_type": "markdown",
      "metadata": {
        "colab_type": "text",
        "id": "YuSmlP3hc2gA"
      },
      "source": [
        "## Importing Libraries"
      ]
    },
    {
      "cell_type": "code",
      "metadata": {
        "colab_type": "code",
        "id": "yIP78tvlc2gB",
        "outputId": "727f70ab-0abc-438d-bad9-fe91ea0e32bc",
        "colab": {
          "base_uri": "https://localhost:8080/",
          "height": 55
        }
      },
      "source": [
        "## Library import\n",
        "import tensorflow as tf\n",
        "from tensorflow import keras\n",
        "from tensorflow.keras.utils import to_categorical\n",
        "import numpy as np\n",
        "import matplotlib.pyplot as plt\n",
        "import os\n",
        "\n",
        "print(tf.__version__)\n",
        "print(keras.__version__)"
      ],
      "execution_count": 2,
      "outputs": [
        {
          "output_type": "stream",
          "text": [
            "2.1.0-rc1\n",
            "2.2.4-tf\n"
          ],
          "name": "stdout"
        }
      ]
    },
    {
      "cell_type": "markdown",
      "metadata": {
        "colab_type": "text",
        "id": "P9h5pJtRc2gG"
      },
      "source": [
        "## Hyper Parameters"
      ]
    },
    {
      "cell_type": "code",
      "metadata": {
        "colab_type": "code",
        "id": "8GyqfeSTc2gH",
        "colab": {}
      },
      "source": [
        "learning_rate = 0.001\n",
        "training_epochs = 20\n",
        "batch_size = 100\n",
        "n_class = 10"
      ],
      "execution_count": 0,
      "outputs": []
    },
    {
      "cell_type": "markdown",
      "metadata": {
        "colab_type": "text",
        "id": "yfso9lHbc2gJ"
      },
      "source": [
        "## MNIST/Fashion MNIST Data"
      ]
    },
    {
      "cell_type": "code",
      "metadata": {
        "colab_type": "code",
        "id": "bTm_qqgnc2gK",
        "colab": {}
      },
      "source": [
        "## MNIST Dataset #########################################################\n",
        "mnist = keras.datasets.mnist\n",
        "class_names = ['0', '1', '2', '3', '4', '5', '6', '7', '8', '9']\n",
        "##########################################################################\n",
        "\n",
        "## Fashion MNIST Dataset #################################################\n",
        "#mnist = keras.datasets.fashion_mnist\n",
        "#class_names = ['T-shirt/top', 'Trouser', 'Pullover', 'Dress', 'Coat', 'Sandal', 'Shirt', 'Sneaker', 'Bag', 'Ankle boot']\n",
        "##########################################################################"
      ],
      "execution_count": 0,
      "outputs": []
    },
    {
      "cell_type": "markdown",
      "metadata": {
        "colab_type": "text",
        "id": "yBEChy8Vc2gM"
      },
      "source": [
        "## Datasets"
      ]
    },
    {
      "cell_type": "code",
      "metadata": {
        "colab_type": "code",
        "id": "xIiLtFKFc2gN",
        "colab": {
          "base_uri": "https://localhost:8080/",
          "height": 55
        },
        "outputId": "5164e882-ff5b-4eb2-8953-598759024e2a"
      },
      "source": [
        "## MNIST dataset load\n",
        "(train_images, train_labels), (test_images, test_labels) = mnist.load_data()  "
      ],
      "execution_count": 5,
      "outputs": [
        {
          "output_type": "stream",
          "text": [
            "Downloading data from https://storage.googleapis.com/tensorflow/tf-keras-datasets/mnist.npz\n",
            "11493376/11490434 [==============================] - 0s 0us/step\n"
          ],
          "name": "stdout"
        }
      ]
    },
    {
      "cell_type": "code",
      "metadata": {
        "colab_type": "code",
        "id": "7pZPYK3tc2gP",
        "outputId": "74edb3e5-6c13-4abd-837c-c3d749a6117e",
        "colab": {
          "base_uri": "https://localhost:8080/",
          "height": 36
        }
      },
      "source": [
        "## train_images, train_labels의 type 확인\n",
        "type(train_images), type(train_labels)"
      ],
      "execution_count": 6,
      "outputs": [
        {
          "output_type": "execute_result",
          "data": {
            "text/plain": [
              "(numpy.ndarray, numpy.ndarray)"
            ]
          },
          "metadata": {
            "tags": []
          },
          "execution_count": 6
        }
      ]
    },
    {
      "cell_type": "code",
      "metadata": {
        "colab_type": "code",
        "id": "pot6yL8Jc2gR",
        "outputId": "93dcceb7-b72f-4754-f582-02a0f0131e2e",
        "colab": {
          "base_uri": "https://localhost:8080/",
          "height": 36
        }
      },
      "source": [
        "## train_images, train_labels의 shape 확인\n",
        "train_images.shape, train_labels.shape"
      ],
      "execution_count": 7,
      "outputs": [
        {
          "output_type": "execute_result",
          "data": {
            "text/plain": [
              "((60000, 28, 28), (60000,))"
            ]
          },
          "metadata": {
            "tags": []
          },
          "execution_count": 7
        }
      ]
    },
    {
      "cell_type": "code",
      "metadata": {
        "colab_type": "code",
        "id": "tbXINTxAc2gT",
        "outputId": "4116b0de-b899-4b46-bce2-e9bfed40a515",
        "colab": {
          "base_uri": "https://localhost:8080/",
          "height": 36
        }
      },
      "source": [
        "## test_images, test_labels의 shape 확인\n",
        "test_images.shape, test_labels.shape"
      ],
      "execution_count": 8,
      "outputs": [
        {
          "output_type": "execute_result",
          "data": {
            "text/plain": [
              "((10000, 28, 28), (10000,))"
            ]
          },
          "metadata": {
            "tags": []
          },
          "execution_count": 8
        }
      ]
    },
    {
      "cell_type": "code",
      "metadata": {
        "colab_type": "code",
        "id": "UNUwl_XzdscK",
        "outputId": "a7ab91b4-9bc2-4ef5-9aa2-022f1c754fbb",
        "colab": {
          "base_uri": "https://localhost:8080/",
          "height": 209
        }
      },
      "source": [
        "## training set의 각 class 별 image 수 확인\n",
        "unique, counts = np.unique(train_labels, axis=-1, return_counts=True)\n",
        "dict(zip(unique, counts))"
      ],
      "execution_count": 9,
      "outputs": [
        {
          "output_type": "execute_result",
          "data": {
            "text/plain": [
              "{0: 5923,\n",
              " 1: 6742,\n",
              " 2: 5958,\n",
              " 3: 6131,\n",
              " 4: 5842,\n",
              " 5: 5421,\n",
              " 6: 5918,\n",
              " 7: 6265,\n",
              " 8: 5851,\n",
              " 9: 5949}"
            ]
          },
          "metadata": {
            "tags": []
          },
          "execution_count": 9
        }
      ]
    },
    {
      "cell_type": "code",
      "metadata": {
        "colab_type": "code",
        "id": "jG4FZ0PKd2sQ",
        "outputId": "f1836b70-f9fd-461a-d716-855d741b21cf",
        "colab": {
          "base_uri": "https://localhost:8080/",
          "height": 209
        }
      },
      "source": [
        "## test set의 각 class 별 image 수 확인\n",
        "unique, counts = np.unique(test_labels, axis=-1, return_counts=True)\n",
        "dict(zip(unique, counts))"
      ],
      "execution_count": 10,
      "outputs": [
        {
          "output_type": "execute_result",
          "data": {
            "text/plain": [
              "{0: 980,\n",
              " 1: 1135,\n",
              " 2: 1032,\n",
              " 3: 1010,\n",
              " 4: 982,\n",
              " 5: 892,\n",
              " 6: 958,\n",
              " 7: 1028,\n",
              " 8: 974,\n",
              " 9: 1009}"
            ]
          },
          "metadata": {
            "tags": []
          },
          "execution_count": 10
        }
      ]
    },
    {
      "cell_type": "code",
      "metadata": {
        "colab_type": "code",
        "id": "0IJkpDBLc2gV",
        "colab": {}
      },
      "source": [
        "## train dataset, test dataset의 개수 저장\n",
        "n_train = train_images.shape[0]\n",
        "n_test = test_images.shape[0]"
      ],
      "execution_count": 0,
      "outputs": []
    },
    {
      "cell_type": "code",
      "metadata": {
        "colab_type": "code",
        "id": "nPGVScGHc2gX",
        "outputId": "8ed65dd5-61e8-4281-ee9f-0054810edfdb",
        "colab": {
          "base_uri": "https://localhost:8080/",
          "height": 265
        }
      },
      "source": [
        "## train_images의 0번 image 화면에 출력\n",
        "plt.figure()\n",
        "plt.imshow(train_images[0], cmap=plt.cm.binary)\n",
        "plt.colorbar()\n",
        "plt.show()"
      ],
      "execution_count": 12,
      "outputs": [
        {
          "output_type": "display_data",
          "data": {
            "image/png": "[encoded data removed]",
            "text/plain": [
              "<Figure size 432x288 with 2 Axes>"
            ]
          },
          "metadata": {
            "tags": []
          }
        }
      ]
    },
    {
      "cell_type": "code",
      "metadata": {
        "colab_type": "code",
        "id": "lMx9I_5Lc2gZ",
        "outputId": "70b49e6a-0f84-4f5e-9e51-4ab1b9914b13",
        "colab": {
          "base_uri": "https://localhost:8080/",
          "height": 860
        }
      },
      "source": [
        "## 25개의 train image와 label 화면에 출력\n",
        "plt.figure(figsize=(15,15))\n",
        "for i in range(25):\n",
        "    plt.subplot(5,5,i+1)\n",
        "    plt.xticks([])\n",
        "    plt.yticks([])\n",
        "    plt.grid(False)\n",
        "    plt.imshow(train_images[i], cmap=plt.cm.binary)\n",
        "    plt.xlabel(class_names[train_labels[i]])"
      ],
      "execution_count": 13,
      "outputs": [
        {
          "output_type": "display_data",
          "data": {
            "image/png": "[encoded data removed]",
            "text/plain": [
              "<Figure size 1080x1080 with 25 Axes>"
            ]
          },
          "metadata": {
            "tags": []
          }
        }
      ]
    },
    {
      "cell_type": "code",
      "metadata": {
        "colab_type": "code",
        "id": "kg0Nx9Obc2gb",
        "colab": {}
      },
      "source": [
        "## image를 0~1사이 값으로 만들기 위하여 255로 나누어줌\n",
        "train_images = train_images.astype(np.float32) / 255.\n",
        "test_images = test_images.astype(np.float32) / 255.\n",
        "\n",
        "## one-hot encoding\n",
        "train_labels = to_categorical(train_labels, n_class)\n",
        "test_labels = to_categorical(test_labels, n_class)"
      ],
      "execution_count": 0,
      "outputs": []
    },
    {
      "cell_type": "code",
      "metadata": {
        "colab_type": "code",
        "id": "lHyVpL1Ka9mz",
        "colab": {}
      },
      "source": [
        "## dataset 구성    \n",
        "train_dataset = tf.data.Dataset.from_tensor_slices((train_images, train_labels)).shuffle(\n",
        "                buffer_size=100000).batch(batch_size)\n",
        "test_dataset = tf.data.Dataset.from_tensor_slices((test_images, test_labels)).batch(batch_size)"
      ],
      "execution_count": 0,
      "outputs": []
    },
    {
      "cell_type": "markdown",
      "metadata": {
        "colab_type": "text",
        "id": "y9pWpm9mc2gd"
      },
      "source": [
        "## Linear Regression Model"
      ]
    },
    {
      "cell_type": "code",
      "metadata": {
        "colab_type": "code",
        "id": "i5v4vQA2c2ge",
        "colab": {}
      },
      "source": [
        "def create_lr_model():\n",
        "    model = keras.Sequential()\n",
        "    model.add(keras.layers.Flatten(input_shape=(28,28)))\n",
        "    model.add(keras.layers.Dense(10, activation='softmax'))\n",
        "    return model"
      ],
      "execution_count": 0,
      "outputs": []
    },
    {
      "cell_type": "code",
      "metadata": {
        "colab_type": "code",
        "id": "54eUybNTc2gg",
        "outputId": "c856f74c-6b2a-4c16-d203-10abcc0b25cb",
        "colab": {
          "base_uri": "https://localhost:8080/",
          "height": 247
        }
      },
      "source": [
        "lr_model = create_lr_model()\n",
        "lr_model.summary()"
      ],
      "execution_count": 17,
      "outputs": [
        {
          "output_type": "stream",
          "text": [
            "Model: \"sequential\"\n",
            "_________________________________________________________________\n",
            "Layer (type)                 Output Shape              Param #   \n",
            "=================================================================\n",
            "flatten (Flatten)            (None, 784)               0         \n",
            "_________________________________________________________________\n",
            "dense (Dense)                (None, 10)                7850      \n",
            "=================================================================\n",
            "Total params: 7,850\n",
            "Trainable params: 7,850\n",
            "Non-trainable params: 0\n",
            "_________________________________________________________________\n"
          ],
          "name": "stdout"
        }
      ]
    },
    {
      "cell_type": "markdown",
      "metadata": {
        "colab_type": "text",
        "id": "VlpxtXX9g6nq"
      },
      "source": [
        "## Loss & Optimizer"
      ]
    },
    {
      "cell_type": "code",
      "metadata": {
        "colab_type": "code",
        "id": "19ptM-RjUHN3",
        "colab": {}
      },
      "source": [
        "loss_object = tf.keras.losses.CategoricalCrossentropy()\n",
        "optimizer = tf.keras.optimizers.Adam(learning_rate)"
      ],
      "execution_count": 0,
      "outputs": []
    },
    {
      "cell_type": "code",
      "metadata": {
        "colab_type": "code",
        "id": "xsydWtIdUHh3",
        "colab": {}
      },
      "source": [
        "train_loss = tf.keras.metrics.Mean()\n",
        "train_accuracy = tf.keras.metrics.CategoricalAccuracy()\n",
        "\n",
        "test_loss = tf.keras.metrics.Mean()\n",
        "test_accuracy = tf.keras.metrics.CategoricalAccuracy()"
      ],
      "execution_count": 0,
      "outputs": []
    },
    {
      "cell_type": "markdown",
      "metadata": {
        "colab_type": "text",
        "id": "IJM4WalFhBWS"
      },
      "source": [
        "## Train & Test function"
      ]
    },
    {
      "cell_type": "code",
      "metadata": {
        "colab_type": "code",
        "id": "DI3RNHlXU5g1",
        "colab": {}
      },
      "source": [
        "@tf.function\n",
        "def train_step(images, labels):\n",
        "  with tf.GradientTape() as tape:\n",
        "    predictions = lr_model(images)\n",
        "    loss = loss_object(labels, predictions)\n",
        "  gradients = tape.gradient(loss, lr_model.trainable_variables)\n",
        "  optimizer.apply_gradients(zip(gradients, lr_model.trainable_variables))\n",
        "\n",
        "  train_loss(loss)\n",
        "  train_accuracy(labels, predictions)"
      ],
      "execution_count": 0,
      "outputs": []
    },
    {
      "cell_type": "code",
      "metadata": {
        "colab_type": "code",
        "id": "uOGZ3wEuU5mF",
        "colab": {}
      },
      "source": [
        "@tf.function\n",
        "def test_step(images, labels):\n",
        "  predictions = lr_model(images)\n",
        "  t_loss = loss_object(labels, predictions)\n",
        "\n",
        "  test_loss(t_loss)\n",
        "  test_accuracy(labels, predictions)"
      ],
      "execution_count": 0,
      "outputs": []
    },
    {
      "cell_type": "markdown",
      "metadata": {
        "colab_type": "text",
        "id": "V7lJgOpthG4q"
      },
      "source": [
        "## Training"
      ]
    },
    {
      "cell_type": "code",
      "metadata": {
        "colab_type": "code",
        "id": "83v7HWdoU5dP",
        "outputId": "16b3e5b1-93af-44d4-e422-e8546031d014",
        "colab": {
          "base_uri": "https://localhost:8080/",
          "height": 401
        }
      },
      "source": [
        "for epoch in range(training_epochs):\n",
        "  for images, labels in train_dataset:\n",
        "    train_step(images, labels)\n",
        "\n",
        "  for test_images, test_labels in test_dataset:\n",
        "    test_step(test_images, test_labels)\n",
        "\n",
        "  template = 'Epoch: {}, loss: {:.4f}, accuracy: {:.4f}, val_loss: {:.4f}, val_accuracy: {:.4f}'\n",
        "  print (template.format(epoch+1,\n",
        "                         train_loss.result(),\n",
        "                         train_accuracy.result(),\n",
        "                         test_loss.result(),\n",
        "                         test_accuracy.result()))"
      ],
      "execution_count": 22,
      "outputs": [
        {
          "output_type": "stream",
          "text": [
            "Epoch: 1, loss: 0.6199, accuracy: 0.8463, val_loss: 0.3610, val_accuracy: 0.9055\n",
            "Epoch: 2, loss: 0.4826, accuracy: 0.8759, val_loss: 0.3346, val_accuracy: 0.9106\n",
            "Epoch: 3, loss: 0.4248, accuracy: 0.8887, val_loss: 0.3193, val_accuracy: 0.9138\n",
            "Epoch: 4, loss: 0.3917, accuracy: 0.8961, val_loss: 0.3098, val_accuracy: 0.9157\n",
            "Epoch: 5, loss: 0.3698, accuracy: 0.9011, val_loss: 0.3026, val_accuracy: 0.9176\n",
            "Epoch: 6, loss: 0.3540, accuracy: 0.9048, val_loss: 0.2974, val_accuracy: 0.9186\n",
            "Epoch: 7, loss: 0.3420, accuracy: 0.9075, val_loss: 0.2938, val_accuracy: 0.9195\n",
            "Epoch: 8, loss: 0.3324, accuracy: 0.9098, val_loss: 0.2904, val_accuracy: 0.9202\n",
            "Epoch: 9, loss: 0.3246, accuracy: 0.9118, val_loss: 0.2876, val_accuracy: 0.9210\n",
            "Epoch: 10, loss: 0.3180, accuracy: 0.9134, val_loss: 0.2853, val_accuracy: 0.9217\n",
            "Epoch: 11, loss: 0.3125, accuracy: 0.9148, val_loss: 0.2836, val_accuracy: 0.9220\n",
            "Epoch: 12, loss: 0.3077, accuracy: 0.9160, val_loss: 0.2818, val_accuracy: 0.9225\n",
            "Epoch: 13, loss: 0.3035, accuracy: 0.9171, val_loss: 0.2806, val_accuracy: 0.9227\n",
            "Epoch: 14, loss: 0.2998, accuracy: 0.9180, val_loss: 0.2795, val_accuracy: 0.9231\n",
            "Epoch: 15, loss: 0.2964, accuracy: 0.9189, val_loss: 0.2784, val_accuracy: 0.9234\n",
            "Epoch: 16, loss: 0.2934, accuracy: 0.9196, val_loss: 0.2774, val_accuracy: 0.9237\n",
            "Epoch: 17, loss: 0.2907, accuracy: 0.9204, val_loss: 0.2765, val_accuracy: 0.9239\n",
            "Epoch: 18, loss: 0.2883, accuracy: 0.9210, val_loss: 0.2757, val_accuracy: 0.9242\n",
            "Epoch: 19, loss: 0.2860, accuracy: 0.9216, val_loss: 0.2749, val_accuracy: 0.9245\n",
            "Epoch: 20, loss: 0.2839, accuracy: 0.9221, val_loss: 0.2744, val_accuracy: 0.9246\n"
          ],
          "name": "stdout"
        }
      ]
    },
    {
      "cell_type": "markdown",
      "metadata": {
        "colab_type": "text",
        "id": "j7xZonrnhN1_"
      },
      "source": [
        "# Using Keras"
      ]
    },
    {
      "cell_type": "code",
      "metadata": {
        "colab_type": "code",
        "id": "CJ4oatRXU5aL",
        "colab": {}
      },
      "source": [
        "## dataset에 repeat()추가\n",
        "train_dataset = train_dataset.repeat()\n",
        "test_dataset = test_dataset.repeat()"
      ],
      "execution_count": 0,
      "outputs": []
    },
    {
      "cell_type": "code",
      "metadata": {
        "colab_type": "code",
        "id": "u5CR9jbLU5XZ",
        "colab": {}
      },
      "source": [
        "## 새로운 model 만들기\n",
        "lr_model_k = create_lr_model()"
      ],
      "execution_count": 0,
      "outputs": []
    },
    {
      "cell_type": "markdown",
      "metadata": {
        "colab_type": "text",
        "id": "xWTv4YmqegoR"
      },
      "source": [
        "## Model Compile(Optimizer & Loss Function)"
      ]
    },
    {
      "cell_type": "code",
      "metadata": {
        "colab_type": "code",
        "id": "WIDB24aaeZbT",
        "colab": {}
      },
      "source": [
        "lr_model_k.compile(optimizer=keras.optimizers.Adam(learning_rate),\n",
        "                 loss = 'categorical_crossentropy',\n",
        "                 metrics=['accuracy'])"
      ],
      "execution_count": 0,
      "outputs": []
    },
    {
      "cell_type": "markdown",
      "metadata": {
        "colab_type": "text",
        "id": "UZ4-9ws-c2gh"
      },
      "source": [
        "## Training"
      ]
    },
    {
      "cell_type": "code",
      "metadata": {
        "colab_type": "code",
        "id": "Tuge30Lsc2gi",
        "outputId": "61620784-e23a-46c5-f710-f942abe382a2",
        "colab": {
          "base_uri": "https://localhost:8080/",
          "height": 36
        }
      },
      "source": [
        "steps_per_epoch = n_train//batch_size\n",
        "validation_steps = n_test//batch_size\n",
        "print(steps_per_epoch, validation_steps) "
      ],
      "execution_count": 27,
      "outputs": [
        {
          "output_type": "stream",
          "text": [
            "600 100\n"
          ],
          "name": "stdout"
        }
      ]
    },
    {
      "cell_type": "code",
      "metadata": {
        "colab_type": "code",
        "id": "AqA-8BjNfarK",
        "outputId": "25a9df87-8c75-4afa-e690-712af0c83a01",
        "colab": {
          "base_uri": "https://localhost:8080/",
          "height": 804
        }
      },
      "source": [
        "history = lr_model_k.fit(train_dataset, epochs=training_epochs, steps_per_epoch=steps_per_epoch, \n",
        "                    validation_data=test_dataset, validation_steps=validation_steps)"
      ],
      "execution_count": 28,
      "outputs": [
        {
          "output_type": "stream",
          "text": [
            "Train for 600 steps, validate for 100 steps\n",
            "Epoch 1/20\n",
            "600/600 [==============================] - 3s 4ms/step - loss: 0.6352 - accuracy: 0.8399 - val_loss: 0.3654 - val_accuracy: 0.9026\n",
            "Epoch 2/20\n",
            "600/600 [==============================] - 2s 3ms/step - loss: 0.3476 - accuracy: 0.9048 - val_loss: 0.3102 - val_accuracy: 0.9133\n",
            "Epoch 3/20\n",
            "600/600 [==============================] - 2s 3ms/step - loss: 0.3106 - accuracy: 0.9139 - val_loss: 0.2901 - val_accuracy: 0.9190\n",
            "Epoch 4/20\n",
            "600/600 [==============================] - 2s 3ms/step - loss: 0.2929 - accuracy: 0.9186 - val_loss: 0.2802 - val_accuracy: 0.9213\n",
            "Epoch 5/20\n",
            "600/600 [==============================] - 2s 3ms/step - loss: 0.2827 - accuracy: 0.9211 - val_loss: 0.2772 - val_accuracy: 0.9227\n",
            "Epoch 6/20\n",
            "600/600 [==============================] - 2s 3ms/step - loss: 0.2751 - accuracy: 0.9232 - val_loss: 0.2716 - val_accuracy: 0.9240\n",
            "Epoch 7/20\n",
            "600/600 [==============================] - 2s 3ms/step - loss: 0.2698 - accuracy: 0.9248 - val_loss: 0.2673 - val_accuracy: 0.9261\n",
            "Epoch 8/20\n",
            "600/600 [==============================] - 2s 3ms/step - loss: 0.2658 - accuracy: 0.9262 - val_loss: 0.2658 - val_accuracy: 0.9257\n",
            "Epoch 9/20\n",
            "600/600 [==============================] - 2s 4ms/step - loss: 0.2623 - accuracy: 0.9270 - val_loss: 0.2651 - val_accuracy: 0.9262\n",
            "Epoch 10/20\n",
            "600/600 [==============================] - 2s 4ms/step - loss: 0.2592 - accuracy: 0.9282 - val_loss: 0.2660 - val_accuracy: 0.9259\n",
            "Epoch 11/20\n",
            "600/600 [==============================] - 2s 3ms/step - loss: 0.2569 - accuracy: 0.9283 - val_loss: 0.2663 - val_accuracy: 0.9253\n",
            "Epoch 12/20\n",
            "600/600 [==============================] - 2s 3ms/step - loss: 0.2549 - accuracy: 0.9290 - val_loss: 0.2665 - val_accuracy: 0.9269\n",
            "Epoch 13/20\n",
            "600/600 [==============================] - 2s 3ms/step - loss: 0.2530 - accuracy: 0.9302 - val_loss: 0.2640 - val_accuracy: 0.9263\n",
            "Epoch 14/20\n",
            "600/600 [==============================] - 2s 3ms/step - loss: 0.2514 - accuracy: 0.9303 - val_loss: 0.2642 - val_accuracy: 0.9264\n",
            "Epoch 15/20\n",
            "600/600 [==============================] - 2s 3ms/step - loss: 0.2498 - accuracy: 0.9317 - val_loss: 0.2652 - val_accuracy: 0.9262\n",
            "Epoch 16/20\n",
            "600/600 [==============================] - 2s 3ms/step - loss: 0.2482 - accuracy: 0.9312 - val_loss: 0.2634 - val_accuracy: 0.9251\n",
            "Epoch 17/20\n",
            "600/600 [==============================] - 2s 3ms/step - loss: 0.2471 - accuracy: 0.9317 - val_loss: 0.2616 - val_accuracy: 0.9282\n",
            "Epoch 18/20\n",
            "600/600 [==============================] - 2s 3ms/step - loss: 0.2463 - accuracy: 0.9321 - val_loss: 0.2619 - val_accuracy: 0.9283\n",
            "Epoch 19/20\n",
            "600/600 [==============================] - 2s 3ms/step - loss: 0.2453 - accuracy: 0.9326 - val_loss: 0.2627 - val_accuracy: 0.9264\n",
            "Epoch 20/20\n",
            "600/600 [==============================] - 2s 3ms/step - loss: 0.2440 - accuracy: 0.9323 - val_loss: 0.2626 - val_accuracy: 0.9266\n"
          ],
          "name": "stdout"
        }
      ]
    },
    {
      "cell_type": "markdown",
      "metadata": {
        "colab_type": "text",
        "id": "KZ3x2hbfc2gk"
      },
      "source": [
        "## Training 결과 확인"
      ]
    },
    {
      "cell_type": "code",
      "metadata": {
        "colab_type": "code",
        "id": "P8o6oJWWc2gl",
        "colab": {}
      },
      "source": [
        "def plot_image(i, predictions_array, true_label, img):\n",
        "    predictions_array, true_label, img = predictions_array[i], true_label[i], img[i]\n",
        "    plt.grid(False)\n",
        "    plt.xticks([])\n",
        "    plt.yticks([])\n",
        "\n",
        "    plt.imshow(img,cmap=plt.cm.binary)\n",
        "\n",
        "    predicted_label = np.argmax(predictions_array)\n",
        "    if predicted_label == true_label:\n",
        "        color = 'blue'\n",
        "    else:\n",
        "        color = 'red'\n",
        "\n",
        "    plt.xlabel(\"{} {:2.0f}% ({})\".format(class_names[predicted_label],\n",
        "                                100*np.max(predictions_array),\n",
        "                                class_names[true_label]),\n",
        "                                color=color)\n",
        "\n",
        "def plot_value_array(i, predictions_array, true_label):\n",
        "    predictions_array, true_label = predictions_array[i], true_label[i]\n",
        "    plt.grid(False)\n",
        "    #plt.xticks([])\n",
        "    plt.xticks(range(n_class), class_names, rotation=90)\n",
        "    plt.yticks([])\n",
        "    thisplot = plt.bar(range(n_class), predictions_array, color=\"#777777\")\n",
        "    plt.ylim([0, 1]) \n",
        "    predicted_label = np.argmax(predictions_array)\n",
        " \n",
        "    thisplot[predicted_label].set_color('red')\n",
        "    thisplot[true_label].set_color('blue')"
      ],
      "execution_count": 0,
      "outputs": []
    },
    {
      "cell_type": "code",
      "metadata": {
        "colab_type": "code",
        "id": "QXeU3uTQf-lK",
        "outputId": "051a8f2b-0864-4713-8ee0-f10d2fae889d",
        "colab": {
          "base_uri": "https://localhost:8080/",
          "height": 1000
        }
      },
      "source": [
        "rnd_idx = np.random.randint(1, n_test//batch_size)\n",
        "img_cnt = 0\n",
        "for images, labels in test_dataset:\n",
        "    img_cnt += 1\n",
        "    if img_cnt != rnd_idx:\n",
        "        continue\n",
        "    predictions = lr_model_k(images, training=False)\n",
        "    num_rows = 5\n",
        "    num_cols = 3\n",
        "    num_images = num_rows*num_cols\n",
        "    labels = tf.argmax(labels, axis=-1)\n",
        "    plt.figure(figsize=(3*2*num_cols, 4*num_rows))\n",
        "    plt.subplots_adjust(hspace=1.0)\n",
        "    for i in range(num_images):\n",
        "        plt.subplot(num_rows, 2*num_cols, 2*i+1)\n",
        "        plot_image(i, predictions.numpy(), labels.numpy(), images.numpy())\n",
        "        plt.subplot(num_rows, 2*num_cols, 2*i+2)\n",
        "        plot_value_array(i, predictions.numpy(), labels.numpy())        \n",
        "    break"
      ],
      "execution_count": 30,
      "outputs": [
        {
          "output_type": "display_data",
          "data": {
            "image/png": "[encoded data removed]",
            "text/plain": [
              "<Figure size 1296x1440 with 30 Axes>"
            ]
          },
          "metadata": {
            "tags": []
          }
        }
      ]
    },
    {
      "cell_type": "markdown",
      "metadata": {
        "colab_type": "text",
        "id": "7NlrYsiqc2gn"
      },
      "source": [
        "## Multi-Layer Perceptron Model - 3 layers"
      ]
    },
    {
      "cell_type": "code",
      "metadata": {
        "colab_type": "code",
        "id": "09qhaVdVrHCt",
        "colab": {}
      },
      "source": [
        "## MNIST dataset load\n",
        "(train_images, train_labels), (test_images, test_labels) = mnist.load_data()\n",
        "\n",
        "## image를 0~1사이 값으로 만들기 위하여 255로 나누어줌\n",
        "train_images = train_images.astype(np.float32) / 255.\n",
        "test_images = test_images.astype(np.float32) / 255.\n",
        "\n",
        "## one-hot encoding\n",
        "train_labels = to_categorical(train_labels, n_class)\n",
        "test_labels = to_categorical(test_labels, n_class)"
      ],
      "execution_count": 0,
      "outputs": []
    },
    {
      "cell_type": "code",
      "metadata": {
        "colab_type": "code",
        "id": "w5JSvmtRiuWy",
        "colab": {}
      },
      "source": [
        "## dataset 구성 - repeat() 다시 빼기 \n",
        "train_dataset = tf.data.Dataset.from_tensor_slices((train_images, train_labels)).shuffle(\n",
        "                buffer_size=100000).batch(batch_size)\n",
        "test_dataset = tf.data.Dataset.from_tensor_slices((test_images, test_labels)).batch(batch_size)"
      ],
      "execution_count": 0,
      "outputs": []
    },
    {
      "cell_type": "code",
      "metadata": {
        "colab_type": "code",
        "id": "oExA_JU5c2gn",
        "colab": {}
      },
      "source": [
        "def create_mlp_model():\n",
        "    model = keras.Sequential()\n",
        "    model.add(keras.layers.Flatten(input_shape=(28,28)))\n",
        "    model.add(keras.layers.Dense(256, activation='relu'))\n",
        "    model.add(keras.layers.Dense(128, activation='relu'))\n",
        "    model.add(keras.layers.Dense(10, activation='softmax'))\n",
        "    return model"
      ],
      "execution_count": 0,
      "outputs": []
    },
    {
      "cell_type": "code",
      "metadata": {
        "colab_type": "code",
        "id": "qt3aJVrBg4I7",
        "outputId": "645cacd2-7e9c-43cf-cfd2-30fa40670422",
        "colab": {
          "base_uri": "https://localhost:8080/",
          "height": 324
        }
      },
      "source": [
        "mlp_model = create_mlp_model()\n",
        "mlp_model.summary()"
      ],
      "execution_count": 34,
      "outputs": [
        {
          "output_type": "stream",
          "text": [
            "Model: \"sequential_2\"\n",
            "_________________________________________________________________\n",
            "Layer (type)                 Output Shape              Param #   \n",
            "=================================================================\n",
            "flatten_2 (Flatten)          (None, 784)               0         \n",
            "_________________________________________________________________\n",
            "dense_2 (Dense)              (None, 256)               200960    \n",
            "_________________________________________________________________\n",
            "dense_3 (Dense)              (None, 128)               32896     \n",
            "_________________________________________________________________\n",
            "dense_4 (Dense)              (None, 10)                1290      \n",
            "=================================================================\n",
            "Total params: 235,146\n",
            "Trainable params: 235,146\n",
            "Non-trainable params: 0\n",
            "_________________________________________________________________\n"
          ],
          "name": "stdout"
        }
      ]
    },
    {
      "cell_type": "code",
      "metadata": {
        "colab_type": "code",
        "id": "YuNpjWpYmKg3",
        "colab": {}
      },
      "source": [
        "## reset metrics\n",
        "train_loss.reset_states()\n",
        "train_accuracy.reset_states()\n",
        "test_loss.reset_states()\n",
        "test_accuracy.reset_states()"
      ],
      "execution_count": 0,
      "outputs": []
    },
    {
      "cell_type": "code",
      "metadata": {
        "colab_type": "code",
        "id": "qkN3VHEQiBei",
        "colab": {}
      },
      "source": [
        "## train function\n",
        "@tf.function\n",
        "def train_step(images, labels):\n",
        "  with tf.GradientTape() as tape:\n",
        "    predictions = mlp_model(images)\n",
        "    loss = loss_object(labels, predictions)\n",
        "  gradients = tape.gradient(loss, mlp_model.trainable_variables)\n",
        "  optimizer.apply_gradients(zip(gradients, mlp_model.trainable_variables))\n",
        "\n",
        "  train_loss(loss)\n",
        "  train_accuracy(labels, predictions)"
      ],
      "execution_count": 0,
      "outputs": []
    },
    {
      "cell_type": "code",
      "metadata": {
        "colab_type": "code",
        "id": "yeR_HjASiLgD",
        "colab": {}
      },
      "source": [
        "## test function\n",
        "@tf.function\n",
        "def test_step(images, labels):\n",
        "  predictions = mlp_model(images)\n",
        "  t_loss = loss_object(labels, predictions)\n",
        "\n",
        "  test_loss(t_loss)\n",
        "  test_accuracy(labels, predictions)"
      ],
      "execution_count": 0,
      "outputs": []
    },
    {
      "cell_type": "code",
      "metadata": {
        "colab_type": "code",
        "id": "si8ryD36iMac",
        "outputId": "bea2f03f-e94c-4087-b0be-1f20cd97baa8",
        "colab": {
          "base_uri": "https://localhost:8080/",
          "height": 401
        }
      },
      "source": [
        "## Training\n",
        "for epoch in range(training_epochs):\n",
        "  for images, labels in train_dataset:\n",
        "    train_step(images, labels)\n",
        "\n",
        "  for test_images, test_labels in test_dataset:\n",
        "    test_step(test_images, test_labels)\n",
        "\n",
        "  template = 'Epoch: {}, loss: {:.4f}, accuracy: {:.4f}, val_loss: {:.4f}, val_accuracy: {:.4f}'\n",
        "  print (template.format(epoch+1,\n",
        "                         train_loss.result(),\n",
        "                         train_accuracy.result(),\n",
        "                         test_loss.result(),\n",
        "                         test_accuracy.result()))"
      ],
      "execution_count": 38,
      "outputs": [
        {
          "output_type": "stream",
          "text": [
            "Epoch: 1, loss: 0.1860, accuracy: 0.9438, val_loss: 0.1014, val_accuracy: 0.9680\n",
            "Epoch: 2, loss: 0.1289, accuracy: 0.9609, val_loss: 0.0897, val_accuracy: 0.9712\n",
            "Epoch: 3, loss: 0.1013, accuracy: 0.9692, val_loss: 0.0816, val_accuracy: 0.9736\n",
            "Epoch: 4, loss: 0.0839, accuracy: 0.9744, val_loss: 0.0777, val_accuracy: 0.9750\n",
            "Epoch: 5, loss: 0.0716, accuracy: 0.9780, val_loss: 0.0758, val_accuracy: 0.9759\n",
            "Epoch: 6, loss: 0.0623, accuracy: 0.9809, val_loss: 0.0745, val_accuracy: 0.9768\n",
            "Epoch: 7, loss: 0.0553, accuracy: 0.9831, val_loss: 0.0753, val_accuracy: 0.9769\n",
            "Epoch: 8, loss: 0.0500, accuracy: 0.9846, val_loss: 0.0753, val_accuracy: 0.9773\n",
            "Epoch: 9, loss: 0.0456, accuracy: 0.9859, val_loss: 0.0763, val_accuracy: 0.9774\n",
            "Epoch: 10, loss: 0.0421, accuracy: 0.9870, val_loss: 0.0763, val_accuracy: 0.9777\n",
            "Epoch: 11, loss: 0.0389, accuracy: 0.9880, val_loss: 0.0776, val_accuracy: 0.9779\n",
            "Epoch: 12, loss: 0.0364, accuracy: 0.9887, val_loss: 0.0778, val_accuracy: 0.9781\n",
            "Epoch: 13, loss: 0.0341, accuracy: 0.9894, val_loss: 0.0787, val_accuracy: 0.9783\n",
            "Epoch: 14, loss: 0.0322, accuracy: 0.9900, val_loss: 0.0799, val_accuracy: 0.9785\n",
            "Epoch: 15, loss: 0.0306, accuracy: 0.9905, val_loss: 0.0807, val_accuracy: 0.9785\n",
            "Epoch: 16, loss: 0.0291, accuracy: 0.9909, val_loss: 0.0814, val_accuracy: 0.9787\n",
            "Epoch: 17, loss: 0.0278, accuracy: 0.9913, val_loss: 0.0820, val_accuracy: 0.9789\n",
            "Epoch: 18, loss: 0.0265, accuracy: 0.9917, val_loss: 0.0833, val_accuracy: 0.9789\n",
            "Epoch: 19, loss: 0.0255, accuracy: 0.9920, val_loss: 0.0838, val_accuracy: 0.9790\n",
            "Epoch: 20, loss: 0.0244, accuracy: 0.9924, val_loss: 0.0841, val_accuracy: 0.9792\n"
          ],
          "name": "stdout"
        }
      ]
    },
    {
      "cell_type": "markdown",
      "metadata": {
        "colab_type": "text",
        "id": "GaqbiojAc2gp"
      },
      "source": [
        "## Using Keras"
      ]
    },
    {
      "cell_type": "code",
      "metadata": {
        "colab_type": "code",
        "id": "TYUJqidXjIlj",
        "colab": {}
      },
      "source": [
        "## dataset에 repeat()추가\n",
        "train_dataset = train_dataset.repeat()\n",
        "test_dataset = test_dataset.repeat()"
      ],
      "execution_count": 0,
      "outputs": []
    },
    {
      "cell_type": "code",
      "metadata": {
        "colab_type": "code",
        "id": "2tijmU1ZjIvQ",
        "colab": {}
      },
      "source": [
        "## 새로운 model 만들기\n",
        "mlp_model_k = create_mlp_model()"
      ],
      "execution_count": 0,
      "outputs": []
    },
    {
      "cell_type": "code",
      "metadata": {
        "colab_type": "code",
        "id": "a4Bh7fiKc2gq",
        "colab": {}
      },
      "source": [
        "## model compile\n",
        "mlp_model_k.compile(optimizer=keras.optimizers.Adam(learning_rate),\n",
        "                 loss = 'categorical_crossentropy',\n",
        "                 metrics=['accuracy'])"
      ],
      "execution_count": 0,
      "outputs": []
    },
    {
      "cell_type": "code",
      "metadata": {
        "colab_type": "code",
        "id": "PJUm_LLJc2gx",
        "outputId": "cba6c352-bbee-471f-84ff-9a43af786d79",
        "scrolled": false,
        "colab": {
          "base_uri": "https://localhost:8080/",
          "height": 804
        }
      },
      "source": [
        "## training\n",
        "history = mlp_model_k.fit(train_dataset, epochs=training_epochs, steps_per_epoch=steps_per_epoch, \n",
        "                    validation_data=test_dataset, validation_steps=validation_steps)"
      ],
      "execution_count": 42,
      "outputs": [
        {
          "output_type": "stream",
          "text": [
            "Train for 600 steps, validate for 100 steps\n",
            "Epoch 1/20\n",
            "600/600 [==============================] - 3s 4ms/step - loss: 0.2540 - accuracy: 0.9262 - val_loss: 0.1160 - val_accuracy: 0.9660\n",
            "Epoch 2/20\n",
            "600/600 [==============================] - 2s 4ms/step - loss: 0.0967 - accuracy: 0.9708 - val_loss: 0.0882 - val_accuracy: 0.9727\n",
            "Epoch 3/20\n",
            "600/600 [==============================] - 2s 3ms/step - loss: 0.0627 - accuracy: 0.9807 - val_loss: 0.0809 - val_accuracy: 0.9753\n",
            "Epoch 4/20\n",
            "600/600 [==============================] - 2s 3ms/step - loss: 0.0450 - accuracy: 0.9860 - val_loss: 0.0704 - val_accuracy: 0.9787\n",
            "Epoch 5/20\n",
            "600/600 [==============================] - 2s 3ms/step - loss: 0.0331 - accuracy: 0.9892 - val_loss: 0.0653 - val_accuracy: 0.9807\n",
            "Epoch 6/20\n",
            "600/600 [==============================] - 2s 3ms/step - loss: 0.0254 - accuracy: 0.9918 - val_loss: 0.0779 - val_accuracy: 0.9773\n",
            "Epoch 7/20\n",
            "600/600 [==============================] - 2s 3ms/step - loss: 0.0203 - accuracy: 0.9934 - val_loss: 0.0762 - val_accuracy: 0.9774\n",
            "Epoch 8/20\n",
            "600/600 [==============================] - 2s 3ms/step - loss: 0.0157 - accuracy: 0.9951 - val_loss: 0.0893 - val_accuracy: 0.9769\n",
            "Epoch 9/20\n",
            "600/600 [==============================] - 2s 3ms/step - loss: 0.0174 - accuracy: 0.9941 - val_loss: 0.0857 - val_accuracy: 0.9768\n",
            "Epoch 10/20\n",
            "600/600 [==============================] - 2s 3ms/step - loss: 0.0143 - accuracy: 0.9953 - val_loss: 0.1000 - val_accuracy: 0.9745\n",
            "Epoch 11/20\n",
            "600/600 [==============================] - 2s 3ms/step - loss: 0.0106 - accuracy: 0.9965 - val_loss: 0.0883 - val_accuracy: 0.9789\n",
            "Epoch 12/20\n",
            "600/600 [==============================] - 2s 3ms/step - loss: 0.0135 - accuracy: 0.9953 - val_loss: 0.0912 - val_accuracy: 0.9774\n",
            "Epoch 13/20\n",
            "600/600 [==============================] - 2s 3ms/step - loss: 0.0092 - accuracy: 0.9969 - val_loss: 0.1020 - val_accuracy: 0.9762\n",
            "Epoch 14/20\n",
            "600/600 [==============================] - 2s 3ms/step - loss: 0.0121 - accuracy: 0.9958 - val_loss: 0.0868 - val_accuracy: 0.9806\n",
            "Epoch 15/20\n",
            "600/600 [==============================] - 2s 4ms/step - loss: 0.0059 - accuracy: 0.9980 - val_loss: 0.0925 - val_accuracy: 0.9794\n",
            "Epoch 16/20\n",
            "600/600 [==============================] - 2s 4ms/step - loss: 0.0090 - accuracy: 0.9969 - val_loss: 0.0948 - val_accuracy: 0.9801\n",
            "Epoch 17/20\n",
            "600/600 [==============================] - 2s 4ms/step - loss: 0.0077 - accuracy: 0.9971 - val_loss: 0.1011 - val_accuracy: 0.9786\n",
            "Epoch 18/20\n",
            "600/600 [==============================] - 2s 3ms/step - loss: 0.0075 - accuracy: 0.9974 - val_loss: 0.1144 - val_accuracy: 0.9775\n",
            "Epoch 19/20\n",
            "600/600 [==============================] - 2s 3ms/step - loss: 0.0069 - accuracy: 0.9979 - val_loss: 0.1034 - val_accuracy: 0.9791\n",
            "Epoch 20/20\n",
            "600/600 [==============================] - 2s 3ms/step - loss: 0.0085 - accuracy: 0.9973 - val_loss: 0.1245 - val_accuracy: 0.9773\n"
          ],
          "name": "stdout"
        }
      ]
    },
    {
      "cell_type": "markdown",
      "metadata": {
        "colab_type": "text",
        "id": "41x7OABPhZVL"
      },
      "source": [
        "## Multi-Layer Perceptron Model - 5 layers"
      ]
    },
    {
      "cell_type": "code",
      "metadata": {
        "colab_type": "code",
        "id": "Jc9Z8q4Arpo9",
        "colab": {}
      },
      "source": [
        "## MNIST dataset load\n",
        "(train_images, train_labels), (test_images, test_labels) = mnist.load_data()\n",
        "\n",
        "## image를 0~1사이 값으로 만들기 위하여 255로 나누어줌\n",
        "train_images = train_images.astype(np.float32) / 255.\n",
        "test_images = test_images.astype(np.float32) / 255.\n",
        "\n",
        "## one-hot encoding\n",
        "train_labels = to_categorical(train_labels, n_class)\n",
        "test_labels = to_categorical(test_labels, n_class)"
      ],
      "execution_count": 0,
      "outputs": []
    },
    {
      "cell_type": "code",
      "metadata": {
        "colab_type": "code",
        "id": "WLvohSZRrp15",
        "colab": {}
      },
      "source": [
        "## dataset 구성 - repeat() 다시 빼기 \n",
        "train_dataset = tf.data.Dataset.from_tensor_slices((train_images, train_labels)).shuffle(\n",
        "                buffer_size=100000).batch(batch_size)\n",
        "test_dataset = tf.data.Dataset.from_tensor_slices((test_images, test_labels)).batch(batch_size)"
      ],
      "execution_count": 0,
      "outputs": []
    },
    {
      "cell_type": "code",
      "metadata": {
        "colab_type": "code",
        "id": "b8VAp4MUc2g2",
        "colab": {}
      },
      "source": [
        "def create_dmlp_model():\n",
        "    model = keras.Sequential()\n",
        "    model.add(keras.layers.Flatten(input_shape=(28,28)))\n",
        "    model.add(keras.layers.Dense(256, activation='relu'))\n",
        "    model.add(keras.layers.Dense(256, activation='relu'))    \n",
        "    model.add(keras.layers.Dense(128, activation='relu'))\n",
        "    model.add(keras.layers.Dense(128, activation='relu'))    \n",
        "    model.add(keras.layers.Dense(10, activation='softmax'))\n",
        "    return model"
      ],
      "execution_count": 0,
      "outputs": []
    },
    {
      "cell_type": "code",
      "metadata": {
        "colab_type": "code",
        "id": "7-DUAEV0hsSd",
        "outputId": "c5045655-68e9-400a-c5ce-dd5778f15f0d",
        "colab": {
          "base_uri": "https://localhost:8080/",
          "height": 401
        }
      },
      "source": [
        "dmlp_model = create_dmlp_model()\n",
        "dmlp_model.summary()"
      ],
      "execution_count": 46,
      "outputs": [
        {
          "output_type": "stream",
          "text": [
            "Model: \"sequential_4\"\n",
            "_________________________________________________________________\n",
            "Layer (type)                 Output Shape              Param #   \n",
            "=================================================================\n",
            "flatten_4 (Flatten)          (None, 784)               0         \n",
            "_________________________________________________________________\n",
            "dense_8 (Dense)              (None, 256)               200960    \n",
            "_________________________________________________________________\n",
            "dense_9 (Dense)              (None, 256)               65792     \n",
            "_________________________________________________________________\n",
            "dense_10 (Dense)             (None, 128)               32896     \n",
            "_________________________________________________________________\n",
            "dense_11 (Dense)             (None, 128)               16512     \n",
            "_________________________________________________________________\n",
            "dense_12 (Dense)             (None, 10)                1290      \n",
            "=================================================================\n",
            "Total params: 317,450\n",
            "Trainable params: 317,450\n",
            "Non-trainable params: 0\n",
            "_________________________________________________________________\n"
          ],
          "name": "stdout"
        }
      ]
    },
    {
      "cell_type": "code",
      "metadata": {
        "colab_type": "code",
        "id": "VDXoU6dEpMUs",
        "colab": {}
      },
      "source": [
        "## reset metrics\n",
        "train_loss.reset_states()\n",
        "train_accuracy.reset_states()\n",
        "test_loss.reset_states()\n",
        "test_accuracy.reset_states()"
      ],
      "execution_count": 0,
      "outputs": []
    },
    {
      "cell_type": "code",
      "metadata": {
        "colab_type": "code",
        "id": "rtLPDw2Gj0vo",
        "colab": {}
      },
      "source": [
        "## train function\n",
        "@tf.function\n",
        "def train_step(images, labels):\n",
        "  with tf.GradientTape() as tape:\n",
        "    predictions = dmlp_model(images)\n",
        "    loss = loss_object(labels, predictions)\n",
        "  gradients = tape.gradient(loss, dmlp_model.trainable_variables)\n",
        "  optimizer.apply_gradients(zip(gradients, dmlp_model.trainable_variables))\n",
        "\n",
        "  train_loss(loss)\n",
        "  train_accuracy(labels, predictions)"
      ],
      "execution_count": 0,
      "outputs": []
    },
    {
      "cell_type": "code",
      "metadata": {
        "colab_type": "code",
        "id": "ScJQTd3Xj03-",
        "colab": {}
      },
      "source": [
        "## test function\n",
        "@tf.function\n",
        "def test_step(images, labels):\n",
        "  predictions = dmlp_model(images)\n",
        "  t_loss = loss_object(labels, predictions)\n",
        "\n",
        "  test_loss(t_loss)\n",
        "  test_accuracy(labels, predictions)"
      ],
      "execution_count": 0,
      "outputs": []
    },
    {
      "cell_type": "code",
      "metadata": {
        "colab_type": "code",
        "id": "BgTT0kkfj0-B",
        "outputId": "f2d0c6bc-7fd4-4fdf-94ac-509769e7dd85",
        "colab": {
          "base_uri": "https://localhost:8080/",
          "height": 401
        }
      },
      "source": [
        "## Training\n",
        "for epoch in range(training_epochs):\n",
        "  for images, labels in train_dataset:\n",
        "    train_step(images, labels)\n",
        "\n",
        "  for test_images, test_labels in test_dataset:\n",
        "    test_step(test_images, test_labels)\n",
        "\n",
        "  template = 'Epoch: {}, loss: {:.4f}, accuracy: {:.4f}, val_loss: {:.4f}, val_accuracy: {:.4f}'\n",
        "  print (template.format(epoch+1,\n",
        "                         train_loss.result(),\n",
        "                         train_accuracy.result(),\n",
        "                         test_loss.result(),\n",
        "                         test_accuracy.result()))"
      ],
      "execution_count": 50,
      "outputs": [
        {
          "output_type": "stream",
          "text": [
            "Epoch: 1, loss: 0.2062, accuracy: 0.9363, val_loss: 0.1003, val_accuracy: 0.9687\n",
            "Epoch: 2, loss: 0.1437, accuracy: 0.9558, val_loss: 0.0886, val_accuracy: 0.9724\n",
            "Epoch: 3, loss: 0.1130, accuracy: 0.9650, val_loss: 0.0892, val_accuracy: 0.9728\n",
            "Epoch: 4, loss: 0.0946, accuracy: 0.9707, val_loss: 0.0869, val_accuracy: 0.9736\n",
            "Epoch: 5, loss: 0.0825, accuracy: 0.9744, val_loss: 0.0903, val_accuracy: 0.9736\n",
            "Epoch: 6, loss: 0.0728, accuracy: 0.9773, val_loss: 0.0884, val_accuracy: 0.9746\n",
            "Epoch: 7, loss: 0.0654, accuracy: 0.9796, val_loss: 0.0880, val_accuracy: 0.9752\n",
            "Epoch: 8, loss: 0.0596, accuracy: 0.9814, val_loss: 0.0883, val_accuracy: 0.9756\n",
            "Epoch: 9, loss: 0.0550, accuracy: 0.9828, val_loss: 0.0883, val_accuracy: 0.9758\n",
            "Epoch: 10, loss: 0.0510, accuracy: 0.9841, val_loss: 0.0913, val_accuracy: 0.9759\n",
            "Epoch: 11, loss: 0.0479, accuracy: 0.9851, val_loss: 0.0913, val_accuracy: 0.9764\n",
            "Epoch: 12, loss: 0.0450, accuracy: 0.9859, val_loss: 0.0902, val_accuracy: 0.9769\n",
            "Epoch: 13, loss: 0.0425, accuracy: 0.9867, val_loss: 0.0900, val_accuracy: 0.9773\n",
            "Epoch: 14, loss: 0.0403, accuracy: 0.9874, val_loss: 0.0907, val_accuracy: 0.9773\n",
            "Epoch: 15, loss: 0.0382, accuracy: 0.9881, val_loss: 0.0906, val_accuracy: 0.9776\n",
            "Epoch: 16, loss: 0.0367, accuracy: 0.9886, val_loss: 0.0899, val_accuracy: 0.9779\n",
            "Epoch: 17, loss: 0.0350, accuracy: 0.9891, val_loss: 0.0897, val_accuracy: 0.9781\n",
            "Epoch: 18, loss: 0.0336, accuracy: 0.9895, val_loss: 0.0906, val_accuracy: 0.9781\n",
            "Epoch: 19, loss: 0.0324, accuracy: 0.9899, val_loss: 0.0909, val_accuracy: 0.9783\n",
            "Epoch: 20, loss: 0.0312, accuracy: 0.9903, val_loss: 0.0913, val_accuracy: 0.9784\n"
          ],
          "name": "stdout"
        }
      ]
    },
    {
      "cell_type": "markdown",
      "metadata": {
        "colab_type": "text",
        "id": "zedUzx7Shyiz"
      },
      "source": [
        "## Using Keras"
      ]
    },
    {
      "cell_type": "code",
      "metadata": {
        "colab_type": "code",
        "id": "aiJDH9-ykM8L",
        "colab": {}
      },
      "source": [
        "## dataset에 repeat()추가\n",
        "train_dataset = train_dataset.repeat()\n",
        "test_dataset = test_dataset.repeat()"
      ],
      "execution_count": 0,
      "outputs": []
    },
    {
      "cell_type": "code",
      "metadata": {
        "colab_type": "code",
        "id": "NXJxBX5okND8",
        "colab": {}
      },
      "source": [
        "## 새로운 model 만들기\n",
        "dmlp_model_k = create_dmlp_model()"
      ],
      "execution_count": 0,
      "outputs": []
    },
    {
      "cell_type": "code",
      "metadata": {
        "colab_type": "code",
        "id": "KhkHjbQNhwhU",
        "colab": {}
      },
      "source": [
        "## model compile\n",
        "dmlp_model_k.compile(optimizer=keras.optimizers.Adam(learning_rate),\n",
        "                 loss = 'categorical_crossentropy',\n",
        "                 metrics=['accuracy'])"
      ],
      "execution_count": 0,
      "outputs": []
    },
    {
      "cell_type": "code",
      "metadata": {
        "colab_type": "code",
        "id": "6Vv2ebjDh4LZ",
        "outputId": "a8ae2273-9b51-4815-95e8-12cb9a1f64ff",
        "colab": {
          "base_uri": "https://localhost:8080/",
          "height": 804
        }
      },
      "source": [
        "## training\n",
        "history = dmlp_model_k.fit(train_dataset, epochs=training_epochs, steps_per_epoch=steps_per_epoch, \n",
        "                    validation_data=test_dataset, validation_steps=validation_steps)"
      ],
      "execution_count": 54,
      "outputs": [
        {
          "output_type": "stream",
          "text": [
            "Train for 600 steps, validate for 100 steps\n",
            "Epoch 1/20\n",
            "600/600 [==============================] - 3s 5ms/step - loss: 0.2436 - accuracy: 0.9280 - val_loss: 0.1149 - val_accuracy: 0.9631\n",
            "Epoch 2/20\n",
            "600/600 [==============================] - 2s 4ms/step - loss: 0.0923 - accuracy: 0.9717 - val_loss: 0.0822 - val_accuracy: 0.9740\n",
            "Epoch 3/20\n",
            "600/600 [==============================] - 2s 4ms/step - loss: 0.0622 - accuracy: 0.9810 - val_loss: 0.0759 - val_accuracy: 0.9762\n",
            "Epoch 4/20\n",
            "600/600 [==============================] - 2s 4ms/step - loss: 0.0487 - accuracy: 0.9850 - val_loss: 0.0758 - val_accuracy: 0.9757\n",
            "Epoch 5/20\n",
            "600/600 [==============================] - 2s 4ms/step - loss: 0.0389 - accuracy: 0.9875 - val_loss: 0.0901 - val_accuracy: 0.9742\n",
            "Epoch 6/20\n",
            "600/600 [==============================] - 2s 4ms/step - loss: 0.0327 - accuracy: 0.9896 - val_loss: 0.0676 - val_accuracy: 0.9812\n",
            "Epoch 7/20\n",
            "600/600 [==============================] - 2s 4ms/step - loss: 0.0311 - accuracy: 0.9900 - val_loss: 0.0757 - val_accuracy: 0.9806\n",
            "Epoch 8/20\n",
            "600/600 [==============================] - 2s 4ms/step - loss: 0.0240 - accuracy: 0.9920 - val_loss: 0.0850 - val_accuracy: 0.9800\n",
            "Epoch 9/20\n",
            "600/600 [==============================] - 2s 4ms/step - loss: 0.0222 - accuracy: 0.9926 - val_loss: 0.1069 - val_accuracy: 0.9736\n",
            "Epoch 10/20\n",
            "600/600 [==============================] - 2s 4ms/step - loss: 0.0215 - accuracy: 0.9932 - val_loss: 0.0835 - val_accuracy: 0.9791\n",
            "Epoch 11/20\n",
            "600/600 [==============================] - 2s 4ms/step - loss: 0.0170 - accuracy: 0.9950 - val_loss: 0.1028 - val_accuracy: 0.9775\n",
            "Epoch 12/20\n",
            "600/600 [==============================] - 2s 4ms/step - loss: 0.0177 - accuracy: 0.9943 - val_loss: 0.0996 - val_accuracy: 0.9772\n",
            "Epoch 13/20\n",
            "600/600 [==============================] - 2s 4ms/step - loss: 0.0152 - accuracy: 0.9954 - val_loss: 0.0845 - val_accuracy: 0.9798\n",
            "Epoch 14/20\n",
            "600/600 [==============================] - 2s 4ms/step - loss: 0.0130 - accuracy: 0.9956 - val_loss: 0.0984 - val_accuracy: 0.9784\n",
            "Epoch 15/20\n",
            "600/600 [==============================] - 2s 4ms/step - loss: 0.0158 - accuracy: 0.9951 - val_loss: 0.0992 - val_accuracy: 0.9789\n",
            "Epoch 16/20\n",
            "600/600 [==============================] - 2s 4ms/step - loss: 0.0116 - accuracy: 0.9963 - val_loss: 0.0873 - val_accuracy: 0.9799\n",
            "Epoch 17/20\n",
            "600/600 [==============================] - 2s 4ms/step - loss: 0.0117 - accuracy: 0.9965 - val_loss: 0.0927 - val_accuracy: 0.9807\n",
            "Epoch 18/20\n",
            "600/600 [==============================] - 2s 4ms/step - loss: 0.0102 - accuracy: 0.9966 - val_loss: 0.1388 - val_accuracy: 0.9742\n",
            "Epoch 19/20\n",
            "600/600 [==============================] - 2s 4ms/step - loss: 0.0114 - accuracy: 0.9967 - val_loss: 0.0984 - val_accuracy: 0.9822\n",
            "Epoch 20/20\n",
            "600/600 [==============================] - 2s 4ms/step - loss: 0.0126 - accuracy: 0.9963 - val_loss: 0.0989 - val_accuracy: 0.9801\n"
          ],
          "name": "stdout"
        }
      ]
    },
    {
      "cell_type": "markdown",
      "metadata": {
        "colab_type": "text",
        "id": "71kpuSCFiVC8"
      },
      "source": [
        "## Drop-out"
      ]
    },
    {
      "cell_type": "code",
      "metadata": {
        "colab_type": "code",
        "id": "nJlViNrRiTxX",
        "colab": {}
      },
      "source": [
        "drop_rate = 0.3\n",
        "\n",
        "def create_do_model():\n",
        "    model = keras.Sequential()\n",
        "    model.add(keras.layers.Flatten(input_shape=(28,28)))\n",
        "    model.add(keras.layers.Dense(256, activation='relu'))\n",
        "    model.add(keras.layers.Dropout(drop_rate))\n",
        "    model.add(keras.layers.Dense(256, activation='relu'))\n",
        "    model.add(keras.layers.Dropout(drop_rate))\n",
        "    model.add(keras.layers.Dense(128, activation='relu'))\n",
        "    model.add(keras.layers.Dropout(drop_rate))\n",
        "    model.add(keras.layers.Dense(128, activation='relu'))\n",
        "    model.add(keras.layers.Dropout(drop_rate))\n",
        "    model.add(keras.layers.Dense(10, activation='softmax'))\n",
        "    return model"
      ],
      "execution_count": 0,
      "outputs": []
    },
    {
      "cell_type": "code",
      "metadata": {
        "colab_type": "code",
        "id": "nI-pBhnhikLR",
        "outputId": "3562e4e2-d0cc-42b4-fa96-f95cd73301cb",
        "colab": {
          "base_uri": "https://localhost:8080/",
          "height": 554
        }
      },
      "source": [
        "do_model = create_do_model()\n",
        "do_model.summary()"
      ],
      "execution_count": 56,
      "outputs": [
        {
          "output_type": "stream",
          "text": [
            "Model: \"sequential_6\"\n",
            "_________________________________________________________________\n",
            "Layer (type)                 Output Shape              Param #   \n",
            "=================================================================\n",
            "flatten_6 (Flatten)          (None, 784)               0         \n",
            "_________________________________________________________________\n",
            "dense_18 (Dense)             (None, 256)               200960    \n",
            "_________________________________________________________________\n",
            "dropout (Dropout)            (None, 256)               0         \n",
            "_________________________________________________________________\n",
            "dense_19 (Dense)             (None, 256)               65792     \n",
            "_________________________________________________________________\n",
            "dropout_1 (Dropout)          (None, 256)               0         \n",
            "_________________________________________________________________\n",
            "dense_20 (Dense)             (None, 128)               32896     \n",
            "_________________________________________________________________\n",
            "dropout_2 (Dropout)          (None, 128)               0         \n",
            "_________________________________________________________________\n",
            "dense_21 (Dense)             (None, 128)               16512     \n",
            "_________________________________________________________________\n",
            "dropout_3 (Dropout)          (None, 128)               0         \n",
            "_________________________________________________________________\n",
            "dense_22 (Dense)             (None, 10)                1290      \n",
            "=================================================================\n",
            "Total params: 317,450\n",
            "Trainable params: 317,450\n",
            "Non-trainable params: 0\n",
            "_________________________________________________________________\n"
          ],
          "name": "stdout"
        }
      ]
    },
    {
      "cell_type": "code",
      "metadata": {
        "colab_type": "code",
        "id": "HCcq8aCHipD7",
        "colab": {}
      },
      "source": [
        "do_model.compile(optimizer=keras.optimizers.Adam(learning_rate),\n",
        "                 loss = 'categorical_crossentropy',\n",
        "                 metrics=['accuracy'])"
      ],
      "execution_count": 0,
      "outputs": []
    },
    {
      "cell_type": "code",
      "metadata": {
        "colab_type": "code",
        "id": "1mKoA7PQisdX",
        "outputId": "fff5b6ec-7605-413b-eda8-7f7fef98483f",
        "colab": {
          "base_uri": "https://localhost:8080/",
          "height": 804
        }
      },
      "source": [
        "history = do_model.fit(train_dataset, epochs=training_epochs, steps_per_epoch=steps_per_epoch, \n",
        "                    validation_data=test_dataset, validation_steps=validation_steps)"
      ],
      "execution_count": 58,
      "outputs": [
        {
          "output_type": "stream",
          "text": [
            "Train for 600 steps, validate for 100 steps\n",
            "Epoch 1/20\n",
            "600/600 [==============================] - 3s 5ms/step - loss: 0.4456 - accuracy: 0.8625 - val_loss: 0.1436 - val_accuracy: 0.9580\n",
            "Epoch 2/20\n",
            "600/600 [==============================] - 2s 4ms/step - loss: 0.1865 - accuracy: 0.9482 - val_loss: 0.1070 - val_accuracy: 0.9691\n",
            "Epoch 3/20\n",
            "600/600 [==============================] - 2s 4ms/step - loss: 0.1467 - accuracy: 0.9591 - val_loss: 0.0965 - val_accuracy: 0.9716\n",
            "Epoch 4/20\n",
            "600/600 [==============================] - 2s 4ms/step - loss: 0.1237 - accuracy: 0.9655 - val_loss: 0.0873 - val_accuracy: 0.9747\n",
            "Epoch 5/20\n",
            "600/600 [==============================] - 2s 4ms/step - loss: 0.1069 - accuracy: 0.9702 - val_loss: 0.0843 - val_accuracy: 0.9747\n",
            "Epoch 6/20\n",
            "600/600 [==============================] - 2s 4ms/step - loss: 0.0946 - accuracy: 0.9728 - val_loss: 0.0767 - val_accuracy: 0.9778\n",
            "Epoch 7/20\n",
            "600/600 [==============================] - 2s 4ms/step - loss: 0.0867 - accuracy: 0.9755 - val_loss: 0.0793 - val_accuracy: 0.9771\n",
            "Epoch 8/20\n",
            "600/600 [==============================] - 2s 4ms/step - loss: 0.0801 - accuracy: 0.9771 - val_loss: 0.0726 - val_accuracy: 0.9790\n",
            "Epoch 9/20\n",
            "600/600 [==============================] - 2s 4ms/step - loss: 0.0723 - accuracy: 0.9794 - val_loss: 0.0715 - val_accuracy: 0.9814\n",
            "Epoch 10/20\n",
            "600/600 [==============================] - 2s 4ms/step - loss: 0.0701 - accuracy: 0.9796 - val_loss: 0.0703 - val_accuracy: 0.9795\n",
            "Epoch 11/20\n",
            "600/600 [==============================] - 2s 4ms/step - loss: 0.0669 - accuracy: 0.9805 - val_loss: 0.0687 - val_accuracy: 0.9817\n",
            "Epoch 12/20\n",
            "600/600 [==============================] - 2s 4ms/step - loss: 0.0591 - accuracy: 0.9826 - val_loss: 0.0707 - val_accuracy: 0.9808\n",
            "Epoch 13/20\n",
            "600/600 [==============================] - 2s 4ms/step - loss: 0.0601 - accuracy: 0.9827 - val_loss: 0.0714 - val_accuracy: 0.9810\n",
            "Epoch 14/20\n",
            "600/600 [==============================] - 2s 4ms/step - loss: 0.0569 - accuracy: 0.9835 - val_loss: 0.0650 - val_accuracy: 0.9818\n",
            "Epoch 15/20\n",
            "600/600 [==============================] - 2s 4ms/step - loss: 0.0527 - accuracy: 0.9844 - val_loss: 0.0627 - val_accuracy: 0.9835\n",
            "Epoch 16/20\n",
            "600/600 [==============================] - 2s 4ms/step - loss: 0.0490 - accuracy: 0.9850 - val_loss: 0.0741 - val_accuracy: 0.9817\n",
            "Epoch 17/20\n",
            "600/600 [==============================] - 2s 4ms/step - loss: 0.0508 - accuracy: 0.9852 - val_loss: 0.0765 - val_accuracy: 0.9811\n",
            "Epoch 18/20\n",
            "600/600 [==============================] - 2s 4ms/step - loss: 0.0487 - accuracy: 0.9859 - val_loss: 0.0750 - val_accuracy: 0.9810\n",
            "Epoch 19/20\n",
            "600/600 [==============================] - 2s 4ms/step - loss: 0.0454 - accuracy: 0.9868 - val_loss: 0.0666 - val_accuracy: 0.9828\n",
            "Epoch 20/20\n",
            "600/600 [==============================] - 2s 4ms/step - loss: 0.0438 - accuracy: 0.9872 - val_loss: 0.0718 - val_accuracy: 0.9826\n"
          ],
          "name": "stdout"
        }
      ]
    },
    {
      "cell_type": "markdown",
      "metadata": {
        "colab_type": "text",
        "id": "o4Gwn7Ohke_0"
      },
      "source": [
        "## Weight Decay (L2 Regulrarization)"
      ]
    },
    {
      "cell_type": "code",
      "metadata": {
        "colab_type": "code",
        "id": "498WlMinivuh",
        "colab": {}
      },
      "source": [
        "reg_weight = 0.0002\n",
        "\n",
        "def create_l2r_model():\n",
        "    model = keras.Sequential()\n",
        "    model.add(keras.layers.Flatten(input_shape=(28,28)))\n",
        "    model.add(keras.layers.Dense(256, activation='relu',\n",
        "                                kernel_regularizer=keras.regularizers.l2(reg_weight)))\n",
        "    model.add(keras.layers.Dense(256, activation='relu',\n",
        "                                kernel_regularizer=keras.regularizers.l2(reg_weight)))\n",
        "    model.add(keras.layers.Dense(128, activation='relu',\n",
        "                                kernel_regularizer=keras.regularizers.l2(reg_weight)))\n",
        "    model.add(keras.layers.Dense(128, activation='relu',\n",
        "                                kernel_regularizer=keras.regularizers.l2(reg_weight)))    \n",
        "    model.add(keras.layers.Dense(10, activation='softmax',\n",
        "                                kernel_regularizer=keras.regularizers.l2(reg_weight)))\n",
        "    return model"
      ],
      "execution_count": 0,
      "outputs": []
    },
    {
      "cell_type": "code",
      "metadata": {
        "colab_type": "code",
        "id": "oaAVX1tKi684",
        "outputId": "423fdf70-02dd-41c6-e468-a818dfe18f16",
        "colab": {
          "base_uri": "https://localhost:8080/",
          "height": 401
        }
      },
      "source": [
        "l2r_model = create_l2r_model()\n",
        "l2r_model.summary()"
      ],
      "execution_count": 60,
      "outputs": [
        {
          "output_type": "stream",
          "text": [
            "Model: \"sequential_7\"\n",
            "_________________________________________________________________\n",
            "Layer (type)                 Output Shape              Param #   \n",
            "=================================================================\n",
            "flatten_7 (Flatten)          (None, 784)               0         \n",
            "_________________________________________________________________\n",
            "dense_23 (Dense)             (None, 256)               200960    \n",
            "_________________________________________________________________\n",
            "dense_24 (Dense)             (None, 256)               65792     \n",
            "_________________________________________________________________\n",
            "dense_25 (Dense)             (None, 128)               32896     \n",
            "_________________________________________________________________\n",
            "dense_26 (Dense)             (None, 128)               16512     \n",
            "_________________________________________________________________\n",
            "dense_27 (Dense)             (None, 10)                1290      \n",
            "=================================================================\n",
            "Total params: 317,450\n",
            "Trainable params: 317,450\n",
            "Non-trainable params: 0\n",
            "_________________________________________________________________\n"
          ],
          "name": "stdout"
        }
      ]
    },
    {
      "cell_type": "code",
      "metadata": {
        "colab_type": "code",
        "id": "aA44lA68i_Jr",
        "colab": {}
      },
      "source": [
        "l2r_model.compile(optimizer=keras.optimizers.Adam(learning_rate),\n",
        "                 loss = 'categorical_crossentropy',\n",
        "                 metrics=['accuracy'])"
      ],
      "execution_count": 0,
      "outputs": []
    },
    {
      "cell_type": "code",
      "metadata": {
        "colab_type": "code",
        "id": "z8WeyIGjjCDV",
        "outputId": "64d45a5c-7a87-4f62-e5bb-515c80889a4d",
        "colab": {
          "base_uri": "https://localhost:8080/",
          "height": 804
        }
      },
      "source": [
        "history = l2r_model.fit(train_dataset, epochs=training_epochs, steps_per_epoch=steps_per_epoch, \n",
        "                    validation_data=test_dataset, validation_steps=validation_steps)"
      ],
      "execution_count": 63,
      "outputs": [
        {
          "output_type": "stream",
          "text": [
            "Train for 600 steps, validate for 100 steps\n",
            "Epoch 1/20\n",
            "600/600 [==============================] - 3s 5ms/step - loss: 0.3931 - accuracy: 0.9233 - val_loss: 0.2791 - val_accuracy: 0.9531\n",
            "Epoch 2/20\n",
            "600/600 [==============================] - 2s 4ms/step - loss: 0.2261 - accuracy: 0.9676 - val_loss: 0.2089 - val_accuracy: 0.9703\n",
            "Epoch 3/20\n",
            "600/600 [==============================] - 2s 4ms/step - loss: 0.1882 - accuracy: 0.9761 - val_loss: 0.1942 - val_accuracy: 0.9718\n",
            "Epoch 4/20\n",
            "600/600 [==============================] - 2s 4ms/step - loss: 0.1640 - accuracy: 0.9797 - val_loss: 0.1860 - val_accuracy: 0.9731\n",
            "Epoch 5/20\n",
            "600/600 [==============================] - 2s 4ms/step - loss: 0.1503 - accuracy: 0.9829 - val_loss: 0.1651 - val_accuracy: 0.9772\n",
            "Epoch 6/20\n",
            "600/600 [==============================] - 2s 4ms/step - loss: 0.1401 - accuracy: 0.9842 - val_loss: 0.1589 - val_accuracy: 0.9785\n",
            "Epoch 7/20\n",
            "600/600 [==============================] - 2s 4ms/step - loss: 0.1306 - accuracy: 0.9849 - val_loss: 0.1619 - val_accuracy: 0.9763\n",
            "Epoch 8/20\n",
            "600/600 [==============================] - 2s 4ms/step - loss: 0.1228 - accuracy: 0.9865 - val_loss: 0.1486 - val_accuracy: 0.9789\n",
            "Epoch 9/20\n",
            "600/600 [==============================] - 2s 4ms/step - loss: 0.1157 - accuracy: 0.9881 - val_loss: 0.1425 - val_accuracy: 0.9801\n",
            "Epoch 10/20\n",
            "600/600 [==============================] - 2s 4ms/step - loss: 0.1136 - accuracy: 0.9875 - val_loss: 0.1538 - val_accuracy: 0.9766\n",
            "Epoch 11/20\n",
            "600/600 [==============================] - 2s 4ms/step - loss: 0.1074 - accuracy: 0.9887 - val_loss: 0.1365 - val_accuracy: 0.9819\n",
            "Epoch 12/20\n",
            "600/600 [==============================] - 2s 4ms/step - loss: 0.1027 - accuracy: 0.9898 - val_loss: 0.1376 - val_accuracy: 0.9802\n",
            "Epoch 13/20\n",
            "600/600 [==============================] - 2s 4ms/step - loss: 0.1030 - accuracy: 0.9891 - val_loss: 0.1425 - val_accuracy: 0.9783\n",
            "Epoch 14/20\n",
            "600/600 [==============================] - 2s 4ms/step - loss: 0.0992 - accuracy: 0.9898 - val_loss: 0.1357 - val_accuracy: 0.9800\n",
            "Epoch 15/20\n",
            "600/600 [==============================] - 2s 4ms/step - loss: 0.0957 - accuracy: 0.9903 - val_loss: 0.1343 - val_accuracy: 0.9802\n",
            "Epoch 16/20\n",
            "600/600 [==============================] - 2s 4ms/step - loss: 0.0953 - accuracy: 0.9905 - val_loss: 0.1355 - val_accuracy: 0.9811\n",
            "Epoch 17/20\n",
            "600/600 [==============================] - 2s 4ms/step - loss: 0.0922 - accuracy: 0.9912 - val_loss: 0.1543 - val_accuracy: 0.9760\n",
            "Epoch 18/20\n",
            "600/600 [==============================] - 2s 4ms/step - loss: 0.0924 - accuracy: 0.9903 - val_loss: 0.1403 - val_accuracy: 0.9779\n",
            "Epoch 19/20\n",
            "600/600 [==============================] - 2s 4ms/step - loss: 0.0908 - accuracy: 0.9912 - val_loss: 0.1447 - val_accuracy: 0.9780\n",
            "Epoch 20/20\n",
            "600/600 [==============================] - 2s 4ms/step - loss: 0.0862 - accuracy: 0.9926 - val_loss: 0.1335 - val_accuracy: 0.9805\n"
          ],
          "name": "stdout"
        }
      ]
    },
    {
      "cell_type": "markdown",
      "metadata": {
        "colab_type": "text",
        "id": "irML-8lUkkfG"
      },
      "source": [
        "## Batch Normalization"
      ]
    },
    {
      "cell_type": "code",
      "metadata": {
        "colab_type": "code",
        "id": "gNeYF10ejFGk",
        "colab": {}
      },
      "source": [
        "def create_bn_model():\n",
        "    model = keras.Sequential()\n",
        "    model.add(keras.layers.Flatten(input_shape=(28,28)))\n",
        "    model.add(keras.layers.Dense(256))\n",
        "    model.add(keras.layers.BatchNormalization())\n",
        "    model.add(keras.layers.ReLU())\n",
        "    model.add(keras.layers.Dense(256))\n",
        "    model.add(keras.layers.BatchNormalization())\n",
        "    model.add(keras.layers.ReLU())\n",
        "    model.add(keras.layers.Dense(128))\n",
        "    model.add(keras.layers.BatchNormalization())\n",
        "    model.add(keras.layers.ReLU())\n",
        "    model.add(keras.layers.Dense(128))\n",
        "    model.add(keras.layers.BatchNormalization())\n",
        "    model.add(keras.layers.ReLU())\n",
        "    model.add(keras.layers.Dense(10))\n",
        "    model.add(keras.layers.BatchNormalization())\n",
        "    model.add(keras.layers.Softmax())\n",
        "    return model"
      ],
      "execution_count": 0,
      "outputs": []
    },
    {
      "cell_type": "code",
      "metadata": {
        "colab_type": "code",
        "id": "yE7WPx0gjiCc",
        "outputId": "ee45d5ee-12fc-40e4-fc29-23e37dab46ad",
        "colab": {
          "base_uri": "https://localhost:8080/",
          "height": 785
        }
      },
      "source": [
        "bn_model = create_bn_model()\n",
        "bn_model.summary()"
      ],
      "execution_count": 65,
      "outputs": [
        {
          "output_type": "stream",
          "text": [
            "Model: \"sequential_8\"\n",
            "_________________________________________________________________\n",
            "Layer (type)                 Output Shape              Param #   \n",
            "=================================================================\n",
            "flatten_8 (Flatten)          (None, 784)               0         \n",
            "_________________________________________________________________\n",
            "dense_28 (Dense)             (None, 256)               200960    \n",
            "_________________________________________________________________\n",
            "batch_normalization (BatchNo (None, 256)               1024      \n",
            "_________________________________________________________________\n",
            "re_lu (ReLU)                 (None, 256)               0         \n",
            "_________________________________________________________________\n",
            "dense_29 (Dense)             (None, 256)               65792     \n",
            "_________________________________________________________________\n",
            "batch_normalization_1 (Batch (None, 256)               1024      \n",
            "_________________________________________________________________\n",
            "re_lu_1 (ReLU)               (None, 256)               0         \n",
            "_________________________________________________________________\n",
            "dense_30 (Dense)             (None, 128)               32896     \n",
            "_________________________________________________________________\n",
            "batch_normalization_2 (Batch (None, 128)               512       \n",
            "_________________________________________________________________\n",
            "re_lu_2 (ReLU)               (None, 128)               0         \n",
            "_________________________________________________________________\n",
            "dense_31 (Dense)             (None, 128)               16512     \n",
            "_________________________________________________________________\n",
            "batch_normalization_3 (Batch (None, 128)               512       \n",
            "_________________________________________________________________\n",
            "re_lu_3 (ReLU)               (None, 128)               0         \n",
            "_________________________________________________________________\n",
            "dense_32 (Dense)             (None, 10)                1290      \n",
            "_________________________________________________________________\n",
            "batch_normalization_4 (Batch (None, 10)                40        \n",
            "_________________________________________________________________\n",
            "softmax (Softmax)            (None, 10)                0         \n",
            "=================================================================\n",
            "Total params: 320,562\n",
            "Trainable params: 319,006\n",
            "Non-trainable params: 1,556\n",
            "_________________________________________________________________\n"
          ],
          "name": "stdout"
        }
      ]
    },
    {
      "cell_type": "code",
      "metadata": {
        "colab_type": "code",
        "id": "vD-Oz2nhjmNS",
        "colab": {}
      },
      "source": [
        "bn_model.compile(optimizer=keras.optimizers.Adam(learning_rate),\n",
        "                 loss = 'categorical_crossentropy',\n",
        "                 metrics=['accuracy'])"
      ],
      "execution_count": 0,
      "outputs": []
    },
    {
      "cell_type": "code",
      "metadata": {
        "colab_type": "code",
        "id": "35Y_1qiijomM",
        "outputId": "5ae5d29f-33e8-4a06-c2e1-333fd446af36",
        "colab": {
          "base_uri": "https://localhost:8080/",
          "height": 804
        }
      },
      "source": [
        "history = bn_model.fit(train_dataset, epochs=training_epochs, steps_per_epoch=steps_per_epoch, \n",
        "                    validation_data=test_dataset, validation_steps=validation_steps)"
      ],
      "execution_count": 67,
      "outputs": [
        {
          "output_type": "stream",
          "text": [
            "Train for 600 steps, validate for 100 steps\n",
            "Epoch 1/20\n",
            "600/600 [==============================] - 5s 9ms/step - loss: 0.3813 - accuracy: 0.9381 - val_loss: 0.2014 - val_accuracy: 0.9692\n",
            "Epoch 2/20\n",
            "600/600 [==============================] - 4s 7ms/step - loss: 0.1624 - accuracy: 0.9719 - val_loss: 0.1230 - val_accuracy: 0.9728\n",
            "Epoch 3/20\n",
            "600/600 [==============================] - 4s 7ms/step - loss: 0.1054 - accuracy: 0.9799 - val_loss: 0.1045 - val_accuracy: 0.9742\n",
            "Epoch 4/20\n",
            "600/600 [==============================] - 4s 6ms/step - loss: 0.0738 - accuracy: 0.9848 - val_loss: 0.0803 - val_accuracy: 0.9794\n",
            "Epoch 5/20\n",
            "600/600 [==============================] - 4s 7ms/step - loss: 0.0596 - accuracy: 0.9863 - val_loss: 0.0930 - val_accuracy: 0.9754\n",
            "Epoch 6/20\n",
            "600/600 [==============================] - 4s 7ms/step - loss: 0.0479 - accuracy: 0.9885 - val_loss: 0.0715 - val_accuracy: 0.9801\n",
            "Epoch 7/20\n",
            "600/600 [==============================] - 4s 7ms/step - loss: 0.0383 - accuracy: 0.9909 - val_loss: 0.0754 - val_accuracy: 0.9787\n",
            "Epoch 8/20\n",
            "600/600 [==============================] - 4s 7ms/step - loss: 0.0345 - accuracy: 0.9911 - val_loss: 0.0774 - val_accuracy: 0.9780\n",
            "Epoch 9/20\n",
            "600/600 [==============================] - 4s 7ms/step - loss: 0.0277 - accuracy: 0.9926 - val_loss: 0.0710 - val_accuracy: 0.9817\n",
            "Epoch 10/20\n",
            "600/600 [==============================] - 4s 7ms/step - loss: 0.0258 - accuracy: 0.9935 - val_loss: 0.0635 - val_accuracy: 0.9818\n",
            "Epoch 11/20\n",
            "600/600 [==============================] - 4s 6ms/step - loss: 0.0216 - accuracy: 0.9942 - val_loss: 0.0644 - val_accuracy: 0.9833\n",
            "Epoch 12/20\n",
            "600/600 [==============================] - 4s 6ms/step - loss: 0.0205 - accuracy: 0.9942 - val_loss: 0.0700 - val_accuracy: 0.9811\n",
            "Epoch 13/20\n",
            "600/600 [==============================] - 4s 6ms/step - loss: 0.0179 - accuracy: 0.9949 - val_loss: 0.0756 - val_accuracy: 0.9796\n",
            "Epoch 14/20\n",
            "600/600 [==============================] - 4s 7ms/step - loss: 0.0171 - accuracy: 0.9950 - val_loss: 0.0658 - val_accuracy: 0.9814\n",
            "Epoch 15/20\n",
            "600/600 [==============================] - 4s 7ms/step - loss: 0.0165 - accuracy: 0.9951 - val_loss: 0.0598 - val_accuracy: 0.9822\n",
            "Epoch 16/20\n",
            "600/600 [==============================] - 4s 7ms/step - loss: 0.0150 - accuracy: 0.9955 - val_loss: 0.0754 - val_accuracy: 0.9792\n",
            "Epoch 17/20\n",
            "600/600 [==============================] - 4s 7ms/step - loss: 0.0122 - accuracy: 0.9966 - val_loss: 0.0624 - val_accuracy: 0.9831\n",
            "Epoch 18/20\n",
            "600/600 [==============================] - 4s 7ms/step - loss: 0.0129 - accuracy: 0.9963 - val_loss: 0.0606 - val_accuracy: 0.9841\n",
            "Epoch 19/20\n",
            "600/600 [==============================] - 4s 6ms/step - loss: 0.0122 - accuracy: 0.9965 - val_loss: 0.0693 - val_accuracy: 0.9818\n",
            "Epoch 20/20\n",
            "600/600 [==============================] - 4s 6ms/step - loss: 0.0113 - accuracy: 0.9966 - val_loss: 0.0717 - val_accuracy: 0.9825\n"
          ],
          "name": "stdout"
        }
      ]
    },
    {
      "cell_type": "markdown",
      "metadata": {
        "colab_type": "text",
        "id": "8kxIPIPlkuz1"
      },
      "source": [
        "## Learning Rate Decay"
      ]
    },
    {
      "cell_type": "code",
      "metadata": {
        "colab_type": "code",
        "id": "4fyYjZuajsS0",
        "outputId": "2c2aee2f-25ea-470c-c572-5474e99429f5",
        "colab": {
          "base_uri": "https://localhost:8080/",
          "height": 401
        }
      },
      "source": [
        "lr_decay_model = create_dmlp_model()\n",
        "lr_decay_model.summary()"
      ],
      "execution_count": 68,
      "outputs": [
        {
          "output_type": "stream",
          "text": [
            "Model: \"sequential_9\"\n",
            "_________________________________________________________________\n",
            "Layer (type)                 Output Shape              Param #   \n",
            "=================================================================\n",
            "flatten_9 (Flatten)          (None, 784)               0         \n",
            "_________________________________________________________________\n",
            "dense_33 (Dense)             (None, 256)               200960    \n",
            "_________________________________________________________________\n",
            "dense_34 (Dense)             (None, 256)               65792     \n",
            "_________________________________________________________________\n",
            "dense_35 (Dense)             (None, 128)               32896     \n",
            "_________________________________________________________________\n",
            "dense_36 (Dense)             (None, 128)               16512     \n",
            "_________________________________________________________________\n",
            "dense_37 (Dense)             (None, 10)                1290      \n",
            "=================================================================\n",
            "Total params: 317,450\n",
            "Trainable params: 317,450\n",
            "Non-trainable params: 0\n",
            "_________________________________________________________________\n"
          ],
          "name": "stdout"
        }
      ]
    },
    {
      "cell_type": "code",
      "metadata": {
        "colab_type": "code",
        "id": "9NPkdj28j8NC",
        "colab": {}
      },
      "source": [
        "lr_schedule = keras.optimizers.schedules.ExponentialDecay(initial_learning_rate=learning_rate,\n",
        "                                                          decay_steps=n_train//batch_size*10,\n",
        "                                                          decay_rate=0.5,\n",
        "                                                          staircase=True)"
      ],
      "execution_count": 0,
      "outputs": []
    },
    {
      "cell_type": "code",
      "metadata": {
        "colab_type": "code",
        "id": "M1j-pvySj-tv",
        "colab": {}
      },
      "source": [
        "lr_decay_model.compile(optimizer=keras.optimizers.Adam(lr_schedule),\n",
        "                 loss = 'categorical_crossentropy',\n",
        "                 metrics=['accuracy'])"
      ],
      "execution_count": 0,
      "outputs": []
    },
    {
      "cell_type": "code",
      "metadata": {
        "colab_type": "code",
        "id": "fmJleaw4kEpP",
        "outputId": "258bf60b-c45f-439b-d8b3-0f6ee5dae8bc",
        "colab": {
          "base_uri": "https://localhost:8080/",
          "height": 804
        }
      },
      "source": [
        "history = lr_decay_model.fit(train_dataset, epochs=training_epochs, steps_per_epoch=steps_per_epoch, \n",
        "                    validation_data=test_dataset, validation_steps=validation_steps)"
      ],
      "execution_count": 71,
      "outputs": [
        {
          "output_type": "stream",
          "text": [
            "Train for 600 steps, validate for 100 steps\n",
            "Epoch 1/20\n",
            "600/600 [==============================] - 3s 5ms/step - loss: 0.2491 - accuracy: 0.9258 - val_loss: 0.1143 - val_accuracy: 0.9630\n",
            "Epoch 2/20\n",
            "600/600 [==============================] - 2s 4ms/step - loss: 0.0931 - accuracy: 0.9710 - val_loss: 0.0986 - val_accuracy: 0.9709\n",
            "Epoch 3/20\n",
            "600/600 [==============================] - 2s 4ms/step - loss: 0.0670 - accuracy: 0.9793 - val_loss: 0.0818 - val_accuracy: 0.9763\n",
            "Epoch 4/20\n",
            "600/600 [==============================] - 2s 4ms/step - loss: 0.0497 - accuracy: 0.9837 - val_loss: 0.0760 - val_accuracy: 0.9771\n",
            "Epoch 5/20\n",
            "600/600 [==============================] - 2s 4ms/step - loss: 0.0385 - accuracy: 0.9877 - val_loss: 0.1184 - val_accuracy: 0.9659\n",
            "Epoch 6/20\n",
            "600/600 [==============================] - 2s 4ms/step - loss: 0.0305 - accuracy: 0.9903 - val_loss: 0.0784 - val_accuracy: 0.9771\n",
            "Epoch 7/20\n",
            "600/600 [==============================] - 2s 4ms/step - loss: 0.0282 - accuracy: 0.9908 - val_loss: 0.0839 - val_accuracy: 0.9779\n",
            "Epoch 8/20\n",
            "600/600 [==============================] - 2s 4ms/step - loss: 0.0252 - accuracy: 0.9920 - val_loss: 0.0921 - val_accuracy: 0.9774\n",
            "Epoch 9/20\n",
            "600/600 [==============================] - 2s 4ms/step - loss: 0.0231 - accuracy: 0.9926 - val_loss: 0.0792 - val_accuracy: 0.9800\n",
            "Epoch 10/20\n",
            "600/600 [==============================] - 2s 4ms/step - loss: 0.0181 - accuracy: 0.9943 - val_loss: 0.0952 - val_accuracy: 0.9771\n",
            "Epoch 11/20\n",
            "600/600 [==============================] - 2s 4ms/step - loss: 0.0063 - accuracy: 0.9981 - val_loss: 0.0769 - val_accuracy: 0.9830\n",
            "Epoch 12/20\n",
            "600/600 [==============================] - 2s 4ms/step - loss: 0.0026 - accuracy: 0.9993 - val_loss: 0.0815 - val_accuracy: 0.9834\n",
            "Epoch 13/20\n",
            "600/600 [==============================] - 2s 4ms/step - loss: 0.0022 - accuracy: 0.9994 - val_loss: 0.0865 - val_accuracy: 0.9838\n",
            "Epoch 14/20\n",
            "600/600 [==============================] - 2s 4ms/step - loss: 0.0073 - accuracy: 0.9978 - val_loss: 0.0872 - val_accuracy: 0.9813\n",
            "Epoch 15/20\n",
            "600/600 [==============================] - 2s 4ms/step - loss: 0.0048 - accuracy: 0.9984 - val_loss: 0.1126 - val_accuracy: 0.9789\n",
            "Epoch 16/20\n",
            "600/600 [==============================] - 2s 4ms/step - loss: 0.0064 - accuracy: 0.9977 - val_loss: 0.1070 - val_accuracy: 0.9810\n",
            "Epoch 17/20\n",
            "600/600 [==============================] - 2s 4ms/step - loss: 0.0036 - accuracy: 0.9990 - val_loss: 0.0989 - val_accuracy: 0.9817\n",
            "Epoch 18/20\n",
            "600/600 [==============================] - 2s 4ms/step - loss: 0.0030 - accuracy: 0.9992 - val_loss: 0.1236 - val_accuracy: 0.9779\n",
            "Epoch 19/20\n",
            "600/600 [==============================] - 2s 4ms/step - loss: 0.0073 - accuracy: 0.9976 - val_loss: 0.0882 - val_accuracy: 0.9821\n",
            "Epoch 20/20\n",
            "600/600 [==============================] - 2s 4ms/step - loss: 0.0021 - accuracy: 0.9994 - val_loss: 0.1039 - val_accuracy: 0.9814\n"
          ],
          "name": "stdout"
        }
      ]
    },
    {
      "cell_type": "code",
      "metadata": {
        "colab_type": "code",
        "id": "-JuDsyAekH28",
        "colab": {}
      },
      "source": [
        ""
      ],
      "execution_count": 0,
      "outputs": []
    }
  ]
}